{
 "cells": [
  {
   "cell_type": "markdown",
   "metadata": {},
   "source": [
    "# Data Challenge 1: Breast Cancer Cell Detection\n",
    "Susan Currie Sivek\n",
    "\n",
    "The assigned task is to develop a model that predicts whether a biopsied breast cell is benign (not harmful) or malignant (cancerous), given a set of attributes about the cell. \n",
    "\n",
    "The data provided are for 699 cells. Each has an ID number and an indicator for benign/malignant status. The following characteristics are also included and are each rated 1-10: clump thickness, uniformity of cell size, uniformity of cell shape, marginal adhesion, single epithelial cell size, bare nuclei, bland chromatin, normal nucleoli, and mitoses."
   ]
  },
  {
   "cell_type": "markdown",
   "metadata": {},
   "source": [
    "## Import and prepare data for exploration and analysis\n",
    "\n",
    "I'll read in the data CSV file provided and rename the columns, then verify everything looks OK and do the necessary cleanup."
   ]
  },
  {
   "cell_type": "code",
   "execution_count": 33,
   "metadata": {},
   "outputs": [],
   "source": [
    "# import necessary stuff\n",
    "\n",
    "import pandas as pd\n",
    "import matplotlib.pyplot as plt\n",
    "import numpy as np\n",
    "%matplotlib inline\n",
    "import seaborn as sns\n",
    "from sklearn import preprocessing\n",
    "from sklearn.model_selection import train_test_split\n",
    "from sklearn import metrics\n",
    "from sklearn.model_selection import cross_val_score\n",
    "\n",
    "np.random.seed(42) "
   ]
  },
  {
   "cell_type": "code",
   "execution_count": 34,
   "metadata": {},
   "outputs": [],
   "source": [
    "# read in data provided in CSV file\n",
    "df = pd.read_csv(\"/Users/ssivek/Insight_Projects/data_c/week6/data_challenge_1/breast-cancer-wisconsin.csv\", header=None)"
   ]
  },
  {
   "cell_type": "code",
   "execution_count": 35,
   "metadata": {},
   "outputs": [
    {
     "data": {
      "text/html": [
       "<div>\n",
       "<style scoped>\n",
       "    .dataframe tbody tr th:only-of-type {\n",
       "        vertical-align: middle;\n",
       "    }\n",
       "\n",
       "    .dataframe tbody tr th {\n",
       "        vertical-align: top;\n",
       "    }\n",
       "\n",
       "    .dataframe thead th {\n",
       "        text-align: right;\n",
       "    }\n",
       "</style>\n",
       "<table border=\"1\" class=\"dataframe\">\n",
       "  <thead>\n",
       "    <tr style=\"text-align: right;\">\n",
       "      <th></th>\n",
       "      <th>0</th>\n",
       "      <th>1</th>\n",
       "      <th>2</th>\n",
       "      <th>3</th>\n",
       "      <th>4</th>\n",
       "      <th>5</th>\n",
       "      <th>6</th>\n",
       "      <th>7</th>\n",
       "      <th>8</th>\n",
       "      <th>9</th>\n",
       "      <th>10</th>\n",
       "    </tr>\n",
       "  </thead>\n",
       "  <tbody>\n",
       "    <tr>\n",
       "      <th>0</th>\n",
       "      <td>1000025</td>\n",
       "      <td>5</td>\n",
       "      <td>1</td>\n",
       "      <td>1</td>\n",
       "      <td>1</td>\n",
       "      <td>2</td>\n",
       "      <td>1</td>\n",
       "      <td>3</td>\n",
       "      <td>1</td>\n",
       "      <td>1</td>\n",
       "      <td>2</td>\n",
       "    </tr>\n",
       "    <tr>\n",
       "      <th>1</th>\n",
       "      <td>1002945</td>\n",
       "      <td>5</td>\n",
       "      <td>4</td>\n",
       "      <td>4</td>\n",
       "      <td>5</td>\n",
       "      <td>7</td>\n",
       "      <td>10</td>\n",
       "      <td>3</td>\n",
       "      <td>2</td>\n",
       "      <td>1</td>\n",
       "      <td>2</td>\n",
       "    </tr>\n",
       "    <tr>\n",
       "      <th>2</th>\n",
       "      <td>1015425</td>\n",
       "      <td>3</td>\n",
       "      <td>1</td>\n",
       "      <td>1</td>\n",
       "      <td>1</td>\n",
       "      <td>2</td>\n",
       "      <td>2</td>\n",
       "      <td>3</td>\n",
       "      <td>1</td>\n",
       "      <td>1</td>\n",
       "      <td>2</td>\n",
       "    </tr>\n",
       "    <tr>\n",
       "      <th>3</th>\n",
       "      <td>1016277</td>\n",
       "      <td>6</td>\n",
       "      <td>8</td>\n",
       "      <td>8</td>\n",
       "      <td>1</td>\n",
       "      <td>3</td>\n",
       "      <td>4</td>\n",
       "      <td>3</td>\n",
       "      <td>7</td>\n",
       "      <td>1</td>\n",
       "      <td>2</td>\n",
       "    </tr>\n",
       "    <tr>\n",
       "      <th>4</th>\n",
       "      <td>1017023</td>\n",
       "      <td>4</td>\n",
       "      <td>1</td>\n",
       "      <td>1</td>\n",
       "      <td>3</td>\n",
       "      <td>2</td>\n",
       "      <td>1</td>\n",
       "      <td>3</td>\n",
       "      <td>1</td>\n",
       "      <td>1</td>\n",
       "      <td>2</td>\n",
       "    </tr>\n",
       "  </tbody>\n",
       "</table>\n",
       "</div>"
      ],
      "text/plain": [
       "        0   1   2   3   4   5   6   7   8   9   10\n",
       "0  1000025   5   1   1   1   2   1   3   1   1   2\n",
       "1  1002945   5   4   4   5   7  10   3   2   1   2\n",
       "2  1015425   3   1   1   1   2   2   3   1   1   2\n",
       "3  1016277   6   8   8   1   3   4   3   7   1   2\n",
       "4  1017023   4   1   1   3   2   1   3   1   1   2"
      ]
     },
     "execution_count": 35,
     "metadata": {},
     "output_type": "execute_result"
    }
   ],
   "source": [
    "df.head() # look at first five rows"
   ]
  },
  {
   "cell_type": "code",
   "execution_count": 36,
   "metadata": {},
   "outputs": [],
   "source": [
    "# name columns for easier reading\n",
    "df.columns = ['id', 'clump_thickness', 'uniformity_size', 'uniformity_shape', 'marginal_adhesion', 'single_cell_size', 'bare_nuclei', 'bland_chromatin', 'normal_nucleoli', 'mitoses', 'benign_malignant']"
   ]
  },
  {
   "cell_type": "code",
   "execution_count": 37,
   "metadata": {},
   "outputs": [],
   "source": [
    "df.set_index(['id'], inplace = True)"
   ]
  },
  {
   "cell_type": "code",
   "execution_count": 38,
   "metadata": {},
   "outputs": [
    {
     "data": {
      "text/html": [
       "<div>\n",
       "<style scoped>\n",
       "    .dataframe tbody tr th:only-of-type {\n",
       "        vertical-align: middle;\n",
       "    }\n",
       "\n",
       "    .dataframe tbody tr th {\n",
       "        vertical-align: top;\n",
       "    }\n",
       "\n",
       "    .dataframe thead th {\n",
       "        text-align: right;\n",
       "    }\n",
       "</style>\n",
       "<table border=\"1\" class=\"dataframe\">\n",
       "  <thead>\n",
       "    <tr style=\"text-align: right;\">\n",
       "      <th></th>\n",
       "      <th>clump_thickness</th>\n",
       "      <th>uniformity_size</th>\n",
       "      <th>uniformity_shape</th>\n",
       "      <th>marginal_adhesion</th>\n",
       "      <th>single_cell_size</th>\n",
       "      <th>bare_nuclei</th>\n",
       "      <th>bland_chromatin</th>\n",
       "      <th>normal_nucleoli</th>\n",
       "      <th>mitoses</th>\n",
       "      <th>benign_malignant</th>\n",
       "    </tr>\n",
       "    <tr>\n",
       "      <th>id</th>\n",
       "      <th></th>\n",
       "      <th></th>\n",
       "      <th></th>\n",
       "      <th></th>\n",
       "      <th></th>\n",
       "      <th></th>\n",
       "      <th></th>\n",
       "      <th></th>\n",
       "      <th></th>\n",
       "      <th></th>\n",
       "    </tr>\n",
       "  </thead>\n",
       "  <tbody>\n",
       "    <tr>\n",
       "      <th>1000025</th>\n",
       "      <td>5</td>\n",
       "      <td>1</td>\n",
       "      <td>1</td>\n",
       "      <td>1</td>\n",
       "      <td>2</td>\n",
       "      <td>1</td>\n",
       "      <td>3</td>\n",
       "      <td>1</td>\n",
       "      <td>1</td>\n",
       "      <td>2</td>\n",
       "    </tr>\n",
       "    <tr>\n",
       "      <th>1002945</th>\n",
       "      <td>5</td>\n",
       "      <td>4</td>\n",
       "      <td>4</td>\n",
       "      <td>5</td>\n",
       "      <td>7</td>\n",
       "      <td>10</td>\n",
       "      <td>3</td>\n",
       "      <td>2</td>\n",
       "      <td>1</td>\n",
       "      <td>2</td>\n",
       "    </tr>\n",
       "    <tr>\n",
       "      <th>1015425</th>\n",
       "      <td>3</td>\n",
       "      <td>1</td>\n",
       "      <td>1</td>\n",
       "      <td>1</td>\n",
       "      <td>2</td>\n",
       "      <td>2</td>\n",
       "      <td>3</td>\n",
       "      <td>1</td>\n",
       "      <td>1</td>\n",
       "      <td>2</td>\n",
       "    </tr>\n",
       "    <tr>\n",
       "      <th>1016277</th>\n",
       "      <td>6</td>\n",
       "      <td>8</td>\n",
       "      <td>8</td>\n",
       "      <td>1</td>\n",
       "      <td>3</td>\n",
       "      <td>4</td>\n",
       "      <td>3</td>\n",
       "      <td>7</td>\n",
       "      <td>1</td>\n",
       "      <td>2</td>\n",
       "    </tr>\n",
       "    <tr>\n",
       "      <th>1017023</th>\n",
       "      <td>4</td>\n",
       "      <td>1</td>\n",
       "      <td>1</td>\n",
       "      <td>3</td>\n",
       "      <td>2</td>\n",
       "      <td>1</td>\n",
       "      <td>3</td>\n",
       "      <td>1</td>\n",
       "      <td>1</td>\n",
       "      <td>2</td>\n",
       "    </tr>\n",
       "  </tbody>\n",
       "</table>\n",
       "</div>"
      ],
      "text/plain": [
       "         clump_thickness  uniformity_size  uniformity_shape  \\\n",
       "id                                                            \n",
       "1000025                5                1                 1   \n",
       "1002945                5                4                 4   \n",
       "1015425                3                1                 1   \n",
       "1016277                6                8                 8   \n",
       "1017023                4                1                 1   \n",
       "\n",
       "         marginal_adhesion  single_cell_size bare_nuclei  bland_chromatin  \\\n",
       "id                                                                          \n",
       "1000025                  1                 2           1                3   \n",
       "1002945                  5                 7          10                3   \n",
       "1015425                  1                 2           2                3   \n",
       "1016277                  1                 3           4                3   \n",
       "1017023                  3                 2           1                3   \n",
       "\n",
       "         normal_nucleoli  mitoses  benign_malignant  \n",
       "id                                                   \n",
       "1000025                1        1                 2  \n",
       "1002945                2        1                 2  \n",
       "1015425                1        1                 2  \n",
       "1016277                7        1                 2  \n",
       "1017023                1        1                 2  "
      ]
     },
     "execution_count": 38,
     "metadata": {},
     "output_type": "execute_result"
    }
   ],
   "source": [
    "df.head() # check the renaming"
   ]
  },
  {
   "cell_type": "code",
   "execution_count": 39,
   "metadata": {},
   "outputs": [
    {
     "data": {
      "text/plain": [
       "(699, 10)"
      ]
     },
     "execution_count": 39,
     "metadata": {},
     "output_type": "execute_result"
    }
   ],
   "source": [
    "df.shape # I have the right number of rows and columns"
   ]
  },
  {
   "cell_type": "code",
   "execution_count": 40,
   "metadata": {},
   "outputs": [
    {
     "name": "stdout",
     "output_type": "stream",
     "text": [
      "<class 'pandas.core.frame.DataFrame'>\n",
      "Int64Index: 699 entries, 1000025 to 897471\n",
      "Data columns (total 10 columns):\n",
      "clump_thickness      699 non-null int64\n",
      "uniformity_size      699 non-null int64\n",
      "uniformity_shape     699 non-null int64\n",
      "marginal_adhesion    699 non-null int64\n",
      "single_cell_size     699 non-null int64\n",
      "bare_nuclei          699 non-null object\n",
      "bland_chromatin      699 non-null int64\n",
      "normal_nucleoli      699 non-null int64\n",
      "mitoses              699 non-null int64\n",
      "benign_malignant     699 non-null int64\n",
      "dtypes: int64(9), object(1)\n",
      "memory usage: 60.1+ KB\n"
     ]
    }
   ],
   "source": [
    "df.info() # check data types"
   ]
  },
  {
   "cell_type": "markdown",
   "metadata": {},
   "source": [
    "I see that bare_nuclei is not an integer like the other features due to missing data. The bare_nuclei column shows up as an object instead of an integer because there are rows that have a '?' as their value."
   ]
  },
  {
   "cell_type": "code",
   "execution_count": 41,
   "metadata": {
    "scrolled": true
   },
   "outputs": [
    {
     "data": {
      "text/html": [
       "<div>\n",
       "<style scoped>\n",
       "    .dataframe tbody tr th:only-of-type {\n",
       "        vertical-align: middle;\n",
       "    }\n",
       "\n",
       "    .dataframe tbody tr th {\n",
       "        vertical-align: top;\n",
       "    }\n",
       "\n",
       "    .dataframe thead th {\n",
       "        text-align: right;\n",
       "    }\n",
       "</style>\n",
       "<table border=\"1\" class=\"dataframe\">\n",
       "  <thead>\n",
       "    <tr style=\"text-align: right;\">\n",
       "      <th></th>\n",
       "      <th>clump_thickness</th>\n",
       "      <th>uniformity_size</th>\n",
       "      <th>uniformity_shape</th>\n",
       "      <th>marginal_adhesion</th>\n",
       "      <th>single_cell_size</th>\n",
       "      <th>bare_nuclei</th>\n",
       "      <th>bland_chromatin</th>\n",
       "      <th>normal_nucleoli</th>\n",
       "      <th>mitoses</th>\n",
       "      <th>benign_malignant</th>\n",
       "    </tr>\n",
       "    <tr>\n",
       "      <th>id</th>\n",
       "      <th></th>\n",
       "      <th></th>\n",
       "      <th></th>\n",
       "      <th></th>\n",
       "      <th></th>\n",
       "      <th></th>\n",
       "      <th></th>\n",
       "      <th></th>\n",
       "      <th></th>\n",
       "      <th></th>\n",
       "    </tr>\n",
       "  </thead>\n",
       "  <tbody>\n",
       "    <tr>\n",
       "      <th>1057013</th>\n",
       "      <td>8</td>\n",
       "      <td>4</td>\n",
       "      <td>5</td>\n",
       "      <td>1</td>\n",
       "      <td>2</td>\n",
       "      <td>?</td>\n",
       "      <td>7</td>\n",
       "      <td>3</td>\n",
       "      <td>1</td>\n",
       "      <td>4</td>\n",
       "    </tr>\n",
       "    <tr>\n",
       "      <th>1096800</th>\n",
       "      <td>6</td>\n",
       "      <td>6</td>\n",
       "      <td>6</td>\n",
       "      <td>9</td>\n",
       "      <td>6</td>\n",
       "      <td>?</td>\n",
       "      <td>7</td>\n",
       "      <td>8</td>\n",
       "      <td>1</td>\n",
       "      <td>2</td>\n",
       "    </tr>\n",
       "    <tr>\n",
       "      <th>1183246</th>\n",
       "      <td>1</td>\n",
       "      <td>1</td>\n",
       "      <td>1</td>\n",
       "      <td>1</td>\n",
       "      <td>1</td>\n",
       "      <td>?</td>\n",
       "      <td>2</td>\n",
       "      <td>1</td>\n",
       "      <td>1</td>\n",
       "      <td>2</td>\n",
       "    </tr>\n",
       "    <tr>\n",
       "      <th>1184840</th>\n",
       "      <td>1</td>\n",
       "      <td>1</td>\n",
       "      <td>3</td>\n",
       "      <td>1</td>\n",
       "      <td>2</td>\n",
       "      <td>?</td>\n",
       "      <td>2</td>\n",
       "      <td>1</td>\n",
       "      <td>1</td>\n",
       "      <td>2</td>\n",
       "    </tr>\n",
       "    <tr>\n",
       "      <th>1193683</th>\n",
       "      <td>1</td>\n",
       "      <td>1</td>\n",
       "      <td>2</td>\n",
       "      <td>1</td>\n",
       "      <td>3</td>\n",
       "      <td>?</td>\n",
       "      <td>1</td>\n",
       "      <td>1</td>\n",
       "      <td>1</td>\n",
       "      <td>2</td>\n",
       "    </tr>\n",
       "    <tr>\n",
       "      <th>1197510</th>\n",
       "      <td>5</td>\n",
       "      <td>1</td>\n",
       "      <td>1</td>\n",
       "      <td>1</td>\n",
       "      <td>2</td>\n",
       "      <td>?</td>\n",
       "      <td>3</td>\n",
       "      <td>1</td>\n",
       "      <td>1</td>\n",
       "      <td>2</td>\n",
       "    </tr>\n",
       "    <tr>\n",
       "      <th>1241232</th>\n",
       "      <td>3</td>\n",
       "      <td>1</td>\n",
       "      <td>4</td>\n",
       "      <td>1</td>\n",
       "      <td>2</td>\n",
       "      <td>?</td>\n",
       "      <td>3</td>\n",
       "      <td>1</td>\n",
       "      <td>1</td>\n",
       "      <td>2</td>\n",
       "    </tr>\n",
       "    <tr>\n",
       "      <th>169356</th>\n",
       "      <td>3</td>\n",
       "      <td>1</td>\n",
       "      <td>1</td>\n",
       "      <td>1</td>\n",
       "      <td>2</td>\n",
       "      <td>?</td>\n",
       "      <td>3</td>\n",
       "      <td>1</td>\n",
       "      <td>1</td>\n",
       "      <td>2</td>\n",
       "    </tr>\n",
       "    <tr>\n",
       "      <th>432809</th>\n",
       "      <td>3</td>\n",
       "      <td>1</td>\n",
       "      <td>3</td>\n",
       "      <td>1</td>\n",
       "      <td>2</td>\n",
       "      <td>?</td>\n",
       "      <td>2</td>\n",
       "      <td>1</td>\n",
       "      <td>1</td>\n",
       "      <td>2</td>\n",
       "    </tr>\n",
       "    <tr>\n",
       "      <th>563649</th>\n",
       "      <td>8</td>\n",
       "      <td>8</td>\n",
       "      <td>8</td>\n",
       "      <td>1</td>\n",
       "      <td>2</td>\n",
       "      <td>?</td>\n",
       "      <td>6</td>\n",
       "      <td>10</td>\n",
       "      <td>1</td>\n",
       "      <td>4</td>\n",
       "    </tr>\n",
       "    <tr>\n",
       "      <th>606140</th>\n",
       "      <td>1</td>\n",
       "      <td>1</td>\n",
       "      <td>1</td>\n",
       "      <td>1</td>\n",
       "      <td>2</td>\n",
       "      <td>?</td>\n",
       "      <td>2</td>\n",
       "      <td>1</td>\n",
       "      <td>1</td>\n",
       "      <td>2</td>\n",
       "    </tr>\n",
       "    <tr>\n",
       "      <th>61634</th>\n",
       "      <td>5</td>\n",
       "      <td>4</td>\n",
       "      <td>3</td>\n",
       "      <td>1</td>\n",
       "      <td>2</td>\n",
       "      <td>?</td>\n",
       "      <td>2</td>\n",
       "      <td>3</td>\n",
       "      <td>1</td>\n",
       "      <td>2</td>\n",
       "    </tr>\n",
       "    <tr>\n",
       "      <th>704168</th>\n",
       "      <td>4</td>\n",
       "      <td>6</td>\n",
       "      <td>5</td>\n",
       "      <td>6</td>\n",
       "      <td>7</td>\n",
       "      <td>?</td>\n",
       "      <td>4</td>\n",
       "      <td>9</td>\n",
       "      <td>1</td>\n",
       "      <td>2</td>\n",
       "    </tr>\n",
       "    <tr>\n",
       "      <th>733639</th>\n",
       "      <td>3</td>\n",
       "      <td>1</td>\n",
       "      <td>1</td>\n",
       "      <td>1</td>\n",
       "      <td>2</td>\n",
       "      <td>?</td>\n",
       "      <td>3</td>\n",
       "      <td>1</td>\n",
       "      <td>1</td>\n",
       "      <td>2</td>\n",
       "    </tr>\n",
       "    <tr>\n",
       "      <th>1238464</th>\n",
       "      <td>1</td>\n",
       "      <td>1</td>\n",
       "      <td>1</td>\n",
       "      <td>1</td>\n",
       "      <td>1</td>\n",
       "      <td>?</td>\n",
       "      <td>2</td>\n",
       "      <td>1</td>\n",
       "      <td>1</td>\n",
       "      <td>2</td>\n",
       "    </tr>\n",
       "    <tr>\n",
       "      <th>1057067</th>\n",
       "      <td>1</td>\n",
       "      <td>1</td>\n",
       "      <td>1</td>\n",
       "      <td>1</td>\n",
       "      <td>1</td>\n",
       "      <td>?</td>\n",
       "      <td>1</td>\n",
       "      <td>1</td>\n",
       "      <td>1</td>\n",
       "      <td>2</td>\n",
       "    </tr>\n",
       "  </tbody>\n",
       "</table>\n",
       "</div>"
      ],
      "text/plain": [
       "         clump_thickness  uniformity_size  uniformity_shape  \\\n",
       "id                                                            \n",
       "1057013                8                4                 5   \n",
       "1096800                6                6                 6   \n",
       "1183246                1                1                 1   \n",
       "1184840                1                1                 3   \n",
       "1193683                1                1                 2   \n",
       "1197510                5                1                 1   \n",
       "1241232                3                1                 4   \n",
       "169356                 3                1                 1   \n",
       "432809                 3                1                 3   \n",
       "563649                 8                8                 8   \n",
       "606140                 1                1                 1   \n",
       "61634                  5                4                 3   \n",
       "704168                 4                6                 5   \n",
       "733639                 3                1                 1   \n",
       "1238464                1                1                 1   \n",
       "1057067                1                1                 1   \n",
       "\n",
       "         marginal_adhesion  single_cell_size bare_nuclei  bland_chromatin  \\\n",
       "id                                                                          \n",
       "1057013                  1                 2           ?                7   \n",
       "1096800                  9                 6           ?                7   \n",
       "1183246                  1                 1           ?                2   \n",
       "1184840                  1                 2           ?                2   \n",
       "1193683                  1                 3           ?                1   \n",
       "1197510                  1                 2           ?                3   \n",
       "1241232                  1                 2           ?                3   \n",
       "169356                   1                 2           ?                3   \n",
       "432809                   1                 2           ?                2   \n",
       "563649                   1                 2           ?                6   \n",
       "606140                   1                 2           ?                2   \n",
       "61634                    1                 2           ?                2   \n",
       "704168                   6                 7           ?                4   \n",
       "733639                   1                 2           ?                3   \n",
       "1238464                  1                 1           ?                2   \n",
       "1057067                  1                 1           ?                1   \n",
       "\n",
       "         normal_nucleoli  mitoses  benign_malignant  \n",
       "id                                                   \n",
       "1057013                3        1                 4  \n",
       "1096800                8        1                 2  \n",
       "1183246                1        1                 2  \n",
       "1184840                1        1                 2  \n",
       "1193683                1        1                 2  \n",
       "1197510                1        1                 2  \n",
       "1241232                1        1                 2  \n",
       "169356                 1        1                 2  \n",
       "432809                 1        1                 2  \n",
       "563649                10        1                 4  \n",
       "606140                 1        1                 2  \n",
       "61634                  3        1                 2  \n",
       "704168                 9        1                 2  \n",
       "733639                 1        1                 2  \n",
       "1238464                1        1                 2  \n",
       "1057067                1        1                 2  "
      ]
     },
     "execution_count": 41,
     "metadata": {},
     "output_type": "execute_result"
    }
   ],
   "source": [
    "df.loc[~df['bare_nuclei'].astype(str).str.isdigit()] # locate rows with '?' for bare_nuclei"
   ]
  },
  {
   "cell_type": "markdown",
   "metadata": {},
   "source": [
    "These rows are only about 2% of my entire dataset. Because I don't know the reason for these missing values, I will not impute values for them. I'll drop the rows with missing data and convert the bare_nuclei column to integer format. I'll also convert my categorical benign_malignant target variable to the category data type."
   ]
  },
  {
   "cell_type": "code",
   "execution_count": 42,
   "metadata": {},
   "outputs": [],
   "source": [
    "# convert bare_nuclei to integer format with NaN for '?'\n",
    "df['bare_nuclei'] = pd.to_numeric(df['bare_nuclei'], errors='coerce') "
   ]
  },
  {
   "cell_type": "code",
   "execution_count": 43,
   "metadata": {},
   "outputs": [],
   "source": [
    "df.dropna(how='any', axis=0, inplace=True) # delete rows with missing values for bare_nuclei"
   ]
  },
  {
   "cell_type": "code",
   "execution_count": 44,
   "metadata": {},
   "outputs": [
    {
     "name": "stdout",
     "output_type": "stream",
     "text": [
      "<class 'pandas.core.frame.DataFrame'>\n",
      "Int64Index: 683 entries, 1000025 to 897471\n",
      "Data columns (total 10 columns):\n",
      "clump_thickness      683 non-null int64\n",
      "uniformity_size      683 non-null int64\n",
      "uniformity_shape     683 non-null int64\n",
      "marginal_adhesion    683 non-null int64\n",
      "single_cell_size     683 non-null int64\n",
      "bare_nuclei          683 non-null int64\n",
      "bland_chromatin      683 non-null int64\n",
      "normal_nucleoli      683 non-null int64\n",
      "mitoses              683 non-null int64\n",
      "benign_malignant     683 non-null int64\n",
      "dtypes: int64(10)\n",
      "memory usage: 58.7 KB\n"
     ]
    }
   ],
   "source": [
    "df.bare_nuclei = df.bare_nuclei.astype(np.int64) # conversion to integer\n",
    "df.benign_malignant = df.benign_malignant.replace(2, 0)\n",
    "df.benign_malignant = df.benign_malignant.replace(4, 1)\n",
    "df.info() # conversions and deletions successful; now 683 rows"
   ]
  },
  {
   "cell_type": "code",
   "execution_count": 45,
   "metadata": {},
   "outputs": [
    {
     "data": {
      "text/html": [
       "<div>\n",
       "<style scoped>\n",
       "    .dataframe tbody tr th:only-of-type {\n",
       "        vertical-align: middle;\n",
       "    }\n",
       "\n",
       "    .dataframe tbody tr th {\n",
       "        vertical-align: top;\n",
       "    }\n",
       "\n",
       "    .dataframe thead th {\n",
       "        text-align: right;\n",
       "    }\n",
       "</style>\n",
       "<table border=\"1\" class=\"dataframe\">\n",
       "  <thead>\n",
       "    <tr style=\"text-align: right;\">\n",
       "      <th></th>\n",
       "      <th>clump_thickness</th>\n",
       "      <th>uniformity_size</th>\n",
       "      <th>uniformity_shape</th>\n",
       "      <th>marginal_adhesion</th>\n",
       "      <th>single_cell_size</th>\n",
       "      <th>bare_nuclei</th>\n",
       "      <th>bland_chromatin</th>\n",
       "      <th>normal_nucleoli</th>\n",
       "      <th>mitoses</th>\n",
       "      <th>benign_malignant</th>\n",
       "    </tr>\n",
       "    <tr>\n",
       "      <th>id</th>\n",
       "      <th></th>\n",
       "      <th></th>\n",
       "      <th></th>\n",
       "      <th></th>\n",
       "      <th></th>\n",
       "      <th></th>\n",
       "      <th></th>\n",
       "      <th></th>\n",
       "      <th></th>\n",
       "      <th></th>\n",
       "    </tr>\n",
       "  </thead>\n",
       "  <tbody>\n",
       "    <tr>\n",
       "      <th>1000025</th>\n",
       "      <td>5</td>\n",
       "      <td>1</td>\n",
       "      <td>1</td>\n",
       "      <td>1</td>\n",
       "      <td>2</td>\n",
       "      <td>1</td>\n",
       "      <td>3</td>\n",
       "      <td>1</td>\n",
       "      <td>1</td>\n",
       "      <td>0</td>\n",
       "    </tr>\n",
       "    <tr>\n",
       "      <th>1002945</th>\n",
       "      <td>5</td>\n",
       "      <td>4</td>\n",
       "      <td>4</td>\n",
       "      <td>5</td>\n",
       "      <td>7</td>\n",
       "      <td>10</td>\n",
       "      <td>3</td>\n",
       "      <td>2</td>\n",
       "      <td>1</td>\n",
       "      <td>0</td>\n",
       "    </tr>\n",
       "    <tr>\n",
       "      <th>1015425</th>\n",
       "      <td>3</td>\n",
       "      <td>1</td>\n",
       "      <td>1</td>\n",
       "      <td>1</td>\n",
       "      <td>2</td>\n",
       "      <td>2</td>\n",
       "      <td>3</td>\n",
       "      <td>1</td>\n",
       "      <td>1</td>\n",
       "      <td>0</td>\n",
       "    </tr>\n",
       "    <tr>\n",
       "      <th>1016277</th>\n",
       "      <td>6</td>\n",
       "      <td>8</td>\n",
       "      <td>8</td>\n",
       "      <td>1</td>\n",
       "      <td>3</td>\n",
       "      <td>4</td>\n",
       "      <td>3</td>\n",
       "      <td>7</td>\n",
       "      <td>1</td>\n",
       "      <td>0</td>\n",
       "    </tr>\n",
       "    <tr>\n",
       "      <th>1017023</th>\n",
       "      <td>4</td>\n",
       "      <td>1</td>\n",
       "      <td>1</td>\n",
       "      <td>3</td>\n",
       "      <td>2</td>\n",
       "      <td>1</td>\n",
       "      <td>3</td>\n",
       "      <td>1</td>\n",
       "      <td>1</td>\n",
       "      <td>0</td>\n",
       "    </tr>\n",
       "  </tbody>\n",
       "</table>\n",
       "</div>"
      ],
      "text/plain": [
       "         clump_thickness  uniformity_size  uniformity_shape  \\\n",
       "id                                                            \n",
       "1000025                5                1                 1   \n",
       "1002945                5                4                 4   \n",
       "1015425                3                1                 1   \n",
       "1016277                6                8                 8   \n",
       "1017023                4                1                 1   \n",
       "\n",
       "         marginal_adhesion  single_cell_size  bare_nuclei  bland_chromatin  \\\n",
       "id                                                                           \n",
       "1000025                  1                 2            1                3   \n",
       "1002945                  5                 7           10                3   \n",
       "1015425                  1                 2            2                3   \n",
       "1016277                  1                 3            4                3   \n",
       "1017023                  3                 2            1                3   \n",
       "\n",
       "         normal_nucleoli  mitoses  benign_malignant  \n",
       "id                                                   \n",
       "1000025                1        1                 0  \n",
       "1002945                2        1                 0  \n",
       "1015425                1        1                 0  \n",
       "1016277                7        1                 0  \n",
       "1017023                1        1                 0  "
      ]
     },
     "execution_count": 45,
     "metadata": {},
     "output_type": "execute_result"
    }
   ],
   "source": [
    "df.head() # good to go"
   ]
  },
  {
   "cell_type": "code",
   "execution_count": 46,
   "metadata": {},
   "outputs": [],
   "source": [
    "work = df # keep df as a clean copy to reuse later"
   ]
  },
  {
   "cell_type": "markdown",
   "metadata": {},
   "source": [
    "## Data Visualization and Exploration\n",
    "\n",
    "I'll first create some basic visualizations of the data and look for trends and correlations among the features."
   ]
  },
  {
   "cell_type": "code",
   "execution_count": 47,
   "metadata": {},
   "outputs": [
    {
     "data": {
      "text/plain": [
       "array([[<matplotlib.axes._subplots.AxesSubplot object at 0x1a20f8ccf8>,\n",
       "        <matplotlib.axes._subplots.AxesSubplot object at 0x1a20c1f5c0>,\n",
       "        <matplotlib.axes._subplots.AxesSubplot object at 0x1a208a3f60>],\n",
       "       [<matplotlib.axes._subplots.AxesSubplot object at 0x1a20548828>,\n",
       "        <matplotlib.axes._subplots.AxesSubplot object at 0x1a204404a8>,\n",
       "        <matplotlib.axes._subplots.AxesSubplot object at 0x1a1fdeeb70>],\n",
       "       [<matplotlib.axes._subplots.AxesSubplot object at 0x1a2009e9b0>,\n",
       "        <matplotlib.axes._subplots.AxesSubplot object at 0x1a1f9ff438>,\n",
       "        <matplotlib.axes._subplots.AxesSubplot object at 0x1a1f9ff518>],\n",
       "       [<matplotlib.axes._subplots.AxesSubplot object at 0x1a1f606c18>,\n",
       "        <matplotlib.axes._subplots.AxesSubplot object at 0x1a1f7be9e8>,\n",
       "        <matplotlib.axes._subplots.AxesSubplot object at 0x1a20290390>]],\n",
       "      dtype=object)"
      ]
     },
     "execution_count": 47,
     "metadata": {},
     "output_type": "execute_result"
    },
    {
     "data": {
      "image/png": "[encoded data removed]",
      "text/plain": [
       "<Figure size 720x720 with 12 Axes>"
      ]
     },
     "metadata": {
      "needs_background": "light"
     },
     "output_type": "display_data"
    }
   ],
   "source": [
    "work.hist(figsize=(10,10)) # histograms for all features (ignore id)"
   ]
  },
  {
   "cell_type": "markdown",
   "metadata": {},
   "source": [
    "I see from these histograms that there are perhaps twice as many benign samples in the dataset as malignant. Many of the features are strongly right skewed. There is more variation in bland chromatin and clump thickness. If I had more time to work on this data challenge, I would probably consider some sort of oversampling strategy to help alleviate the imbalances here."
   ]
  },
  {
   "cell_type": "code",
   "execution_count": 48,
   "metadata": {},
   "outputs": [
    {
     "data": {
      "text/html": [
       "<div>\n",
       "<style scoped>\n",
       "    .dataframe tbody tr th:only-of-type {\n",
       "        vertical-align: middle;\n",
       "    }\n",
       "\n",
       "    .dataframe tbody tr th {\n",
       "        vertical-align: top;\n",
       "    }\n",
       "\n",
       "    .dataframe thead th {\n",
       "        text-align: right;\n",
       "    }\n",
       "</style>\n",
       "<table border=\"1\" class=\"dataframe\">\n",
       "  <thead>\n",
       "    <tr style=\"text-align: right;\">\n",
       "      <th></th>\n",
       "      <th>clump_thickness</th>\n",
       "      <th>uniformity_size</th>\n",
       "      <th>uniformity_shape</th>\n",
       "      <th>marginal_adhesion</th>\n",
       "      <th>single_cell_size</th>\n",
       "      <th>bare_nuclei</th>\n",
       "      <th>bland_chromatin</th>\n",
       "      <th>normal_nucleoli</th>\n",
       "      <th>mitoses</th>\n",
       "      <th>benign_malignant</th>\n",
       "    </tr>\n",
       "  </thead>\n",
       "  <tbody>\n",
       "    <tr>\n",
       "      <th>count</th>\n",
       "      <td>683.000000</td>\n",
       "      <td>683.000000</td>\n",
       "      <td>683.000000</td>\n",
       "      <td>683.000000</td>\n",
       "      <td>683.000000</td>\n",
       "      <td>683.000000</td>\n",
       "      <td>683.000000</td>\n",
       "      <td>683.000000</td>\n",
       "      <td>683.000000</td>\n",
       "      <td>683.000000</td>\n",
       "    </tr>\n",
       "    <tr>\n",
       "      <th>mean</th>\n",
       "      <td>4.442167</td>\n",
       "      <td>3.150805</td>\n",
       "      <td>3.215227</td>\n",
       "      <td>2.830161</td>\n",
       "      <td>3.234261</td>\n",
       "      <td>3.544656</td>\n",
       "      <td>3.445095</td>\n",
       "      <td>2.869693</td>\n",
       "      <td>1.603221</td>\n",
       "      <td>0.349927</td>\n",
       "    </tr>\n",
       "    <tr>\n",
       "      <th>std</th>\n",
       "      <td>2.820761</td>\n",
       "      <td>3.065145</td>\n",
       "      <td>2.988581</td>\n",
       "      <td>2.864562</td>\n",
       "      <td>2.223085</td>\n",
       "      <td>3.643857</td>\n",
       "      <td>2.449697</td>\n",
       "      <td>3.052666</td>\n",
       "      <td>1.732674</td>\n",
       "      <td>0.477296</td>\n",
       "    </tr>\n",
       "    <tr>\n",
       "      <th>min</th>\n",
       "      <td>1.000000</td>\n",
       "      <td>1.000000</td>\n",
       "      <td>1.000000</td>\n",
       "      <td>1.000000</td>\n",
       "      <td>1.000000</td>\n",
       "      <td>1.000000</td>\n",
       "      <td>1.000000</td>\n",
       "      <td>1.000000</td>\n",
       "      <td>1.000000</td>\n",
       "      <td>0.000000</td>\n",
       "    </tr>\n",
       "    <tr>\n",
       "      <th>25%</th>\n",
       "      <td>2.000000</td>\n",
       "      <td>1.000000</td>\n",
       "      <td>1.000000</td>\n",
       "      <td>1.000000</td>\n",
       "      <td>2.000000</td>\n",
       "      <td>1.000000</td>\n",
       "      <td>2.000000</td>\n",
       "      <td>1.000000</td>\n",
       "      <td>1.000000</td>\n",
       "      <td>0.000000</td>\n",
       "    </tr>\n",
       "    <tr>\n",
       "      <th>50%</th>\n",
       "      <td>4.000000</td>\n",
       "      <td>1.000000</td>\n",
       "      <td>1.000000</td>\n",
       "      <td>1.000000</td>\n",
       "      <td>2.000000</td>\n",
       "      <td>1.000000</td>\n",
       "      <td>3.000000</td>\n",
       "      <td>1.000000</td>\n",
       "      <td>1.000000</td>\n",
       "      <td>0.000000</td>\n",
       "    </tr>\n",
       "    <tr>\n",
       "      <th>75%</th>\n",
       "      <td>6.000000</td>\n",
       "      <td>5.000000</td>\n",
       "      <td>5.000000</td>\n",
       "      <td>4.000000</td>\n",
       "      <td>4.000000</td>\n",
       "      <td>6.000000</td>\n",
       "      <td>5.000000</td>\n",
       "      <td>4.000000</td>\n",
       "      <td>1.000000</td>\n",
       "      <td>1.000000</td>\n",
       "    </tr>\n",
       "    <tr>\n",
       "      <th>max</th>\n",
       "      <td>10.000000</td>\n",
       "      <td>10.000000</td>\n",
       "      <td>10.000000</td>\n",
       "      <td>10.000000</td>\n",
       "      <td>10.000000</td>\n",
       "      <td>10.000000</td>\n",
       "      <td>10.000000</td>\n",
       "      <td>10.000000</td>\n",
       "      <td>10.000000</td>\n",
       "      <td>1.000000</td>\n",
       "    </tr>\n",
       "  </tbody>\n",
       "</table>\n",
       "</div>"
      ],
      "text/plain": [
       "       clump_thickness  uniformity_size  uniformity_shape  marginal_adhesion  \\\n",
       "count       683.000000       683.000000        683.000000         683.000000   \n",
       "mean          4.442167         3.150805          3.215227           2.830161   \n",
       "std           2.820761         3.065145          2.988581           2.864562   \n",
       "min           1.000000         1.000000          1.000000           1.000000   \n",
       "25%           2.000000         1.000000          1.000000           1.000000   \n",
       "50%           4.000000         1.000000          1.000000           1.000000   \n",
       "75%           6.000000         5.000000          5.000000           4.000000   \n",
       "max          10.000000        10.000000         10.000000          10.000000   \n",
       "\n",
       "       single_cell_size  bare_nuclei  bland_chromatin  normal_nucleoli  \\\n",
       "count        683.000000   683.000000       683.000000       683.000000   \n",
       "mean           3.234261     3.544656         3.445095         2.869693   \n",
       "std            2.223085     3.643857         2.449697         3.052666   \n",
       "min            1.000000     1.000000         1.000000         1.000000   \n",
       "25%            2.000000     1.000000         2.000000         1.000000   \n",
       "50%            2.000000     1.000000         3.000000         1.000000   \n",
       "75%            4.000000     6.000000         5.000000         4.000000   \n",
       "max           10.000000    10.000000        10.000000        10.000000   \n",
       "\n",
       "          mitoses  benign_malignant  \n",
       "count  683.000000        683.000000  \n",
       "mean     1.603221          0.349927  \n",
       "std      1.732674          0.477296  \n",
       "min      1.000000          0.000000  \n",
       "25%      1.000000          0.000000  \n",
       "50%      1.000000          0.000000  \n",
       "75%      1.000000          1.000000  \n",
       "max     10.000000          1.000000  "
      ]
     },
     "execution_count": 48,
     "metadata": {},
     "output_type": "execute_result"
    }
   ],
   "source": [
    "work.describe() # get basic info on all features"
   ]
  },
  {
   "cell_type": "code",
   "execution_count": 49,
   "metadata": {},
   "outputs": [
    {
     "data": {
      "text/html": [
       "<style  type=\"text/css\" >\n",
       "    #T_19f76efc_a188_11e9_882f_acbc3288e987row0_col0 {\n",
       "            background-color:  #b40426;\n",
       "            color:  #f1f1f1;\n",
       "        }    #T_19f76efc_a188_11e9_882f_acbc3288e987row0_col1 {\n",
       "            background-color:  #abc8fd;\n",
       "            color:  #000000;\n",
       "        }    #T_19f76efc_a188_11e9_882f_acbc3288e987row0_col2 {\n",
       "            background-color:  #bad0f8;\n",
       "            color:  #000000;\n",
       "        }    #T_19f76efc_a188_11e9_882f_acbc3288e987row0_col3 {\n",
       "            background-color:  #5f7fe8;\n",
       "            color:  #000000;\n",
       "        }    #T_19f76efc_a188_11e9_882f_acbc3288e987row0_col4 {\n",
       "            background-color:  #5470de;\n",
       "            color:  #000000;\n",
       "        }    #T_19f76efc_a188_11e9_882f_acbc3288e987row0_col5 {\n",
       "            background-color:  #bbd1f8;\n",
       "            color:  #000000;\n",
       "        }    #T_19f76efc_a188_11e9_882f_acbc3288e987row0_col6 {\n",
       "            background-color:  #a5c3fe;\n",
       "            color:  #000000;\n",
       "        }    #T_19f76efc_a188_11e9_882f_acbc3288e987row0_col7 {\n",
       "            background-color:  #7396f5;\n",
       "            color:  #000000;\n",
       "        }    #T_19f76efc_a188_11e9_882f_acbc3288e987row0_col8 {\n",
       "            background-color:  #3f53c6;\n",
       "            color:  #f1f1f1;\n",
       "        }    #T_19f76efc_a188_11e9_882f_acbc3288e987row0_col9 {\n",
       "            background-color:  #dedcdb;\n",
       "            color:  #000000;\n",
       "        }    #T_19f76efc_a188_11e9_882f_acbc3288e987row1_col0 {\n",
       "            background-color:  #cedaeb;\n",
       "            color:  #000000;\n",
       "        }    #T_19f76efc_a188_11e9_882f_acbc3288e987row1_col1 {\n",
       "            background-color:  #b40426;\n",
       "            color:  #f1f1f1;\n",
       "        }    #T_19f76efc_a188_11e9_882f_acbc3288e987row1_col2 {\n",
       "            background-color:  #e7745b;\n",
       "            color:  #000000;\n",
       "        }    #T_19f76efc_a188_11e9_882f_acbc3288e987row1_col3 {\n",
       "            background-color:  #dbdcde;\n",
       "            color:  #000000;\n",
       "        }    #T_19f76efc_a188_11e9_882f_acbc3288e987row1_col4 {\n",
       "            background-color:  #e3d9d3;\n",
       "            color:  #000000;\n",
       "        }    #T_19f76efc_a188_11e9_882f_acbc3288e987row1_col5 {\n",
       "            background-color:  #e5d8d1;\n",
       "            color:  #000000;\n",
       "        }    #T_19f76efc_a188_11e9_882f_acbc3288e987row1_col6 {\n",
       "            background-color:  #f5c4ac;\n",
       "            color:  #000000;\n",
       "        }    #T_19f76efc_a188_11e9_882f_acbc3288e987row1_col7 {\n",
       "            background-color:  #dedcdb;\n",
       "            color:  #000000;\n",
       "        }    #T_19f76efc_a188_11e9_882f_acbc3288e987row1_col8 {\n",
       "            background-color:  #7699f6;\n",
       "            color:  #000000;\n",
       "        }    #T_19f76efc_a188_11e9_882f_acbc3288e987row1_col9 {\n",
       "            background-color:  #f7b093;\n",
       "            color:  #000000;\n",
       "        }    #T_19f76efc_a188_11e9_882f_acbc3288e987row2_col0 {\n",
       "            background-color:  #d4dbe6;\n",
       "            color:  #000000;\n",
       "        }    #T_19f76efc_a188_11e9_882f_acbc3288e987row2_col1 {\n",
       "            background-color:  #e9785d;\n",
       "            color:  #000000;\n",
       "        }    #T_19f76efc_a188_11e9_882f_acbc3288e987row2_col2 {\n",
       "            background-color:  #b40426;\n",
       "            color:  #f1f1f1;\n",
       "        }    #T_19f76efc_a188_11e9_882f_acbc3288e987row2_col3 {\n",
       "            background-color:  #d2dbe8;\n",
       "            color:  #000000;\n",
       "        }    #T_19f76efc_a188_11e9_882f_acbc3288e987row2_col4 {\n",
       "            background-color:  #d4dbe6;\n",
       "            color:  #000000;\n",
       "        }    #T_19f76efc_a188_11e9_882f_acbc3288e987row2_col5 {\n",
       "            background-color:  #edd2c3;\n",
       "            color:  #000000;\n",
       "        }    #T_19f76efc_a188_11e9_882f_acbc3288e987row2_col6 {\n",
       "            background-color:  #f1ccb8;\n",
       "            color:  #000000;\n",
       "        }    #T_19f76efc_a188_11e9_882f_acbc3288e987row2_col7 {\n",
       "            background-color:  #dddcdc;\n",
       "            color:  #000000;\n",
       "        }    #T_19f76efc_a188_11e9_882f_acbc3288e987row2_col8 {\n",
       "            background-color:  #6b8df0;\n",
       "            color:  #000000;\n",
       "        }    #T_19f76efc_a188_11e9_882f_acbc3288e987row2_col9 {\n",
       "            background-color:  #f7b093;\n",
       "            color:  #000000;\n",
       "        }    #T_19f76efc_a188_11e9_882f_acbc3288e987row3_col0 {\n",
       "            background-color:  #7ea1fa;\n",
       "            color:  #000000;\n",
       "        }    #T_19f76efc_a188_11e9_882f_acbc3288e987row3_col1 {\n",
       "            background-color:  #d1dae9;\n",
       "            color:  #000000;\n",
       "        }    #T_19f76efc_a188_11e9_882f_acbc3288e987row3_col2 {\n",
       "            background-color:  #ccd9ed;\n",
       "            color:  #000000;\n",
       "        }    #T_19f76efc_a188_11e9_882f_acbc3288e987row3_col3 {\n",
       "            background-color:  #b40426;\n",
       "            color:  #f1f1f1;\n",
       "        }    #T_19f76efc_a188_11e9_882f_acbc3288e987row3_col4 {\n",
       "            background-color:  #82a6fb;\n",
       "            color:  #000000;\n",
       "        }    #T_19f76efc_a188_11e9_882f_acbc3288e987row3_col5 {\n",
       "            background-color:  #dddcdc;\n",
       "            color:  #000000;\n",
       "        }    #T_19f76efc_a188_11e9_882f_acbc3288e987row3_col6 {\n",
       "            background-color:  #dbdcde;\n",
       "            color:  #000000;\n",
       "        }    #T_19f76efc_a188_11e9_882f_acbc3288e987row3_col7 {\n",
       "            background-color:  #9ebeff;\n",
       "            color:  #000000;\n",
       "        }    #T_19f76efc_a188_11e9_882f_acbc3288e987row3_col8 {\n",
       "            background-color:  #5f7fe8;\n",
       "            color:  #000000;\n",
       "        }    #T_19f76efc_a188_11e9_882f_acbc3288e987row3_col9 {\n",
       "            background-color:  #dadce0;\n",
       "            color:  #000000;\n",
       "        }    #T_19f76efc_a188_11e9_882f_acbc3288e987row4_col0 {\n",
       "            background-color:  #93b5fe;\n",
       "            color:  #000000;\n",
       "        }    #T_19f76efc_a188_11e9_882f_acbc3288e987row4_col1 {\n",
       "            background-color:  #e7d7ce;\n",
       "            color:  #000000;\n",
       "        }    #T_19f76efc_a188_11e9_882f_acbc3288e987row4_col2 {\n",
       "            background-color:  #dddcdc;\n",
       "            color:  #000000;\n",
       "        }    #T_19f76efc_a188_11e9_882f_acbc3288e987row4_col3 {\n",
       "            background-color:  #9fbfff;\n",
       "            color:  #000000;\n",
       "        }    #T_19f76efc_a188_11e9_882f_acbc3288e987row4_col4 {\n",
       "            background-color:  #b40426;\n",
       "            color:  #f1f1f1;\n",
       "        }    #T_19f76efc_a188_11e9_882f_acbc3288e987row4_col5 {\n",
       "            background-color:  #b7cff9;\n",
       "            color:  #000000;\n",
       "        }    #T_19f76efc_a188_11e9_882f_acbc3288e987row4_col6 {\n",
       "            background-color:  #c5d6f2;\n",
       "            color:  #000000;\n",
       "        }    #T_19f76efc_a188_11e9_882f_acbc3288e987row4_col7 {\n",
       "            background-color:  #aec9fc;\n",
       "            color:  #000000;\n",
       "        }    #T_19f76efc_a188_11e9_882f_acbc3288e987row4_col8 {\n",
       "            background-color:  #80a3fa;\n",
       "            color:  #000000;\n",
       "        }    #T_19f76efc_a188_11e9_882f_acbc3288e987row4_col9 {\n",
       "            background-color:  #d3dbe7;\n",
       "            color:  #000000;\n",
       "        }    #T_19f76efc_a188_11e9_882f_acbc3288e987row5_col0 {\n",
       "            background-color:  #b7cff9;\n",
       "            color:  #000000;\n",
       "        }    #T_19f76efc_a188_11e9_882f_acbc3288e987row5_col1 {\n",
       "            background-color:  #c9d7f0;\n",
       "            color:  #000000;\n",
       "        }    #T_19f76efc_a188_11e9_882f_acbc3288e987row5_col2 {\n",
       "            background-color:  #d9dce1;\n",
       "            color:  #000000;\n",
       "        }    #T_19f76efc_a188_11e9_882f_acbc3288e987row5_col3 {\n",
       "            background-color:  #cad8ef;\n",
       "            color:  #000000;\n",
       "        }    #T_19f76efc_a188_11e9_882f_acbc3288e987row5_col4 {\n",
       "            background-color:  #7b9ff9;\n",
       "            color:  #000000;\n",
       "        }    #T_19f76efc_a188_11e9_882f_acbc3288e987row5_col5 {\n",
       "            background-color:  #b40426;\n",
       "            color:  #f1f1f1;\n",
       "        }    #T_19f76efc_a188_11e9_882f_acbc3288e987row5_col6 {\n",
       "            background-color:  #dfdbd9;\n",
       "            color:  #000000;\n",
       "        }    #T_19f76efc_a188_11e9_882f_acbc3288e987row5_col7 {\n",
       "            background-color:  #93b5fe;\n",
       "            color:  #000000;\n",
       "        }    #T_19f76efc_a188_11e9_882f_acbc3288e987row5_col8 {\n",
       "            background-color:  #3b4cc0;\n",
       "            color:  #f1f1f1;\n",
       "        }    #T_19f76efc_a188_11e9_882f_acbc3288e987row5_col9 {\n",
       "            background-color:  #f7af91;\n",
       "            color:  #000000;\n",
       "        }    #T_19f76efc_a188_11e9_882f_acbc3288e987row6_col0 {\n",
       "            background-color:  #a2c1ff;\n",
       "            color:  #000000;\n",
       "        }    #T_19f76efc_a188_11e9_882f_acbc3288e987row6_col1 {\n",
       "            background-color:  #e8d6cc;\n",
       "            color:  #000000;\n",
       "        }    #T_19f76efc_a188_11e9_882f_acbc3288e987row6_col2 {\n",
       "            background-color:  #e3d9d3;\n",
       "            color:  #000000;\n",
       "        }    #T_19f76efc_a188_11e9_882f_acbc3288e987row6_col3 {\n",
       "            background-color:  #c9d7f0;\n",
       "            color:  #000000;\n",
       "        }    #T_19f76efc_a188_11e9_882f_acbc3288e987row6_col4 {\n",
       "            background-color:  #92b4fe;\n",
       "            color:  #000000;\n",
       "        }    #T_19f76efc_a188_11e9_882f_acbc3288e987row6_col5 {\n",
       "            background-color:  #e1dad6;\n",
       "            color:  #000000;\n",
       "        }    #T_19f76efc_a188_11e9_882f_acbc3288e987row6_col6 {\n",
       "            background-color:  #b40426;\n",
       "            color:  #f1f1f1;\n",
       "        }    #T_19f76efc_a188_11e9_882f_acbc3288e987row6_col7 {\n",
       "            background-color:  #c3d5f4;\n",
       "            color:  #000000;\n",
       "        }    #T_19f76efc_a188_11e9_882f_acbc3288e987row6_col8 {\n",
       "            background-color:  #3d50c3;\n",
       "            color:  #f1f1f1;\n",
       "        }    #T_19f76efc_a188_11e9_882f_acbc3288e987row6_col9 {\n",
       "            background-color:  #efcfbf;\n",
       "            color:  #000000;\n",
       "        }    #T_19f76efc_a188_11e9_882f_acbc3288e987row7_col0 {\n",
       "            background-color:  #98b9ff;\n",
       "            color:  #000000;\n",
       "        }    #T_19f76efc_a188_11e9_882f_acbc3288e987row7_col1 {\n",
       "            background-color:  #d7dce3;\n",
       "            color:  #000000;\n",
       "        }    #T_19f76efc_a188_11e9_882f_acbc3288e987row7_col2 {\n",
       "            background-color:  #dbdcde;\n",
       "            color:  #000000;\n",
       "        }    #T_19f76efc_a188_11e9_882f_acbc3288e987row7_col3 {\n",
       "            background-color:  #a5c3fe;\n",
       "            color:  #000000;\n",
       "        }    #T_19f76efc_a188_11e9_882f_acbc3288e987row7_col4 {\n",
       "            background-color:  #9abbff;\n",
       "            color:  #000000;\n",
       "        }    #T_19f76efc_a188_11e9_882f_acbc3288e987row7_col5 {\n",
       "            background-color:  #b6cefa;\n",
       "            color:  #000000;\n",
       "        }    #T_19f76efc_a188_11e9_882f_acbc3288e987row7_col6 {\n",
       "            background-color:  #dadce0;\n",
       "            color:  #000000;\n",
       "        }    #T_19f76efc_a188_11e9_882f_acbc3288e987row7_col7 {\n",
       "            background-color:  #b40426;\n",
       "            color:  #f1f1f1;\n",
       "        }    #T_19f76efc_a188_11e9_882f_acbc3288e987row7_col8 {\n",
       "            background-color:  #6788ee;\n",
       "            color:  #000000;\n",
       "        }    #T_19f76efc_a188_11e9_882f_acbc3288e987row7_col9 {\n",
       "            background-color:  #e0dbd8;\n",
       "            color:  #000000;\n",
       "        }    #T_19f76efc_a188_11e9_882f_acbc3288e987row8_col0 {\n",
       "            background-color:  #3b4cc0;\n",
       "            color:  #f1f1f1;\n",
       "        }    #T_19f76efc_a188_11e9_882f_acbc3288e987row8_col1 {\n",
       "            background-color:  #3b4cc0;\n",
       "            color:  #f1f1f1;\n",
       "        }    #T_19f76efc_a188_11e9_882f_acbc3288e987row8_col2 {\n",
       "            background-color:  #3b4cc0;\n",
       "            color:  #f1f1f1;\n",
       "        }    #T_19f76efc_a188_11e9_882f_acbc3288e987row8_col3 {\n",
       "            background-color:  #3b4cc0;\n",
       "            color:  #f1f1f1;\n",
       "        }    #T_19f76efc_a188_11e9_882f_acbc3288e987row8_col4 {\n",
       "            background-color:  #3b4cc0;\n",
       "            color:  #f1f1f1;\n",
       "        }    #T_19f76efc_a188_11e9_882f_acbc3288e987row8_col5 {\n",
       "            background-color:  #3b4cc0;\n",
       "            color:  #f1f1f1;\n",
       "        }    #T_19f76efc_a188_11e9_882f_acbc3288e987row8_col6 {\n",
       "            background-color:  #3b4cc0;\n",
       "            color:  #f1f1f1;\n",
       "        }    #T_19f76efc_a188_11e9_882f_acbc3288e987row8_col7 {\n",
       "            background-color:  #3b4cc0;\n",
       "            color:  #f1f1f1;\n",
       "        }    #T_19f76efc_a188_11e9_882f_acbc3288e987row8_col8 {\n",
       "            background-color:  #b40426;\n",
       "            color:  #f1f1f1;\n",
       "        }    #T_19f76efc_a188_11e9_882f_acbc3288e987row8_col9 {\n",
       "            background-color:  #3b4cc0;\n",
       "            color:  #f1f1f1;\n",
       "        }    #T_19f76efc_a188_11e9_882f_acbc3288e987row9_col0 {\n",
       "            background-color:  #ebd3c6;\n",
       "            color:  #000000;\n",
       "        }    #T_19f76efc_a188_11e9_882f_acbc3288e987row9_col1 {\n",
       "            background-color:  #f7b89c;\n",
       "            color:  #000000;\n",
       "        }    #T_19f76efc_a188_11e9_882f_acbc3288e987row9_col2 {\n",
       "            background-color:  #f7b396;\n",
       "            color:  #000000;\n",
       "        }    #T_19f76efc_a188_11e9_882f_acbc3288e987row9_col3 {\n",
       "            background-color:  #dbdcde;\n",
       "            color:  #000000;\n",
       "        }    #T_19f76efc_a188_11e9_882f_acbc3288e987row9_col4 {\n",
       "            background-color:  #c1d4f4;\n",
       "            color:  #000000;\n",
       "        }    #T_19f76efc_a188_11e9_882f_acbc3288e987row9_col5 {\n",
       "            background-color:  #f5a081;\n",
       "            color:  #000000;\n",
       "        }    #T_19f76efc_a188_11e9_882f_acbc3288e987row9_col6 {\n",
       "            background-color:  #f5c2aa;\n",
       "            color:  #000000;\n",
       "        }    #T_19f76efc_a188_11e9_882f_acbc3288e987row9_col7 {\n",
       "            background-color:  #dddcdc;\n",
       "            color:  #000000;\n",
       "        }    #T_19f76efc_a188_11e9_882f_acbc3288e987row9_col8 {\n",
       "            background-color:  #6282ea;\n",
       "            color:  #000000;\n",
       "        }    #T_19f76efc_a188_11e9_882f_acbc3288e987row9_col9 {\n",
       "            background-color:  #b40426;\n",
       "            color:  #f1f1f1;\n",
       "        }</style><table id=\"T_19f76efc_a188_11e9_882f_acbc3288e987\" ><thead>    <tr>        <th class=\"blank level0\" ></th>        <th class=\"col_heading level0 col0\" >clump_thickness</th>        <th class=\"col_heading level0 col1\" >uniformity_size</th>        <th class=\"col_heading level0 col2\" >uniformity_shape</th>        <th class=\"col_heading level0 col3\" >marginal_adhesion</th>        <th class=\"col_heading level0 col4\" >single_cell_size</th>        <th class=\"col_heading level0 col5\" >bare_nuclei</th>        <th class=\"col_heading level0 col6\" >bland_chromatin</th>        <th class=\"col_heading level0 col7\" >normal_nucleoli</th>        <th class=\"col_heading level0 col8\" >mitoses</th>        <th class=\"col_heading level0 col9\" >benign_malignant</th>    </tr></thead><tbody>\n",
       "                <tr>\n",
       "                        <th id=\"T_19f76efc_a188_11e9_882f_acbc3288e987level0_row0\" class=\"row_heading level0 row0\" >clump_thickness</th>\n",
       "                        <td id=\"T_19f76efc_a188_11e9_882f_acbc3288e987row0_col0\" class=\"data row0 col0\" >1</td>\n",
       "                        <td id=\"T_19f76efc_a188_11e9_882f_acbc3288e987row0_col1\" class=\"data row0 col1\" >0.64</td>\n",
       "                        <td id=\"T_19f76efc_a188_11e9_882f_acbc3288e987row0_col2\" class=\"data row0 col2\" >0.65</td>\n",
       "                        <td id=\"T_19f76efc_a188_11e9_882f_acbc3288e987row0_col3\" class=\"data row0 col3\" >0.49</td>\n",
       "                        <td id=\"T_19f76efc_a188_11e9_882f_acbc3288e987row0_col4\" class=\"data row0 col4\" >0.52</td>\n",
       "                        <td id=\"T_19f76efc_a188_11e9_882f_acbc3288e987row0_col5\" class=\"data row0 col5\" >0.59</td>\n",
       "                        <td id=\"T_19f76efc_a188_11e9_882f_acbc3288e987row0_col6\" class=\"data row0 col6\" >0.55</td>\n",
       "                        <td id=\"T_19f76efc_a188_11e9_882f_acbc3288e987row0_col7\" class=\"data row0 col7\" >0.53</td>\n",
       "                        <td id=\"T_19f76efc_a188_11e9_882f_acbc3288e987row0_col8\" class=\"data row0 col8\" >0.35</td>\n",
       "                        <td id=\"T_19f76efc_a188_11e9_882f_acbc3288e987row0_col9\" class=\"data row0 col9\" >0.71</td>\n",
       "            </tr>\n",
       "            <tr>\n",
       "                        <th id=\"T_19f76efc_a188_11e9_882f_acbc3288e987level0_row1\" class=\"row_heading level0 row1\" >uniformity_size</th>\n",
       "                        <td id=\"T_19f76efc_a188_11e9_882f_acbc3288e987row1_col0\" class=\"data row1 col0\" >0.64</td>\n",
       "                        <td id=\"T_19f76efc_a188_11e9_882f_acbc3288e987row1_col1\" class=\"data row1 col1\" >1</td>\n",
       "                        <td id=\"T_19f76efc_a188_11e9_882f_acbc3288e987row1_col2\" class=\"data row1 col2\" >0.91</td>\n",
       "                        <td id=\"T_19f76efc_a188_11e9_882f_acbc3288e987row1_col3\" class=\"data row1 col3\" >0.71</td>\n",
       "                        <td id=\"T_19f76efc_a188_11e9_882f_acbc3288e987row1_col4\" class=\"data row1 col4\" >0.75</td>\n",
       "                        <td id=\"T_19f76efc_a188_11e9_882f_acbc3288e987row1_col5\" class=\"data row1 col5\" >0.69</td>\n",
       "                        <td id=\"T_19f76efc_a188_11e9_882f_acbc3288e987row1_col6\" class=\"data row1 col6\" >0.76</td>\n",
       "                        <td id=\"T_19f76efc_a188_11e9_882f_acbc3288e987row1_col7\" class=\"data row1 col7\" >0.72</td>\n",
       "                        <td id=\"T_19f76efc_a188_11e9_882f_acbc3288e987row1_col8\" class=\"data row1 col8\" >0.46</td>\n",
       "                        <td id=\"T_19f76efc_a188_11e9_882f_acbc3288e987row1_col9\" class=\"data row1 col9\" >0.82</td>\n",
       "            </tr>\n",
       "            <tr>\n",
       "                        <th id=\"T_19f76efc_a188_11e9_882f_acbc3288e987level0_row2\" class=\"row_heading level0 row2\" >uniformity_shape</th>\n",
       "                        <td id=\"T_19f76efc_a188_11e9_882f_acbc3288e987row2_col0\" class=\"data row2 col0\" >0.65</td>\n",
       "                        <td id=\"T_19f76efc_a188_11e9_882f_acbc3288e987row2_col1\" class=\"data row2 col1\" >0.91</td>\n",
       "                        <td id=\"T_19f76efc_a188_11e9_882f_acbc3288e987row2_col2\" class=\"data row2 col2\" >1</td>\n",
       "                        <td id=\"T_19f76efc_a188_11e9_882f_acbc3288e987row2_col3\" class=\"data row2 col3\" >0.69</td>\n",
       "                        <td id=\"T_19f76efc_a188_11e9_882f_acbc3288e987row2_col4\" class=\"data row2 col4\" >0.72</td>\n",
       "                        <td id=\"T_19f76efc_a188_11e9_882f_acbc3288e987row2_col5\" class=\"data row2 col5\" >0.71</td>\n",
       "                        <td id=\"T_19f76efc_a188_11e9_882f_acbc3288e987row2_col6\" class=\"data row2 col6\" >0.74</td>\n",
       "                        <td id=\"T_19f76efc_a188_11e9_882f_acbc3288e987row2_col7\" class=\"data row2 col7\" >0.72</td>\n",
       "                        <td id=\"T_19f76efc_a188_11e9_882f_acbc3288e987row2_col8\" class=\"data row2 col8\" >0.44</td>\n",
       "                        <td id=\"T_19f76efc_a188_11e9_882f_acbc3288e987row2_col9\" class=\"data row2 col9\" >0.82</td>\n",
       "            </tr>\n",
       "            <tr>\n",
       "                        <th id=\"T_19f76efc_a188_11e9_882f_acbc3288e987level0_row3\" class=\"row_heading level0 row3\" >marginal_adhesion</th>\n",
       "                        <td id=\"T_19f76efc_a188_11e9_882f_acbc3288e987row3_col0\" class=\"data row3 col0\" >0.49</td>\n",
       "                        <td id=\"T_19f76efc_a188_11e9_882f_acbc3288e987row3_col1\" class=\"data row3 col1\" >0.71</td>\n",
       "                        <td id=\"T_19f76efc_a188_11e9_882f_acbc3288e987row3_col2\" class=\"data row3 col2\" >0.69</td>\n",
       "                        <td id=\"T_19f76efc_a188_11e9_882f_acbc3288e987row3_col3\" class=\"data row3 col3\" >1</td>\n",
       "                        <td id=\"T_19f76efc_a188_11e9_882f_acbc3288e987row3_col4\" class=\"data row3 col4\" >0.59</td>\n",
       "                        <td id=\"T_19f76efc_a188_11e9_882f_acbc3288e987row3_col5\" class=\"data row3 col5\" >0.67</td>\n",
       "                        <td id=\"T_19f76efc_a188_11e9_882f_acbc3288e987row3_col6\" class=\"data row3 col6\" >0.67</td>\n",
       "                        <td id=\"T_19f76efc_a188_11e9_882f_acbc3288e987row3_col7\" class=\"data row3 col7\" >0.6</td>\n",
       "                        <td id=\"T_19f76efc_a188_11e9_882f_acbc3288e987row3_col8\" class=\"data row3 col8\" >0.42</td>\n",
       "                        <td id=\"T_19f76efc_a188_11e9_882f_acbc3288e987row3_col9\" class=\"data row3 col9\" >0.71</td>\n",
       "            </tr>\n",
       "            <tr>\n",
       "                        <th id=\"T_19f76efc_a188_11e9_882f_acbc3288e987level0_row4\" class=\"row_heading level0 row4\" >single_cell_size</th>\n",
       "                        <td id=\"T_19f76efc_a188_11e9_882f_acbc3288e987row4_col0\" class=\"data row4 col0\" >0.52</td>\n",
       "                        <td id=\"T_19f76efc_a188_11e9_882f_acbc3288e987row4_col1\" class=\"data row4 col1\" >0.75</td>\n",
       "                        <td id=\"T_19f76efc_a188_11e9_882f_acbc3288e987row4_col2\" class=\"data row4 col2\" >0.72</td>\n",
       "                        <td id=\"T_19f76efc_a188_11e9_882f_acbc3288e987row4_col3\" class=\"data row4 col3\" >0.59</td>\n",
       "                        <td id=\"T_19f76efc_a188_11e9_882f_acbc3288e987row4_col4\" class=\"data row4 col4\" >1</td>\n",
       "                        <td id=\"T_19f76efc_a188_11e9_882f_acbc3288e987row4_col5\" class=\"data row4 col5\" >0.59</td>\n",
       "                        <td id=\"T_19f76efc_a188_11e9_882f_acbc3288e987row4_col6\" class=\"data row4 col6\" >0.62</td>\n",
       "                        <td id=\"T_19f76efc_a188_11e9_882f_acbc3288e987row4_col7\" class=\"data row4 col7\" >0.63</td>\n",
       "                        <td id=\"T_19f76efc_a188_11e9_882f_acbc3288e987row4_col8\" class=\"data row4 col8\" >0.48</td>\n",
       "                        <td id=\"T_19f76efc_a188_11e9_882f_acbc3288e987row4_col9\" class=\"data row4 col9\" >0.69</td>\n",
       "            </tr>\n",
       "            <tr>\n",
       "                        <th id=\"T_19f76efc_a188_11e9_882f_acbc3288e987level0_row5\" class=\"row_heading level0 row5\" >bare_nuclei</th>\n",
       "                        <td id=\"T_19f76efc_a188_11e9_882f_acbc3288e987row5_col0\" class=\"data row5 col0\" >0.59</td>\n",
       "                        <td id=\"T_19f76efc_a188_11e9_882f_acbc3288e987row5_col1\" class=\"data row5 col1\" >0.69</td>\n",
       "                        <td id=\"T_19f76efc_a188_11e9_882f_acbc3288e987row5_col2\" class=\"data row5 col2\" >0.71</td>\n",
       "                        <td id=\"T_19f76efc_a188_11e9_882f_acbc3288e987row5_col3\" class=\"data row5 col3\" >0.67</td>\n",
       "                        <td id=\"T_19f76efc_a188_11e9_882f_acbc3288e987row5_col4\" class=\"data row5 col4\" >0.59</td>\n",
       "                        <td id=\"T_19f76efc_a188_11e9_882f_acbc3288e987row5_col5\" class=\"data row5 col5\" >1</td>\n",
       "                        <td id=\"T_19f76efc_a188_11e9_882f_acbc3288e987row5_col6\" class=\"data row5 col6\" >0.68</td>\n",
       "                        <td id=\"T_19f76efc_a188_11e9_882f_acbc3288e987row5_col7\" class=\"data row5 col7\" >0.58</td>\n",
       "                        <td id=\"T_19f76efc_a188_11e9_882f_acbc3288e987row5_col8\" class=\"data row5 col8\" >0.34</td>\n",
       "                        <td id=\"T_19f76efc_a188_11e9_882f_acbc3288e987row5_col9\" class=\"data row5 col9\" >0.82</td>\n",
       "            </tr>\n",
       "            <tr>\n",
       "                        <th id=\"T_19f76efc_a188_11e9_882f_acbc3288e987level0_row6\" class=\"row_heading level0 row6\" >bland_chromatin</th>\n",
       "                        <td id=\"T_19f76efc_a188_11e9_882f_acbc3288e987row6_col0\" class=\"data row6 col0\" >0.55</td>\n",
       "                        <td id=\"T_19f76efc_a188_11e9_882f_acbc3288e987row6_col1\" class=\"data row6 col1\" >0.76</td>\n",
       "                        <td id=\"T_19f76efc_a188_11e9_882f_acbc3288e987row6_col2\" class=\"data row6 col2\" >0.74</td>\n",
       "                        <td id=\"T_19f76efc_a188_11e9_882f_acbc3288e987row6_col3\" class=\"data row6 col3\" >0.67</td>\n",
       "                        <td id=\"T_19f76efc_a188_11e9_882f_acbc3288e987row6_col4\" class=\"data row6 col4\" >0.62</td>\n",
       "                        <td id=\"T_19f76efc_a188_11e9_882f_acbc3288e987row6_col5\" class=\"data row6 col5\" >0.68</td>\n",
       "                        <td id=\"T_19f76efc_a188_11e9_882f_acbc3288e987row6_col6\" class=\"data row6 col6\" >1</td>\n",
       "                        <td id=\"T_19f76efc_a188_11e9_882f_acbc3288e987row6_col7\" class=\"data row6 col7\" >0.67</td>\n",
       "                        <td id=\"T_19f76efc_a188_11e9_882f_acbc3288e987row6_col8\" class=\"data row6 col8\" >0.35</td>\n",
       "                        <td id=\"T_19f76efc_a188_11e9_882f_acbc3288e987row6_col9\" class=\"data row6 col9\" >0.76</td>\n",
       "            </tr>\n",
       "            <tr>\n",
       "                        <th id=\"T_19f76efc_a188_11e9_882f_acbc3288e987level0_row7\" class=\"row_heading level0 row7\" >normal_nucleoli</th>\n",
       "                        <td id=\"T_19f76efc_a188_11e9_882f_acbc3288e987row7_col0\" class=\"data row7 col0\" >0.53</td>\n",
       "                        <td id=\"T_19f76efc_a188_11e9_882f_acbc3288e987row7_col1\" class=\"data row7 col1\" >0.72</td>\n",
       "                        <td id=\"T_19f76efc_a188_11e9_882f_acbc3288e987row7_col2\" class=\"data row7 col2\" >0.72</td>\n",
       "                        <td id=\"T_19f76efc_a188_11e9_882f_acbc3288e987row7_col3\" class=\"data row7 col3\" >0.6</td>\n",
       "                        <td id=\"T_19f76efc_a188_11e9_882f_acbc3288e987row7_col4\" class=\"data row7 col4\" >0.63</td>\n",
       "                        <td id=\"T_19f76efc_a188_11e9_882f_acbc3288e987row7_col5\" class=\"data row7 col5\" >0.58</td>\n",
       "                        <td id=\"T_19f76efc_a188_11e9_882f_acbc3288e987row7_col6\" class=\"data row7 col6\" >0.67</td>\n",
       "                        <td id=\"T_19f76efc_a188_11e9_882f_acbc3288e987row7_col7\" class=\"data row7 col7\" >1</td>\n",
       "                        <td id=\"T_19f76efc_a188_11e9_882f_acbc3288e987row7_col8\" class=\"data row7 col8\" >0.43</td>\n",
       "                        <td id=\"T_19f76efc_a188_11e9_882f_acbc3288e987row7_col9\" class=\"data row7 col9\" >0.72</td>\n",
       "            </tr>\n",
       "            <tr>\n",
       "                        <th id=\"T_19f76efc_a188_11e9_882f_acbc3288e987level0_row8\" class=\"row_heading level0 row8\" >mitoses</th>\n",
       "                        <td id=\"T_19f76efc_a188_11e9_882f_acbc3288e987row8_col0\" class=\"data row8 col0\" >0.35</td>\n",
       "                        <td id=\"T_19f76efc_a188_11e9_882f_acbc3288e987row8_col1\" class=\"data row8 col1\" >0.46</td>\n",
       "                        <td id=\"T_19f76efc_a188_11e9_882f_acbc3288e987row8_col2\" class=\"data row8 col2\" >0.44</td>\n",
       "                        <td id=\"T_19f76efc_a188_11e9_882f_acbc3288e987row8_col3\" class=\"data row8 col3\" >0.42</td>\n",
       "                        <td id=\"T_19f76efc_a188_11e9_882f_acbc3288e987row8_col4\" class=\"data row8 col4\" >0.48</td>\n",
       "                        <td id=\"T_19f76efc_a188_11e9_882f_acbc3288e987row8_col5\" class=\"data row8 col5\" >0.34</td>\n",
       "                        <td id=\"T_19f76efc_a188_11e9_882f_acbc3288e987row8_col6\" class=\"data row8 col6\" >0.35</td>\n",
       "                        <td id=\"T_19f76efc_a188_11e9_882f_acbc3288e987row8_col7\" class=\"data row8 col7\" >0.43</td>\n",
       "                        <td id=\"T_19f76efc_a188_11e9_882f_acbc3288e987row8_col8\" class=\"data row8 col8\" >1</td>\n",
       "                        <td id=\"T_19f76efc_a188_11e9_882f_acbc3288e987row8_col9\" class=\"data row8 col9\" >0.42</td>\n",
       "            </tr>\n",
       "            <tr>\n",
       "                        <th id=\"T_19f76efc_a188_11e9_882f_acbc3288e987level0_row9\" class=\"row_heading level0 row9\" >benign_malignant</th>\n",
       "                        <td id=\"T_19f76efc_a188_11e9_882f_acbc3288e987row9_col0\" class=\"data row9 col0\" >0.71</td>\n",
       "                        <td id=\"T_19f76efc_a188_11e9_882f_acbc3288e987row9_col1\" class=\"data row9 col1\" >0.82</td>\n",
       "                        <td id=\"T_19f76efc_a188_11e9_882f_acbc3288e987row9_col2\" class=\"data row9 col2\" >0.82</td>\n",
       "                        <td id=\"T_19f76efc_a188_11e9_882f_acbc3288e987row9_col3\" class=\"data row9 col3\" >0.71</td>\n",
       "                        <td id=\"T_19f76efc_a188_11e9_882f_acbc3288e987row9_col4\" class=\"data row9 col4\" >0.69</td>\n",
       "                        <td id=\"T_19f76efc_a188_11e9_882f_acbc3288e987row9_col5\" class=\"data row9 col5\" >0.82</td>\n",
       "                        <td id=\"T_19f76efc_a188_11e9_882f_acbc3288e987row9_col6\" class=\"data row9 col6\" >0.76</td>\n",
       "                        <td id=\"T_19f76efc_a188_11e9_882f_acbc3288e987row9_col7\" class=\"data row9 col7\" >0.72</td>\n",
       "                        <td id=\"T_19f76efc_a188_11e9_882f_acbc3288e987row9_col8\" class=\"data row9 col8\" >0.42</td>\n",
       "                        <td id=\"T_19f76efc_a188_11e9_882f_acbc3288e987row9_col9\" class=\"data row9 col9\" >1</td>\n",
       "            </tr>\n",
       "    </tbody></table>"
      ],
      "text/plain": [
       "<pandas.io.formats.style.Styler at 0x1a208e05c0>"
      ]
     },
     "execution_count": 49,
     "metadata": {},
     "output_type": "execute_result"
    }
   ],
   "source": [
    "corr = work.corr() # correlation matrix for all variables \n",
    "corr.style.background_gradient(cmap='coolwarm').set_precision(2)"
   ]
  },
  {
   "cell_type": "markdown",
   "metadata": {},
   "source": [
    "The correlation matrix shows that, with the exception of mitoses, many of these features are also correlated fairly strongly with each other. I will have to keep this in mind as I choose my modeling approach."
   ]
  },
  {
   "cell_type": "markdown",
   "metadata": {},
   "source": [
    "# Model Options\n",
    "\n",
    "Which model should I choose for the task of classifying the samples as benign or malignant? I have many supervised learning options for this binary classification task. Logistic correlation might normally have been a good first step, but the correlations among the features suggest it's not a good choice here. I'll instead move first to tree-based models.\n",
    "\n",
    "As I choose among these models, I will be considering:\n",
    "- Simplicity: which models use fewer features\n",
    "- Interpretability: how easy is it to understand and communicate the model\n",
    "- Accuracy and recall: overall accuracy is important, but for the task of cancer detection, I also want to minimize false negatives so that any potential case of cancer can be identified through this biopsy for further investigation. I will therefore prioritize recall as the key metric of my model's success."
   ]
  },
  {
   "cell_type": "markdown",
   "metadata": {},
   "source": [
    "## Model Option 1: Decision Tree Classifier"
   ]
  },
  {
   "cell_type": "markdown",
   "metadata": {},
   "source": [
    "I'll try using a decision tree to see if my results differ from the logistic regression."
   ]
  },
  {
   "cell_type": "code",
   "execution_count": 50,
   "metadata": {},
   "outputs": [],
   "source": [
    "dt_df = df"
   ]
  },
  {
   "cell_type": "code",
   "execution_count": 51,
   "metadata": {},
   "outputs": [],
   "source": [
    "from sklearn.tree import DecisionTreeClassifier # import decision tree classifier"
   ]
  },
  {
   "cell_type": "code",
   "execution_count": 52,
   "metadata": {},
   "outputs": [],
   "source": [
    "feature_cols = ['clump_thickness', 'uniformity_size', 'uniformity_shape',\n",
    "       'marginal_adhesion', 'single_cell_size', 'bare_nuclei',\n",
    "       'bland_chromatin', 'normal_nucleoli', 'mitoses']\n",
    "X = dt_df[feature_cols] # features for model\n",
    "y = dt_df.benign_malignant # target"
   ]
  },
  {
   "cell_type": "code",
   "execution_count": 53,
   "metadata": {},
   "outputs": [],
   "source": [
    "# Split dataset into training set and test set\n",
    "X_train, X_test, y_train, y_test = train_test_split(X, y, test_size=0.2, random_state=1) # 80% training and 20% test"
   ]
  },
  {
   "cell_type": "code",
   "execution_count": 54,
   "metadata": {},
   "outputs": [],
   "source": [
    "# create decision tree classifier\n",
    "# I have tinkered with different max_depth, splitter, and min_samples_split parameter values to improve metrics\n",
    "dec_tree = DecisionTreeClassifier(criterion=\"entropy\", max_depth=4, splitter=\"random\", min_samples_split=8)\n",
    "\n",
    "dec_tree = dec_tree.fit(X_train,y_train) # train classifier\n",
    "\n",
    "y_pred = dec_tree.predict(X_test) # generate predictions"
   ]
  },
  {
   "cell_type": "code",
   "execution_count": 55,
   "metadata": {},
   "outputs": [
    {
     "name": "stdout",
     "output_type": "stream",
     "text": [
      "Accuracy: 0.9781021897810219\n",
      "Precision: 0.9782608695652174\n",
      "Recall: 0.9574468085106383\n"
     ]
    }
   ],
   "source": [
    "print(\"Accuracy:\",metrics.accuracy_score(y_test, y_pred))\n",
    "print(\"Precision:\",metrics.precision_score(y_test, y_pred))\n",
    "print(\"Recall:\",metrics.recall_score(y_test, y_pred)) # get some important metrics"
   ]
  },
  {
   "cell_type": "code",
   "execution_count": 56,
   "metadata": {},
   "outputs": [
    {
     "name": "stdout",
     "output_type": "stream",
     "text": [
      "Scores: [0.85507246 0.94202899 0.94202899 0.94202899 0.98529412 0.95588235\n",
      " 0.95588235 0.98529412 0.95588235 0.98507463]\n",
      "Mean: 0.9504469341273174\n",
      "Standard deviation: 0.03609049183532108\n"
     ]
    }
   ],
   "source": [
    "scores = cross_val_score(dec_tree, X, y, cv=10, scoring='accuracy') # use k-fold cross-validation to assess model, 10 folds\n",
    "\n",
    "def display_scores(scores):\n",
    "        print(\"Scores:\", scores)\n",
    "        print(\"Mean:\", scores.mean())\n",
    "        print(\"Standard deviation:\", scores.std())\n",
    "        \n",
    "display_scores(scores)"
   ]
  },
  {
   "cell_type": "code",
   "execution_count": 57,
   "metadata": {},
   "outputs": [
    {
     "name": "stdout",
     "output_type": "stream",
     "text": [
      "Scores: [0.88461538 1.         0.85185185 0.85185185 0.92307692 0.95652174\n",
      " 1.         0.96       0.88888889 0.95833333]\n",
      "Mean: 0.9275139972748668\n",
      "Standard deviation: 0.05306266127065168\n"
     ]
    }
   ],
   "source": [
    "scores = cross_val_score(dec_tree, X, y, cv=10, scoring='precision') # use k-fold cross-validation to assess model, 10 folds\n",
    "display_scores(scores)"
   ]
  },
  {
   "cell_type": "code",
   "execution_count": 58,
   "metadata": {},
   "outputs": [
    {
     "name": "stdout",
     "output_type": "stream",
     "text": [
      "Scores: [0.91666667 0.70833333 0.79166667 0.95833333 1.         0.79166667\n",
      " 0.95833333 0.91666667 1.         1.        ]\n",
      "Mean: 0.9041666666666666\n",
      "Standard deviation: 0.09868932735272509\n"
     ]
    }
   ],
   "source": [
    "scores = cross_val_score(dec_tree, X, y, cv=10, scoring='recall') # use k-fold cross-validation to assess model, 10 folds\n",
    "display_scores(scores)"
   ]
  },
  {
   "cell_type": "markdown",
   "metadata": {},
   "source": [
    "After tuning the parameters, the decision tree achieves a mean accuracy of 94.6%, mean precision of 92.6%, and mean recall of 91.2% in 10-fold cross-validation. "
   ]
  },
  {
   "cell_type": "markdown",
   "metadata": {},
   "source": [
    "## Model Option 2: Random Forest Classifier"
   ]
  },
  {
   "cell_type": "markdown",
   "metadata": {},
   "source": [
    "A random forest classifier may improve even further on the decision tree's results with similar advantages."
   ]
  },
  {
   "cell_type": "code",
   "execution_count": 59,
   "metadata": {},
   "outputs": [],
   "source": [
    "from sklearn.ensemble import RandomForestClassifier # import necessary stuff"
   ]
  },
  {
   "cell_type": "code",
   "execution_count": 60,
   "metadata": {},
   "outputs": [],
   "source": [
    "rf_df = df # fresh version of data"
   ]
  },
  {
   "cell_type": "code",
   "execution_count": 61,
   "metadata": {},
   "outputs": [],
   "source": [
    "feature_cols = ['clump_thickness', 'uniformity_size', 'uniformity_shape',\n",
    "       'marginal_adhesion', 'single_cell_size', 'bare_nuclei',\n",
    "       'bland_chromatin', 'normal_nucleoli', 'mitoses']\n",
    "X = rf_df[feature_cols] # features for model\n",
    "y = rf_df.benign_malignant # target\n",
    "\n",
    "# Split dataset into training set and test set\n",
    "X_train, X_test, y_train, y_test = train_test_split(X, y, test_size=0.2) # 80% training and 20% test"
   ]
  },
  {
   "cell_type": "code",
   "execution_count": 62,
   "metadata": {},
   "outputs": [],
   "source": [
    "#Create a Gaussian Classifier\n",
    "rand_for = RandomForestClassifier(n_estimators=100)\n",
    "\n",
    "#Train the model using the training sets \n",
    "rand_for.fit(X_train,y_train)\n",
    "\n",
    "y_pred = rand_for.predict(X_test)"
   ]
  },
  {
   "cell_type": "code",
   "execution_count": 63,
   "metadata": {},
   "outputs": [
    {
     "name": "stdout",
     "output_type": "stream",
     "text": [
      "Accuracy: 0.9708029197080292\n",
      "Precision: 0.9791666666666666\n",
      "Recall: 0.94\n"
     ]
    }
   ],
   "source": [
    "print(\"Accuracy:\",metrics.accuracy_score(y_test, y_pred))\n",
    "print(\"Precision:\",metrics.precision_score(y_test, y_pred))\n",
    "print(\"Recall:\",metrics.recall_score(y_test, y_pred)) # get some important metrics"
   ]
  },
  {
   "cell_type": "code",
   "execution_count": 64,
   "metadata": {},
   "outputs": [
    {
     "name": "stdout",
     "output_type": "stream",
     "text": [
      "Scores: [0.92753623 0.95652174 0.95652174 0.94202899 0.98529412 0.98529412\n",
      " 0.98529412 0.98529412 0.98529412 0.98507463]\n",
      "Mean: 0.969415391075314\n",
      "Standard deviation: 0.020838073708228946\n"
     ]
    }
   ],
   "source": [
    "scores = cross_val_score(rand_for, X, y, cv=10, scoring='accuracy') # use k-fold cross-validation to assess model, 10 folds\n",
    "display_scores(scores)"
   ]
  },
  {
   "cell_type": "code",
   "execution_count": 65,
   "metadata": {},
   "outputs": [
    {
     "name": "stdout",
     "output_type": "stream",
     "text": [
      "Scores: [0.91304348 1.         0.88888889 0.88461538 0.96       0.95652174\n",
      " 1.         1.         1.         1.        ]\n",
      "Mean: 0.9603069490895578\n",
      "Standard deviation: 0.0457773977146163\n"
     ]
    }
   ],
   "source": [
    "scores = cross_val_score(rand_for, X, y, cv=10, scoring='precision') # use k-fold cross-validation to assess model, 10 folds\n",
    "display_scores(scores)"
   ]
  },
  {
   "cell_type": "code",
   "execution_count": 66,
   "metadata": {},
   "outputs": [
    {
     "name": "stdout",
     "output_type": "stream",
     "text": [
      "Scores: [0.875      0.91666667 1.         0.95833333 1.         0.95833333\n",
      " 0.95833333 0.95833333 0.95833333 1.        ]\n",
      "Mean: 0.9583333333333334\n",
      "Standard deviation: 0.0372677996249965\n"
     ]
    }
   ],
   "source": [
    "scores = cross_val_score(rand_for, X, y, cv=10, scoring='recall') # use k-fold cross-validation to assess model, 10 folds\n",
    "display_scores(scores)"
   ]
  },
  {
   "cell_type": "markdown",
   "metadata": {},
   "source": [
    "The random forest classifier shows some improvement over the decision tree classifier in terms of accuracy, precision, and recall. I'll now look at the feature importance to see which features stand out and whether I might want to try simplifying the model at all."
   ]
  },
  {
   "cell_type": "code",
   "execution_count": 67,
   "metadata": {},
   "outputs": [
    {
     "data": {
      "text/plain": [
       "uniformity_size      0.256986\n",
       "uniformity_shape     0.235849\n",
       "bare_nuclei          0.208512\n",
       "bland_chromatin      0.093120\n",
       "normal_nucleoli      0.063704\n",
       "single_cell_size     0.053180\n",
       "clump_thickness      0.042366\n",
       "marginal_adhesion    0.040703\n",
       "mitoses              0.005581\n",
       "dtype: float64"
      ]
     },
     "execution_count": 67,
     "metadata": {},
     "output_type": "execute_result"
    }
   ],
   "source": [
    "feature_imp = pd.Series(rand_for.feature_importances_,index=feature_cols).sort_values(ascending=False)\n",
    "feature_imp"
   ]
  },
  {
   "cell_type": "code",
   "execution_count": 68,
   "metadata": {},
   "outputs": [
    {
     "data": {
      "image/png": "[encoded data removed]",
      "text/plain": [
       "<Figure size 432x288 with 1 Axes>"
      ]
     },
     "metadata": {
      "needs_background": "light"
     },
     "output_type": "display_data"
    }
   ],
   "source": [
    "sns.barplot(x=feature_imp, y=feature_imp.index)\n",
    "plt.xlabel('Feature Importance Score')\n",
    "plt.ylabel('Features')\n",
    "plt.title(\"Feature Importance\")\n",
    "plt.show()"
   ]
  },
  {
   "cell_type": "markdown",
   "metadata": {},
   "source": [
    "Three features clearly lead the pack (uniformity_size, uniformity_shape, and bare_nuclei), with a group of three features following them (normal_nucleoli, bland_chromatin, and single_cell_size). I'll try redoing the random forest classifier with smaller sets of features to strive for greater simplicity while retaining high accuracy, precision, and recall."
   ]
  },
  {
   "cell_type": "markdown",
   "metadata": {},
   "source": [
    "## Model Option 3: Reduced random forest classifier with 6 most important features"
   ]
  },
  {
   "cell_type": "markdown",
   "metadata": {},
   "source": [
    "First I'll try a random forest classifier with the top 6 features from the full random forest model above."
   ]
  },
  {
   "cell_type": "code",
   "execution_count": 69,
   "metadata": {},
   "outputs": [],
   "source": [
    "reduced_features = ['uniformity_size', 'uniformity_shape', 'single_cell_size', 'bare_nuclei',\n",
    "       'bland_chromatin', 'normal_nucleoli']\n",
    "X_red = rf_df[reduced_features] # features for model\n",
    "y_red = rf_df.benign_malignant # target\n",
    "\n",
    "X_train, X_test, y_train, y_test = train_test_split(X_red, y_red, test_size=0.2) # 80% training and 20% test sets"
   ]
  },
  {
   "cell_type": "code",
   "execution_count": 70,
   "metadata": {},
   "outputs": [],
   "source": [
    "rand_for_red = RandomForestClassifier(n_estimators=100) #Create a Gaussian Classifie\n",
    "\n",
    "rand_for_red.fit(X_train,y_train) # train the model\n",
    "\n",
    "y_pred = rand_for_red.predict(X_test) # make predictions using the model"
   ]
  },
  {
   "cell_type": "code",
   "execution_count": 71,
   "metadata": {},
   "outputs": [
    {
     "name": "stdout",
     "output_type": "stream",
     "text": [
      "Accuracy: 0.9781021897810219\n",
      "Precision: 0.9736842105263158\n",
      "Recall: 0.9487179487179487\n"
     ]
    }
   ],
   "source": [
    "print(\"Accuracy:\",metrics.accuracy_score(y_test, y_pred))\n",
    "print(\"Precision:\",metrics.precision_score(y_test, y_pred))\n",
    "print(\"Recall:\",metrics.recall_score(y_test, y_pred)) # get some important metrics"
   ]
  },
  {
   "cell_type": "code",
   "execution_count": 72,
   "metadata": {},
   "outputs": [
    {
     "name": "stdout",
     "output_type": "stream",
     "text": [
      "Scores: [0.91304348 0.97101449 0.95652174 0.94202899 0.98529412 0.97058824\n",
      " 0.97058824 0.98529412 0.98529412 0.98507463]\n",
      "Mean: 0.9664742146047256\n",
      "Standard deviation: 0.022393013700531123\n"
     ]
    }
   ],
   "source": [
    "scores = cross_val_score(rand_for_red, X, y, cv=10, scoring='accuracy') # use k-fold cross-validation to assess model, 10 folds\n",
    "display_scores(scores)"
   ]
  },
  {
   "cell_type": "code",
   "execution_count": 73,
   "metadata": {},
   "outputs": [
    {
     "name": "stdout",
     "output_type": "stream",
     "text": [
      "Scores: [0.91666667 1.         0.88888889 0.88461538 0.96       0.96\n",
      " 1.         1.         1.         0.95833333]\n",
      "Mean: 0.9568504273504275\n",
      "Standard deviation: 0.04349826184682486\n"
     ]
    }
   ],
   "source": [
    "scores = cross_val_score(rand_for_red, X, y, cv=10, scoring='precision') # use k-fold cross-validation to assess model, 10 folds\n",
    "display_scores(scores)"
   ]
  },
  {
   "cell_type": "code",
   "execution_count": 74,
   "metadata": {},
   "outputs": [
    {
     "name": "stdout",
     "output_type": "stream",
     "text": [
      "Scores: [0.875      0.875      1.         0.95833333 1.         1.\n",
      " 0.91666667 0.95833333 0.95833333 1.        ]\n",
      "Mean: 0.9541666666666668\n",
      "Standard deviation: 0.047324236215002285\n"
     ]
    }
   ],
   "source": [
    "scores = cross_val_score(rand_for_red, X, y, cv=10, scoring='recall') # use k-fold cross-validation to assess model, 10 folds\n",
    "display_scores(scores)"
   ]
  },
  {
   "cell_type": "code",
   "execution_count": 75,
   "metadata": {},
   "outputs": [
    {
     "data": {
      "image/png": "[encoded data removed]",
      "text/plain": [
       "<Figure size 432x288 with 1 Axes>"
      ]
     },
     "metadata": {
      "needs_background": "light"
     },
     "output_type": "display_data"
    }
   ],
   "source": [
    "y_pred_proba = rand_for_red.predict_proba(X_test)[::,1]\n",
    "fpr, tpr, _ = metrics.roc_curve(y_test, y_pred_proba)\n",
    "auc = metrics.roc_auc_score(y_test, y_pred_proba)\n",
    "plt.plot(fpr,tpr,label=\"data 1, auc=\"+str(auc))\n",
    "plt.legend(loc=4)\n",
    "plt.show() # show the ROC curve and the AUC"
   ]
  },
  {
   "cell_type": "markdown",
   "metadata": {},
   "source": [
    "The 6-feature random forest classifier performs about the same as the full random forest model, with just slightly lower accuracy, precision, and recall. \n",
    "\n",
    "I'll now try out a model with just the top three features, just to see if I could make things super simple."
   ]
  },
  {
   "cell_type": "markdown",
   "metadata": {},
   "source": [
    "## Model Option 4: An even more reduced random forest classifer with 3 features"
   ]
  },
  {
   "cell_type": "markdown",
   "metadata": {},
   "source": [
    "This model will include only uniformity_size, uniformity_shape, and single_cell_size as its sole features. Simple models are great if they can provide similar levels of utility. Let's see how this one does."
   ]
  },
  {
   "cell_type": "code",
   "execution_count": 76,
   "metadata": {},
   "outputs": [],
   "source": [
    "few_features = ['uniformity_size', 'uniformity_shape', 'bare_nuclei'] # top 3 from feature ranking above\n",
    "X_few = rf_df[reduced_features] # features for model\n",
    "y_few = rf_df.benign_malignant # target\n",
    "\n",
    "# Split dataset into training set and test set\n",
    "X_train, X_test, y_train, y_test = train_test_split(X_few, y_few, test_size=0.2) # 80% training and 20% test"
   ]
  },
  {
   "cell_type": "code",
   "execution_count": 77,
   "metadata": {},
   "outputs": [],
   "source": [
    "rand_for_few = RandomForestClassifier(n_estimators=100) # create a Gaussian classifier\n",
    "\n",
    "rand_for_few.fit(X_train,y_train) # train the model\n",
    "\n",
    "y_pred = rand_for_few.predict(X_test) # generate predictions"
   ]
  },
  {
   "cell_type": "code",
   "execution_count": 78,
   "metadata": {},
   "outputs": [
    {
     "name": "stdout",
     "output_type": "stream",
     "text": [
      "Accuracy: 0.9416058394160584\n",
      "Precision: 0.8771929824561403\n",
      "Recall: 0.9803921568627451\n"
     ]
    }
   ],
   "source": [
    "print(\"Accuracy:\",metrics.accuracy_score(y_test, y_pred))\n",
    "print(\"Precision:\",metrics.precision_score(y_test, y_pred))\n",
    "print(\"Recall:\",metrics.recall_score(y_test, y_pred)) # get some important metrics"
   ]
  },
  {
   "cell_type": "code",
   "execution_count": 79,
   "metadata": {},
   "outputs": [
    {
     "name": "stdout",
     "output_type": "stream",
     "text": [
      "Scores: [0.92753623 0.98550725 0.95652174 0.94202899 0.97058824 0.97058824\n",
      " 0.98529412 0.98529412 0.98529412 0.98507463]\n",
      "Mean: 0.9693727653293636\n",
      "Standard deviation: 0.019832850898862185\n"
     ]
    }
   ],
   "source": [
    "scores = cross_val_score(rand_for_red, X, y, cv=10, scoring='accuracy') # use k-fold cross-validation to assess model, 10 folds\n",
    "display_scores(scores)"
   ]
  },
  {
   "cell_type": "code",
   "execution_count": 80,
   "metadata": {},
   "outputs": [
    {
     "name": "stdout",
     "output_type": "stream",
     "text": [
      "Scores: [0.91666667 1.         0.88888889 0.88461538 0.96       0.95833333\n",
      " 1.         1.         1.         0.95833333]\n",
      "Mean: 0.9566837606837607\n",
      "Standard deviation: 0.04348906674263178\n"
     ]
    }
   ],
   "source": [
    "scores = cross_val_score(rand_for_red, X, y, cv=10, scoring='precision') # use k-fold cross-validation to assess model, 10 folds\n",
    "display_scores(scores)"
   ]
  },
  {
   "cell_type": "code",
   "execution_count": 81,
   "metadata": {},
   "outputs": [
    {
     "name": "stdout",
     "output_type": "stream",
     "text": [
      "Scores: [0.91666667 0.875      1.         0.95833333 1.         0.95833333\n",
      " 0.875      0.95833333 0.95833333 1.        ]\n",
      "Mean: 0.95\n",
      "Standard deviation: 0.044876373392787536\n"
     ]
    }
   ],
   "source": [
    "scores = cross_val_score(rand_for_red, X, y, cv=10, scoring='recall') # use k-fold cross-validation to assess model, 10 folds\n",
    "display_scores(scores)"
   ]
  },
  {
   "cell_type": "markdown",
   "metadata": {},
   "source": [
    "Lowering the number of features in the random forest classifier increased accuracy slightly, but precision and recall are still lower than either the top-6-features or the full random forest model. As stated above, maximizing recall is a high priority for this task, so the full random forest classifier is still the winner so far."
   ]
  },
  {
   "cell_type": "markdown",
   "metadata": {},
   "source": [
    "# Model Option 5: Getting fancy with gradient boosting"
   ]
  },
  {
   "cell_type": "markdown",
   "metadata": {},
   "source": [
    "_Confession: I am out of time. But I'll just try a gradient boosting model for the heck of it, and because I am actually having fun. If I stopped here, I'd go with Option 2, the full random forest classifier, shown above._\n",
    "\n",
    "Gradient boosting models can sometimes provide even greater levels of accuracy for datasets like this one where there is a high level of imbalance in the classification (i.e., in this case, benign/malignant status). This approach can be a bit slower to train because of the way it is constructed. I'll try it with just the top three features identified above."
   ]
  },
  {
   "cell_type": "code",
   "execution_count": 82,
   "metadata": {},
   "outputs": [],
   "source": [
    "from sklearn import ensemble\n",
    "from sklearn.ensemble import GradientBoostingClassifier"
   ]
  },
  {
   "cell_type": "code",
   "execution_count": 83,
   "metadata": {},
   "outputs": [],
   "source": [
    "gb_df = df"
   ]
  },
  {
   "cell_type": "code",
   "execution_count": 84,
   "metadata": {},
   "outputs": [],
   "source": [
    "reduced_features = ['uniformity_size', 'uniformity_shape', 'bare_nuclei']\n",
    "X_few = gb_df[reduced_features] # features for model\n",
    "y_few = gb_df.benign_malignant # target\n",
    "\n",
    "X_train, X_test, y_train, y_test = train_test_split(X_few, y_few, test_size=0.2) # 80% training and 20% test"
   ]
  },
  {
   "cell_type": "code",
   "execution_count": 85,
   "metadata": {},
   "outputs": [],
   "source": [
    "# gradient boosting models require more tuning\n",
    "# I have tinkered with the N_estimators, min_samples_split, and min_samples_leaf parameters here\n",
    "gb = GradientBoostingClassifier(n_estimators=80, learning_rate=1.0, \n",
    "                                max_depth=5, random_state=0, min_samples_split=12, \n",
    "                                min_samples_leaf=15).fit(X_train, y_train) # fit model\n",
    "\n",
    "y_pred = gb.predict(X_test) # make predictions"
   ]
  },
  {
   "cell_type": "code",
   "execution_count": 86,
   "metadata": {},
   "outputs": [
    {
     "name": "stdout",
     "output_type": "stream",
     "text": [
      "Accuracy: 0.9562043795620438\n",
      "Precision: 0.92\n",
      "Recall: 0.9583333333333334\n"
     ]
    }
   ],
   "source": [
    "print(\"Accuracy:\",metrics.accuracy_score(y_test, y_pred))\n",
    "print(\"Precision:\",metrics.precision_score(y_test, y_pred))\n",
    "print(\"Recall:\",metrics.recall_score(y_test, y_pred)) # get some important metrics"
   ]
  },
  {
   "cell_type": "code",
   "execution_count": 87,
   "metadata": {},
   "outputs": [
    {
     "name": "stdout",
     "output_type": "stream",
     "text": [
      "Scores: [0.92753623 0.95652174 0.95652174 0.94202899 0.97058824 0.97058824\n",
      " 0.95588235 1.         0.98529412 1.        ]\n",
      "Mean: 0.9664961636828645\n",
      "Standard deviation: 0.02249448294965619\n"
     ]
    }
   ],
   "source": [
    "scores = cross_val_score(gb, X, y, cv=10, scoring='accuracy') # use k-fold cross-validation to assess model, 10 folds\n",
    "display_scores(scores)"
   ]
  },
  {
   "cell_type": "code",
   "execution_count": 88,
   "metadata": {},
   "outputs": [
    {
     "name": "stdout",
     "output_type": "stream",
     "text": [
      "Scores: [0.88       1.         0.88888889 0.88461538 0.95833333 0.92307692\n",
      " 1.         1.         1.         1.        ]\n",
      "Mean: 0.9534914529914531\n",
      "Standard deviation: 0.05107064705460835\n"
     ]
    }
   ],
   "source": [
    "scores = cross_val_score(gb, X, y, cv=10, scoring='precision') # use k-fold cross-validation to assess model, 10 folds\n",
    "display_scores(scores)"
   ]
  },
  {
   "cell_type": "code",
   "execution_count": 89,
   "metadata": {},
   "outputs": [
    {
     "name": "stdout",
     "output_type": "stream",
     "text": [
      "Scores: [0.91666667 0.875      1.         0.95833333 0.95833333 1.\n",
      " 0.875      1.         0.95833333 1.        ]\n",
      "Mean: 0.9541666666666668\n",
      "Standard deviation: 0.047324236215002285\n"
     ]
    }
   ],
   "source": [
    "scores = cross_val_score(gb, X, y, cv=10, scoring='recall') # use k-fold cross-validation to assess model, 10 folds\n",
    "display_scores(scores)"
   ]
  },
  {
   "cell_type": "code",
   "execution_count": 90,
   "metadata": {},
   "outputs": [
    {
     "data": {
      "image/png": "[encoded data removed]",
      "text/plain": [
       "<Figure size 432x288 with 1 Axes>"
      ]
     },
     "metadata": {
      "needs_background": "light"
     },
     "output_type": "display_data"
    }
   ],
   "source": [
    "y_pred_proba = gb.predict_proba(X_test)[::,1]\n",
    "fpr, tpr, _ = metrics.roc_curve(y_test, y_pred_proba)\n",
    "auc = metrics.roc_auc_score(y_test, y_pred_proba)\n",
    "plt.plot(fpr,tpr,label=\"data 1, auc=\"+str(auc))\n",
    "plt.legend(loc=4)\n",
    "plt.show() # show the ROC curve and the AUC"
   ]
  },
  {
   "cell_type": "markdown",
   "metadata": {},
   "source": [
    "This model does not show a dramatic improvement beyond any of the random forest models shown above. All metrics are lower than my previously preferred Option 2, the full random forest classifier."
   ]
  },
  {
   "cell_type": "markdown",
   "metadata": {},
   "source": [
    "# Model Option 6: Naive Bayes Classifier (Top 3 Features)"
   ]
  },
  {
   "cell_type": "markdown",
   "metadata": {},
   "source": [
    "Again, out of time, but curious to see whether Naive Bayes would work here. This should be a good model for this dataset, as it would not be affected by its multicollinearity, and it should also work well with the high number of predictive features. I'll try it with just the top three features identified above."
   ]
  },
  {
   "cell_type": "code",
   "execution_count": 91,
   "metadata": {},
   "outputs": [],
   "source": [
    "nb_df = df"
   ]
  },
  {
   "cell_type": "code",
   "execution_count": 92,
   "metadata": {},
   "outputs": [],
   "source": [
    "from sklearn.naive_bayes import GaussianNB"
   ]
  },
  {
   "cell_type": "code",
   "execution_count": 93,
   "metadata": {},
   "outputs": [],
   "source": [
    "reduced_features = ['uniformity_size', 'uniformity_shape', 'bare_nuclei']\n",
    "X_few = nb_df[reduced_features] # features for model\n",
    "y_few = nb_df.benign_malignant # target\n",
    "\n",
    "X_train, X_test, y_train, y_test = train_test_split(X_few, y_few, test_size=0.2) # 80% training and 20% test\n",
    "\n",
    "nb = GaussianNB() # fit model\n",
    "y_pred = nb.fit(X_train, y_train).predict(X_test)"
   ]
  },
  {
   "cell_type": "code",
   "execution_count": 94,
   "metadata": {},
   "outputs": [
    {
     "name": "stdout",
     "output_type": "stream",
     "text": [
      "Accuracy: 0.9635036496350365\n",
      "Precision: 0.9166666666666666\n",
      "Recall: 0.9777777777777777\n"
     ]
    }
   ],
   "source": [
    "print(\"Accuracy:\",metrics.accuracy_score(y_test, y_pred))\n",
    "print(\"Precision:\",metrics.precision_score(y_test, y_pred))\n",
    "print(\"Recall:\",metrics.recall_score(y_test, y_pred)) # get some important metrics"
   ]
  },
  {
   "cell_type": "code",
   "execution_count": 95,
   "metadata": {},
   "outputs": [
    {
     "name": "stdout",
     "output_type": "stream",
     "text": [
      "Scores: [0.94202899 0.92753623 0.95652174 0.94202899 0.97058824 0.95588235\n",
      " 0.98529412 0.98529412 0.98529412 0.98507463]\n",
      "Mean: 0.9635543510071127\n",
      "Standard deviation: 0.02064644030085901\n"
     ]
    }
   ],
   "source": [
    "scores = cross_val_score(nb, X_few, y_few, cv=10, scoring='accuracy') # use k-fold cross-validation to assess model, 10 folds\n",
    "display_scores(scores)"
   ]
  },
  {
   "cell_type": "code",
   "execution_count": 96,
   "metadata": {},
   "outputs": [
    {
     "name": "stdout",
     "output_type": "stream",
     "text": [
      "Scores: [0.88461538 1.         0.88888889 0.88461538 0.92307692 0.92\n",
      " 1.         0.96       1.         0.95833333]\n",
      "Mean: 0.9419529914529916\n",
      "Standard deviation: 0.04575108393154945\n"
     ]
    }
   ],
   "source": [
    "scores = cross_val_score(nb, X_few, y_few, cv=10, scoring='precision') # use k-fold cross-validation to assess model, 10 folds\n",
    "display_scores(scores)"
   ]
  },
  {
   "cell_type": "code",
   "execution_count": 97,
   "metadata": {},
   "outputs": [
    {
     "name": "stdout",
     "output_type": "stream",
     "text": [
      "Scores: [0.95833333 0.79166667 1.         0.95833333 1.         0.95833333\n",
      " 0.95833333 1.         0.95833333 1.        ]\n",
      "Mean: 0.9583333333333334\n",
      "Standard deviation: 0.05892556509887897\n"
     ]
    }
   ],
   "source": [
    "scores = cross_val_score(nb, X_few, y_few, cv=10, scoring='recall') # use k-fold cross-validation to assess model, 10 folds\n",
    "display_scores(scores)"
   ]
  },
  {
   "cell_type": "code",
   "execution_count": 98,
   "metadata": {},
   "outputs": [
    {
     "data": {
      "image/png": "[encoded data removed]",
      "text/plain": [
       "<Figure size 432x288 with 1 Axes>"
      ]
     },
     "metadata": {
      "needs_background": "light"
     },
     "output_type": "display_data"
    }
   ],
   "source": [
    "y_pred_proba = nb.predict_proba(X_test)[::,1]\n",
    "fpr, tpr, _ = metrics.roc_curve(y_test, y_pred_proba)\n",
    "auc = metrics.roc_auc_score(y_test, y_pred_proba)\n",
    "plt.plot(fpr,tpr,label=\"data 1, auc=\"+str(auc))\n",
    "plt.legend(loc=4)\n",
    "plt.show() # show the ROC curve and the AUC"
   ]
  },
  {
   "cell_type": "markdown",
   "metadata": {},
   "source": [
    "This simple Naive Bayes classifier's accuracy and precision are a smidge lower than the Option 2 full random forest classifier, but its recall is tied for highest of any of the models, which is significant for this task. Let's see how it does with all the available features instead of just three."
   ]
  },
  {
   "cell_type": "markdown",
   "metadata": {},
   "source": [
    "## Model Option 7: Naive Bayes with All Features"
   ]
  },
  {
   "cell_type": "markdown",
   "metadata": {},
   "source": [
    "My last model attempt will be a Naive Bayes classifier with all the available features from the dataset. This will show if the simpler Naive Bayes approach above could be improved upon still further with more information for the prediction."
   ]
  },
  {
   "cell_type": "code",
   "execution_count": 99,
   "metadata": {},
   "outputs": [],
   "source": [
    "feature_cols = ['clump_thickness', 'uniformity_size', 'uniformity_shape',\n",
    "       'marginal_adhesion', 'single_cell_size', 'bare_nuclei',\n",
    "       'bland_chromatin', 'normal_nucleoli', 'mitoses'] # include all the features\n",
    "X = nb_df[feature_cols] # features for model\n",
    "y = nb_df.benign_malignant # target\n",
    "\n",
    "# Split dataset into training set and test set\n",
    "X_train, X_test, y_train, y_test = train_test_split(X, y, test_size=0.2) # 80% training and 20% test\n",
    "\n",
    "gnb_full = GaussianNB()\n",
    "y_pred = gnb_full.fit(X_train, y_train).predict(X_test)"
   ]
  },
  {
   "cell_type": "code",
   "execution_count": 100,
   "metadata": {},
   "outputs": [
    {
     "name": "stdout",
     "output_type": "stream",
     "text": [
      "Accuracy: 0.9854014598540146\n",
      "Precision: 0.9782608695652174\n",
      "Recall: 0.9782608695652174\n"
     ]
    }
   ],
   "source": [
    "print(\"Accuracy:\",metrics.accuracy_score(y_test, y_pred))\n",
    "print(\"Precision:\",metrics.precision_score(y_test, y_pred))\n",
    "print(\"Recall:\",metrics.recall_score(y_test, y_pred)) # get some important metrics"
   ]
  },
  {
   "cell_type": "code",
   "execution_count": 101,
   "metadata": {},
   "outputs": [
    {
     "name": "stdout",
     "output_type": "stream",
     "text": [
      "Scores: [0.92753623 0.95652174 0.94202899 0.94202899 0.98529412 0.95588235\n",
      " 0.97058824 0.97058824 0.98529412 0.97014925]\n",
      "Mean: 0.9605912254583858\n",
      "Standard deviation: 0.01825426630766469\n"
     ]
    }
   ],
   "source": [
    "scores = cross_val_score(gnb_full, X, y, cv=10, scoring='accuracy') # use k-fold cross-validation to assess model, 10 folds\n",
    "display_scores(scores)"
   ]
  },
  {
   "cell_type": "code",
   "execution_count": 102,
   "metadata": {},
   "outputs": [
    {
     "name": "stdout",
     "output_type": "stream",
     "text": [
      "Scores: [0.85185185 0.88888889 0.85714286 0.88461538 0.96       0.92\n",
      " 0.95833333 0.95833333 1.         0.92      ]\n",
      "Mean: 0.9199165649165648\n",
      "Standard deviation: 0.046641164243002874\n"
     ]
    }
   ],
   "source": [
    "scores = cross_val_score(gnb_full, X, y, cv=10, scoring='precision') # use k-fold cross-validation to assess model, 10 folds\n",
    "display_scores(scores)"
   ]
  },
  {
   "cell_type": "code",
   "execution_count": 103,
   "metadata": {},
   "outputs": [
    {
     "name": "stdout",
     "output_type": "stream",
     "text": [
      "Scores: [0.95833333 1.         1.         0.95833333 1.         0.95833333\n",
      " 0.95833333 0.95833333 0.95833333 1.        ]\n",
      "Mean: 0.975\n",
      "Standard deviation: 0.02041241452319313\n"
     ]
    }
   ],
   "source": [
    "scores = cross_val_score(gnb_full, X, y, cv=10, scoring='recall') # use k-fold cross-validation to assess model, 10 folds\n",
    "display_scores(scores)"
   ]
  },
  {
   "cell_type": "code",
   "execution_count": 104,
   "metadata": {},
   "outputs": [
    {
     "data": {
      "image/png": "[encoded data removed]",
      "text/plain": [
       "<Figure size 432x288 with 1 Axes>"
      ]
     },
     "metadata": {
      "needs_background": "light"
     },
     "output_type": "display_data"
    }
   ],
   "source": [
    "y_pred_proba = gnb_full.predict_proba(X_test)[::,1]\n",
    "fpr, tpr, _ = metrics.roc_curve(y_test, y_pred_proba)\n",
    "auc = metrics.roc_auc_score(y_test, y_pred_proba)\n",
    "plt.plot(fpr,tpr,label=\"data 1, auc=\"+str(auc))\n",
    "plt.legend(loc=4)\n",
    "plt.show() # show the ROC curve and the AUC"
   ]
  },
  {
   "cell_type": "markdown",
   "metadata": {},
   "source": [
    "This Naive Bayes classifier using all the features in the dataset has the highest recall of any model tested, and its accuracy is comparable to the previous leader of the model pack, the full random forest classifier (Option 2). Its precision is a bit lower, but that metric is of lower priority than recall and accuracy for this task. Therefore, this model appears to be the winner among the seven models constructed here."
   ]
  },
  {
   "cell_type": "markdown",
   "metadata": {},
   "source": [
    "# Recommendations and Next Steps"
   ]
  },
  {
   "cell_type": "markdown",
   "metadata": {},
   "source": [
    "As noted above, I would recommend that for this specific task, the diagnostician use Option 7 above, the Naive Bayes classifier including all available features in the dataset.\n",
    "\n",
    "To further explore these data and develop useful models for prediction, I would consider an oversampling strategy like SMOTE to better balance the data. I would also try a basic neural network to see if I could beat my chosen classifier here. I would try to gain better subject matter knowledge to understand whether the features in the dataset could be logically and reasonably combined to improve the modeling approach."
   ]
  }
 ],
 "metadata": {
  "kernelspec": {
   "display_name": "Python 3",
   "language": "python",
   "name": "python3"
  },
  "language_info": {
   "codemirror_mode": {
    "name": "ipython",
    "version": 3
   },
   "file_extension": ".py",
   "mimetype": "text/x-python",
   "name": "python",
   "nbconvert_exporter": "python",
   "pygments_lexer": "ipython3",
   "version": "3.7.3"
  }
 },
 "nbformat": 4,
 "nbformat_minor": 2
}
