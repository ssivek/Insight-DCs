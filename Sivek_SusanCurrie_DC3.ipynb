{
 "cells": [
  {
   "cell_type": "markdown",
   "metadata": {},
   "source": [
    "# Data Challenge 3: Understanding Employee Churn\n",
    "\n",
    "## Susan Currie Sivek\n",
    "\n",
    "This client sought a deeper understanding of factors affecting employee churn at a set of companies. Given that churn is costly and destabilizing to a company, finding out when and why it occurs could suggest useful changes to HR and other management practices.\n",
    "\n",
    "This dataset included over 34K records on employees from various companies gathered from 1/24/11 to 12/13/2015. However, 10K of those records belonged to temporary contractors. Since employee churn is the main focus here, I focused my analysis on \"permanent,\" long-term employees.\n",
    "\n",
    "### Key Takeaways:\n",
    "- Seniority (experience at hiring) and salary are not strongly correlated to an employee's duration of employment.\n",
    "- The employee's specific corporate department does not appear to be strongly related either.\n",
    "- Employees hired earlier among those included in these data had a greater likelihood of making it to 2+ years of employment. This difference could be explained by specific company practices, management changes, or even broader economic conditions."
   ]
  },
  {
   "cell_type": "markdown",
   "metadata": {},
   "source": [
    "## Data Cleaning\n",
    "\n",
    "First I'll import the data and get it ready for analysis."
   ]
  },
  {
   "cell_type": "code",
   "execution_count": 11,
   "metadata": {},
   "outputs": [],
   "source": [
    "# import necessary tools\n",
    "\n",
    "import pandas as pd\n",
    "import matplotlib.pyplot as plt\n",
    "import numpy as np\n",
    "import datetime\n",
    "%matplotlib inline\n",
    "import seaborn as sns"
   ]
  },
  {
   "cell_type": "code",
   "execution_count": 2,
   "metadata": {},
   "outputs": [],
   "source": [
    "df = pd.read_csv(\"/Users/ssivek/Insight_Projects/data_c/Week 7/employee_retention.csv\")"
   ]
  },
  {
   "cell_type": "code",
   "execution_count": 4,
   "metadata": {},
   "outputs": [],
   "source": [
    "# delete unnamed, employee ID columns; unnecessary\n",
    "df = df.drop(['Unnamed: 0'], axis=1) \n",
    "df = df.drop(['employee_id'], axis=1)"
   ]
  },
  {
   "cell_type": "code",
   "execution_count": 5,
   "metadata": {},
   "outputs": [],
   "source": [
    "# standardize date styles in join_date column\n",
    "dot_dates = df[df['join_date'].str.contains(\"\\.\")]\n",
    "hyp_dates = df[df['join_date'].str.contains(\"-\")]"
   ]
  },
  {
   "cell_type": "code",
   "execution_count": 6,
   "metadata": {
    "collapsed": true
   },
   "outputs": [
    {
     "name": "stderr",
     "output_type": "stream",
     "text": [
      "/Users/ssivek/anaconda3/lib/python3.7/site-packages/ipykernel_launcher.py:2: SettingWithCopyWarning: \n",
      "A value is trying to be set on a copy of a slice from a DataFrame.\n",
      "Try using .loc[row_indexer,col_indexer] = value instead\n",
      "\n",
      "See the caveats in the documentation: http://pandas.pydata.org/pandas-docs/stable/indexing.html#indexing-view-versus-copy\n",
      "  \n",
      "/Users/ssivek/anaconda3/lib/python3.7/site-packages/ipykernel_launcher.py:3: SettingWithCopyWarning: \n",
      "A value is trying to be set on a copy of a slice from a DataFrame.\n",
      "Try using .loc[row_indexer,col_indexer] = value instead\n",
      "\n",
      "See the caveats in the documentation: http://pandas.pydata.org/pandas-docs/stable/indexing.html#indexing-view-versus-copy\n",
      "  This is separate from the ipykernel package so we can avoid doing imports until\n"
     ]
    }
   ],
   "source": [
    "# make cleaned columns and concat back together; drop old messy join_date column\n",
    "dot_dates['join_date_clean'] = pd.to_datetime(dot_dates['join_date'], format='%m.%d.%Y', errors='coerce')\n",
    "hyp_dates['join_date_clean'] = pd.to_datetime(hyp_dates['join_date'], format='%Y-%m-%d', errors='coerce')"
   ]
  },
  {
   "cell_type": "code",
   "execution_count": 7,
   "metadata": {},
   "outputs": [],
   "source": [
    "new_dates = pd.concat([dot_dates, hyp_dates], axis=0, verify_integrity=True)"
   ]
  },
  {
   "cell_type": "code",
   "execution_count": 9,
   "metadata": {},
   "outputs": [],
   "source": [
    "# need to also get quit date into datetime format\n",
    "new_dates['quit_date_clean'] = pd.to_datetime(new_dates['quit_date'], format='%Y-%m-%d', errors='coerce')"
   ]
  },
  {
   "cell_type": "code",
   "execution_count": 10,
   "metadata": {},
   "outputs": [],
   "source": [
    "# remove old date columns for clarity\n",
    "new_dates = new_dates.drop(['join_date', 'quit_date'], axis=1)"
   ]
  },
  {
   "cell_type": "code",
   "execution_count": 12,
   "metadata": {},
   "outputs": [
    {
     "name": "stdout",
     "output_type": "stream",
     "text": [
      "2015-12-13\n"
     ]
    }
   ],
   "source": [
    "# make feature for employment duration for those currently employed as of dataset date, 2015/12/13 \n",
    "d = datetime.date(2015, 12, 13)\n",
    "print(d)"
   ]
  },
  {
   "cell_type": "code",
   "execution_count": 21,
   "metadata": {},
   "outputs": [],
   "source": [
    "new_dates['data_end_date'] = d"
   ]
  },
  {
   "cell_type": "code",
   "execution_count": 22,
   "metadata": {},
   "outputs": [],
   "source": [
    "new_dates['data_end_date'] = pd.to_datetime(new_dates['data_end_date'], format='%Y-%m-%d', errors='coerce')"
   ]
  },
  {
   "cell_type": "code",
   "execution_count": 23,
   "metadata": {},
   "outputs": [],
   "source": [
    "new_dates['emp_duration'] = ''"
   ]
  },
  {
   "cell_type": "code",
   "execution_count": 33,
   "metadata": {},
   "outputs": [],
   "source": [
    "# add employment duration column\n",
    "new_dates.loc[new_dates['emp_duration'].isnull(),'emp_duration'] = (new_dates['quit_date_clean'] - new_dates['join_date_clean']).dt.days.div(365.25).round(4)"
   ]
  },
  {
   "cell_type": "code",
   "execution_count": 34,
   "metadata": {},
   "outputs": [
    {
     "data": {
      "text/html": [
       "<div>\n",
       "<style scoped>\n",
       "    .dataframe tbody tr th:only-of-type {\n",
       "        vertical-align: middle;\n",
       "    }\n",
       "\n",
       "    .dataframe tbody tr th {\n",
       "        vertical-align: top;\n",
       "    }\n",
       "\n",
       "    .dataframe thead th {\n",
       "        text-align: right;\n",
       "    }\n",
       "</style>\n",
       "<table border=\"1\" class=\"dataframe\">\n",
       "  <thead>\n",
       "    <tr style=\"text-align: right;\">\n",
       "      <th></th>\n",
       "      <th>company_id</th>\n",
       "      <th>dept</th>\n",
       "      <th>seniority</th>\n",
       "      <th>salary</th>\n",
       "      <th>join_date_clean</th>\n",
       "      <th>quit_date_clean</th>\n",
       "      <th>data_end_date</th>\n",
       "      <th>emp_duration</th>\n",
       "    </tr>\n",
       "  </thead>\n",
       "  <tbody>\n",
       "    <tr>\n",
       "      <th>1</th>\n",
       "      <td>8</td>\n",
       "      <td>design</td>\n",
       "      <td>21</td>\n",
       "      <td>191000.0</td>\n",
       "      <td>2011-05-17</td>\n",
       "      <td>2012-03-16</td>\n",
       "      <td>2015-12-13</td>\n",
       "      <td>0.8323</td>\n",
       "    </tr>\n",
       "    <tr>\n",
       "      <th>7</th>\n",
       "      <td>7</td>\n",
       "      <td>data_science</td>\n",
       "      <td>7</td>\n",
       "      <td>140000.0</td>\n",
       "      <td>2011-12-27</td>\n",
       "      <td>2013-08-30</td>\n",
       "      <td>2015-12-13</td>\n",
       "      <td>1.6756</td>\n",
       "    </tr>\n",
       "    <tr>\n",
       "      <th>8</th>\n",
       "      <td>10</td>\n",
       "      <td>data_science</td>\n",
       "      <td>16</td>\n",
       "      <td>238000.0</td>\n",
       "      <td>2013-12-23</td>\n",
       "      <td>NaT</td>\n",
       "      <td>2015-12-13</td>\n",
       "      <td>1.9713</td>\n",
       "    </tr>\n",
       "    <tr>\n",
       "      <th>23</th>\n",
       "      <td>1</td>\n",
       "      <td>sales</td>\n",
       "      <td>19</td>\n",
       "      <td>179000.0</td>\n",
       "      <td>2011-09-19</td>\n",
       "      <td>2012-11-02</td>\n",
       "      <td>2015-12-13</td>\n",
       "      <td>1.1225</td>\n",
       "    </tr>\n",
       "    <tr>\n",
       "      <th>34</th>\n",
       "      <td>2</td>\n",
       "      <td>engineer</td>\n",
       "      <td>19</td>\n",
       "      <td>309000.0</td>\n",
       "      <td>2012-01-17</td>\n",
       "      <td>NaT</td>\n",
       "      <td>2015-12-13</td>\n",
       "      <td>3.9042</td>\n",
       "    </tr>\n",
       "  </tbody>\n",
       "</table>\n",
       "</div>"
      ],
      "text/plain": [
       "    company_id          dept  seniority    salary join_date_clean  \\\n",
       "1            8        design         21  191000.0      2011-05-17   \n",
       "7            7  data_science          7  140000.0      2011-12-27   \n",
       "8           10  data_science         16  238000.0      2013-12-23   \n",
       "23           1         sales         19  179000.0      2011-09-19   \n",
       "34           2      engineer         19  309000.0      2012-01-17   \n",
       "\n",
       "   quit_date_clean data_end_date emp_duration  \n",
       "1       2012-03-16    2015-12-13       0.8323  \n",
       "7       2013-08-30    2015-12-13       1.6756  \n",
       "8              NaT    2015-12-13       1.9713  \n",
       "23      2012-11-02    2015-12-13       1.1225  \n",
       "34             NaT    2015-12-13       3.9042  "
      ]
     },
     "execution_count": 34,
     "metadata": {},
     "output_type": "execute_result"
    }
   ],
   "source": [
    "new_dates.head() "
   ]
  },
  {
   "cell_type": "code",
   "execution_count": 35,
   "metadata": {},
   "outputs": [
    {
     "name": "stdout",
     "output_type": "stream",
     "text": [
      "<class 'pandas.core.frame.DataFrame'>\n",
      "Int64Index: 34702 entries, 1 to 34701\n",
      "Data columns (total 8 columns):\n",
      "company_id         34702 non-null int64\n",
      "dept               34702 non-null object\n",
      "seniority          34702 non-null int64\n",
      "salary             34463 non-null float64\n",
      "join_date_clean    34702 non-null datetime64[ns]\n",
      "quit_date_clean    23510 non-null datetime64[ns]\n",
      "data_end_date      34702 non-null datetime64[ns]\n",
      "emp_duration       34702 non-null object\n",
      "dtypes: datetime64[ns](3), float64(1), int64(2), object(2)\n",
      "memory usage: 3.6+ MB\n"
     ]
    }
   ],
   "source": [
    "new_dates.info() # missing data (239 employees) in salary column, and also in quit_date column (11192 employees)"
   ]
  },
  {
   "cell_type": "code",
   "execution_count": 36,
   "metadata": {},
   "outputs": [],
   "source": [
    "df = new_dates # easier name"
   ]
  },
  {
   "cell_type": "markdown",
   "metadata": {},
   "source": [
    "I'm going to take a closer look at the rows that are missing salary and quit date to see if there are any important patterns. Then I can decide how to handle the missing information."
   ]
  },
  {
   "cell_type": "code",
   "execution_count": 37,
   "metadata": {},
   "outputs": [],
   "source": [
    "missing_salary = df[df.salary.isnull()]"
   ]
  },
  {
   "cell_type": "code",
   "execution_count": 92,
   "metadata": {},
   "outputs": [
    {
     "data": {
      "text/plain": [
       "array([[<matplotlib.axes._subplots.AxesSubplot object at 0x1a200885c0>,\n",
       "        <matplotlib.axes._subplots.AxesSubplot object at 0x1a206ff710>],\n",
       "       [<matplotlib.axes._subplots.AxesSubplot object at 0x1a1e1d7c50>,\n",
       "        <matplotlib.axes._subplots.AxesSubplot object at 0x1a1e205208>]],\n",
       "      dtype=object)"
      ]
     },
     "execution_count": 92,
     "metadata": {},
     "output_type": "execute_result"
    },
    {
     "data": {
      "image/png": "[encoded data removed]",
      "text/plain": [
       "<Figure size 432x288 with 4 Axes>"
      ]
     },
     "metadata": {
      "needs_background": "light"
     },
     "output_type": "display_data"
    }
   ],
   "source": [
    "missing_salary.hist()"
   ]
  },
  {
   "cell_type": "code",
   "execution_count": 39,
   "metadata": {},
   "outputs": [
    {
     "data": {
      "text/plain": [
       "<matplotlib.axes._subplots.AxesSubplot at 0x1a1e41de80>"
      ]
     },
     "execution_count": 39,
     "metadata": {},
     "output_type": "execute_result"
    },
    {
     "data": {
      "image/png": "[encoded data removed]",
      "text/plain": [
       "<Figure size 432x288 with 1 Axes>"
      ]
     },
     "metadata": {
      "needs_background": "light"
     },
     "output_type": "display_data"
    }
   ],
   "source": [
    "missing_salary.dept.value_counts().plot(kind='bar')"
   ]
  },
  {
   "cell_type": "code",
   "execution_count": 40,
   "metadata": {},
   "outputs": [
    {
     "name": "stderr",
     "output_type": "stream",
     "text": [
      "/Users/ssivek/anaconda3/lib/python3.7/site-packages/matplotlib/colors.py:512: RuntimeWarning: invalid value encountered in less\n",
      "  xa[xa < 0] = -1\n"
     ]
    },
    {
     "data": {
      "text/html": [
       "<style  type=\"text/css\" >\n",
       "    #T_760ba7d2_a8cf_11e9_a877_acbc3288e987row0_col0 {\n",
       "            background-color:  #3b4cc0;\n",
       "            color:  #f1f1f1;\n",
       "        }    #T_760ba7d2_a8cf_11e9_a877_acbc3288e987row0_col1 {\n",
       "            background-color:  #3b4cc0;\n",
       "            color:  #f1f1f1;\n",
       "        }    #T_760ba7d2_a8cf_11e9_a877_acbc3288e987row0_col2 {\n",
       "            background-color:  #3b4cc0;\n",
       "            color:  #f1f1f1;\n",
       "        }    #T_760ba7d2_a8cf_11e9_a877_acbc3288e987row1_col0 {\n",
       "            background-color:  #3b4cc0;\n",
       "            color:  #f1f1f1;\n",
       "        }    #T_760ba7d2_a8cf_11e9_a877_acbc3288e987row1_col1 {\n",
       "            background-color:  #3b4cc0;\n",
       "            color:  #f1f1f1;\n",
       "        }    #T_760ba7d2_a8cf_11e9_a877_acbc3288e987row1_col2 {\n",
       "            background-color:  #3b4cc0;\n",
       "            color:  #f1f1f1;\n",
       "        }    #T_760ba7d2_a8cf_11e9_a877_acbc3288e987row2_col0 {\n",
       "            background-color:  #3b4cc0;\n",
       "            color:  #f1f1f1;\n",
       "        }    #T_760ba7d2_a8cf_11e9_a877_acbc3288e987row2_col1 {\n",
       "            background-color:  #3b4cc0;\n",
       "            color:  #f1f1f1;\n",
       "        }    #T_760ba7d2_a8cf_11e9_a877_acbc3288e987row2_col2 {\n",
       "            background-color:  #3b4cc0;\n",
       "            color:  #f1f1f1;\n",
       "        }</style><table id=\"T_760ba7d2_a8cf_11e9_a877_acbc3288e987\" ><thead>    <tr>        <th class=\"blank level0\" ></th>        <th class=\"col_heading level0 col0\" >company_id</th>        <th class=\"col_heading level0 col1\" >seniority</th>        <th class=\"col_heading level0 col2\" >salary</th>    </tr></thead><tbody>\n",
       "                <tr>\n",
       "                        <th id=\"T_760ba7d2_a8cf_11e9_a877_acbc3288e987level0_row0\" class=\"row_heading level0 row0\" >company_id</th>\n",
       "                        <td id=\"T_760ba7d2_a8cf_11e9_a877_acbc3288e987row0_col0\" class=\"data row0 col0\" >1</td>\n",
       "                        <td id=\"T_760ba7d2_a8cf_11e9_a877_acbc3288e987row0_col1\" class=\"data row0 col1\" >0.00783054</td>\n",
       "                        <td id=\"T_760ba7d2_a8cf_11e9_a877_acbc3288e987row0_col2\" class=\"data row0 col2\" >nan</td>\n",
       "            </tr>\n",
       "            <tr>\n",
       "                        <th id=\"T_760ba7d2_a8cf_11e9_a877_acbc3288e987level0_row1\" class=\"row_heading level0 row1\" >seniority</th>\n",
       "                        <td id=\"T_760ba7d2_a8cf_11e9_a877_acbc3288e987row1_col0\" class=\"data row1 col0\" >0.00783054</td>\n",
       "                        <td id=\"T_760ba7d2_a8cf_11e9_a877_acbc3288e987row1_col1\" class=\"data row1 col1\" >1</td>\n",
       "                        <td id=\"T_760ba7d2_a8cf_11e9_a877_acbc3288e987row1_col2\" class=\"data row1 col2\" >nan</td>\n",
       "            </tr>\n",
       "            <tr>\n",
       "                        <th id=\"T_760ba7d2_a8cf_11e9_a877_acbc3288e987level0_row2\" class=\"row_heading level0 row2\" >salary</th>\n",
       "                        <td id=\"T_760ba7d2_a8cf_11e9_a877_acbc3288e987row2_col0\" class=\"data row2 col0\" >nan</td>\n",
       "                        <td id=\"T_760ba7d2_a8cf_11e9_a877_acbc3288e987row2_col1\" class=\"data row2 col1\" >nan</td>\n",
       "                        <td id=\"T_760ba7d2_a8cf_11e9_a877_acbc3288e987row2_col2\" class=\"data row2 col2\" >nan</td>\n",
       "            </tr>\n",
       "    </tbody></table>"
      ],
      "text/plain": [
       "<pandas.io.formats.style.Styler at 0x1a1dbe7f98>"
      ]
     },
     "execution_count": 40,
     "metadata": {},
     "output_type": "execute_result"
    }
   ],
   "source": [
    "corr = missing_salary.corr()\n",
    "corr.style.background_gradient(cmap='coolwarm')"
   ]
  },
  {
   "cell_type": "markdown",
   "metadata": {},
   "source": [
    "The missing salary information seems to be scattered across the companies, salaries, departments, and seniority levels, with no discernible pattern. I haven't checked for any pattern by date, though. Let's check out quit dates more closely. Maybe this information wasn't recorded for people at a particular time."
   ]
  },
  {
   "cell_type": "code",
   "execution_count": 41,
   "metadata": {},
   "outputs": [],
   "source": [
    "missing_quit = df[df.quit_date_clean.isnull()]"
   ]
  },
  {
   "cell_type": "code",
   "execution_count": 42,
   "metadata": {},
   "outputs": [
    {
     "data": {
      "text/plain": [
       "array([[<matplotlib.axes._subplots.AxesSubplot object at 0x1c1804e198>,\n",
       "        <matplotlib.axes._subplots.AxesSubplot object at 0x1c1871d320>],\n",
       "       [<matplotlib.axes._subplots.AxesSubplot object at 0x1c18744860>,\n",
       "        <matplotlib.axes._subplots.AxesSubplot object at 0x1c18948dd8>]],\n",
       "      dtype=object)"
      ]
     },
     "execution_count": 42,
     "metadata": {},
     "output_type": "execute_result"
    },
    {
     "data": {
      "image/png": "[encoded data removed]",
      "text/plain": [
       "<Figure size 432x288 with 4 Axes>"
      ]
     },
     "metadata": {
      "needs_background": "light"
     },
     "output_type": "display_data"
    }
   ],
   "source": [
    "missing_quit.hist()"
   ]
  },
  {
   "cell_type": "code",
   "execution_count": 43,
   "metadata": {},
   "outputs": [
    {
     "data": {
      "text/plain": [
       "<matplotlib.axes._subplots.AxesSubplot at 0x1c18c92d30>"
      ]
     },
     "execution_count": 43,
     "metadata": {},
     "output_type": "execute_result"
    },
    {
     "data": {
      "image/png": "[encoded data removed]",
      "text/plain": [
       "<Figure size 432x288 with 1 Axes>"
      ]
     },
     "metadata": {
      "needs_background": "light"
     },
     "output_type": "display_data"
    }
   ],
   "source": [
    "missing_quit.dept.value_counts().plot(kind='bar')"
   ]
  },
  {
   "cell_type": "markdown",
   "metadata": {},
   "source": [
    "Once again, the missing quit date information looks to be scattered across the companies, departments, and seniority levels, with no discernible pattern. \n",
    "\n",
    "Salary is missing in only a small number of rows (<1% of my dataset). The missing quit dates may represent employees still employed. But there's one more thing to check: is the data missing for employees with any specific start date?"
   ]
  },
  {
   "cell_type": "code",
   "execution_count": 44,
   "metadata": {
    "collapsed": true
   },
   "outputs": [
    {
     "data": {
      "text/plain": [
       "2013-01-14    5\n",
       "2015-01-20    5\n",
       "2014-06-16    4\n",
       "2015-07-27    4\n",
       "2012-09-10    4\n",
       "2011-11-07    4\n",
       "2014-03-31    3\n",
       "2012-12-11    3\n",
       "2011-06-13    3\n",
       "2015-08-24    3\n",
       "2015-09-21    3\n",
       "2012-03-12    3\n",
       "2013-10-14    3\n",
       "2013-04-08    3\n",
       "2012-01-03    2\n",
       "2014-01-21    2\n",
       "2012-10-08    2\n",
       "2014-08-18    2\n",
       "2015-04-13    2\n",
       "2015-03-16    2\n",
       "2013-01-07    2\n",
       "2011-06-20    2\n",
       "2011-10-31    2\n",
       "2014-12-29    2\n",
       "2012-09-24    2\n",
       "2015-03-09    2\n",
       "2014-11-24    2\n",
       "2011-06-27    2\n",
       "2011-03-21    2\n",
       "2014-01-27    2\n",
       "             ..\n",
       "2012-12-10    1\n",
       "2011-10-18    1\n",
       "2014-04-15    1\n",
       "2015-01-12    1\n",
       "2014-06-30    1\n",
       "2015-10-19    1\n",
       "2012-01-12    1\n",
       "2014-09-02    1\n",
       "2014-01-15    1\n",
       "2012-05-15    1\n",
       "2011-04-25    1\n",
       "2013-09-30    1\n",
       "2013-10-28    1\n",
       "2014-08-04    1\n",
       "2015-01-13    1\n",
       "2011-05-24    1\n",
       "2015-10-26    1\n",
       "2012-07-24    1\n",
       "2013-10-15    1\n",
       "2013-05-06    1\n",
       "2015-02-09    1\n",
       "2015-10-12    1\n",
       "2014-07-07    1\n",
       "2013-07-31    1\n",
       "2014-03-12    1\n",
       "2015-08-04    1\n",
       "2013-12-02    1\n",
       "2012-10-29    1\n",
       "2012-01-23    1\n",
       "2014-10-06    1\n",
       "Name: join_date_clean, Length: 173, dtype: int64"
      ]
     },
     "execution_count": 44,
     "metadata": {},
     "output_type": "execute_result"
    }
   ],
   "source": [
    "missing_salary['join_date_clean'].value_counts() # no pattern visible here"
   ]
  },
  {
   "cell_type": "code",
   "execution_count": 45,
   "metadata": {
    "collapsed": true
   },
   "outputs": [
    {
     "data": {
      "text/plain": [
       "2015-07-06    93\n",
       "2015-06-08    92\n",
       "2015-03-16    91\n",
       "2015-03-09    90\n",
       "2015-10-19    89\n",
       "2015-01-20    89\n",
       "2015-02-09    89\n",
       "2015-09-14    88\n",
       "2015-09-21    88\n",
       "2015-02-17    88\n",
       "2015-08-03    87\n",
       "2015-08-10    87\n",
       "2015-03-23    87\n",
       "2015-10-05    86\n",
       "2015-11-30    86\n",
       "2015-05-26    86\n",
       "2015-11-16    86\n",
       "2015-10-26    85\n",
       "2015-07-27    85\n",
       "2015-06-22    84\n",
       "2015-04-13    84\n",
       "2015-05-11    84\n",
       "2015-10-12    84\n",
       "2015-01-26    83\n",
       "2015-11-23    83\n",
       "2015-07-13    81\n",
       "2015-05-18    80\n",
       "2015-08-31    80\n",
       "2015-06-01    79\n",
       "2015-11-02    79\n",
       "              ..\n",
       "2013-04-10     1\n",
       "2014-11-06     1\n",
       "2013-09-24     1\n",
       "2013-04-02     1\n",
       "2012-02-28     1\n",
       "2012-07-03     1\n",
       "2012-08-29     1\n",
       "2013-04-16     1\n",
       "2011-12-14     1\n",
       "2014-05-22     1\n",
       "2012-10-03     1\n",
       "2011-02-14     1\n",
       "2013-07-18     1\n",
       "2013-07-24     1\n",
       "2012-11-07     1\n",
       "2012-02-22     1\n",
       "2015-02-06     1\n",
       "2014-08-01     1\n",
       "2012-09-13     1\n",
       "2012-08-07     1\n",
       "2013-11-07     1\n",
       "2012-11-20     1\n",
       "2012-01-05     1\n",
       "2011-06-21     1\n",
       "2013-01-16     1\n",
       "2013-06-06     1\n",
       "2014-08-14     1\n",
       "2012-09-06     1\n",
       "2011-08-17     1\n",
       "2012-01-18     1\n",
       "Name: join_date_clean, Length: 785, dtype: int64"
      ]
     },
     "execution_count": 45,
     "metadata": {},
     "output_type": "execute_result"
    }
   ],
   "source": [
    "missing_quit['join_date_clean'].value_counts() \n",
    "# no pattern visible here either, except that, naturally, \n",
    "# more new hires are missing quit dates because they're still employed"
   ]
  },
  {
   "cell_type": "markdown",
   "metadata": {},
   "source": [
    "## Wrapping Up Data Prep and Adding Features\n",
    "\n",
    "Since I don't see any patterns in where/how the salary and quit date data are missing, I'm going to:\n",
    "\n",
    "- delete the rows with missing salary information, since there are so few of them and the effect should be negligible\n",
    "- assume that the rows with missing quit dates do actually belong to employees still employed by the company"
   ]
  },
  {
   "cell_type": "code",
   "execution_count": 46,
   "metadata": {},
   "outputs": [],
   "source": [
    "# delete rows with missing salary information\n",
    "\n",
    "df = df.dropna(subset=['salary'])"
   ]
  },
  {
   "cell_type": "code",
   "execution_count": 48,
   "metadata": {},
   "outputs": [],
   "source": [
    "df = df.drop(['data_end_date'], axis=1) # don't need this now"
   ]
  },
  {
   "cell_type": "code",
   "execution_count": 49,
   "metadata": {},
   "outputs": [
    {
     "data": {
      "text/html": [
       "<div>\n",
       "<style scoped>\n",
       "    .dataframe tbody tr th:only-of-type {\n",
       "        vertical-align: middle;\n",
       "    }\n",
       "\n",
       "    .dataframe tbody tr th {\n",
       "        vertical-align: top;\n",
       "    }\n",
       "\n",
       "    .dataframe thead th {\n",
       "        text-align: right;\n",
       "    }\n",
       "</style>\n",
       "<table border=\"1\" class=\"dataframe\">\n",
       "  <thead>\n",
       "    <tr style=\"text-align: right;\">\n",
       "      <th></th>\n",
       "      <th>company_id</th>\n",
       "      <th>dept</th>\n",
       "      <th>seniority</th>\n",
       "      <th>salary</th>\n",
       "      <th>join_date_clean</th>\n",
       "      <th>quit_date_clean</th>\n",
       "      <th>emp_duration</th>\n",
       "    </tr>\n",
       "  </thead>\n",
       "  <tbody>\n",
       "    <tr>\n",
       "      <th>1</th>\n",
       "      <td>8</td>\n",
       "      <td>design</td>\n",
       "      <td>21</td>\n",
       "      <td>191000.0</td>\n",
       "      <td>2011-05-17</td>\n",
       "      <td>2012-03-16</td>\n",
       "      <td>0.8323</td>\n",
       "    </tr>\n",
       "    <tr>\n",
       "      <th>7</th>\n",
       "      <td>7</td>\n",
       "      <td>data_science</td>\n",
       "      <td>7</td>\n",
       "      <td>140000.0</td>\n",
       "      <td>2011-12-27</td>\n",
       "      <td>2013-08-30</td>\n",
       "      <td>1.6756</td>\n",
       "    </tr>\n",
       "    <tr>\n",
       "      <th>8</th>\n",
       "      <td>10</td>\n",
       "      <td>data_science</td>\n",
       "      <td>16</td>\n",
       "      <td>238000.0</td>\n",
       "      <td>2013-12-23</td>\n",
       "      <td>NaT</td>\n",
       "      <td>1.9713</td>\n",
       "    </tr>\n",
       "    <tr>\n",
       "      <th>23</th>\n",
       "      <td>1</td>\n",
       "      <td>sales</td>\n",
       "      <td>19</td>\n",
       "      <td>179000.0</td>\n",
       "      <td>2011-09-19</td>\n",
       "      <td>2012-11-02</td>\n",
       "      <td>1.1225</td>\n",
       "    </tr>\n",
       "    <tr>\n",
       "      <th>34</th>\n",
       "      <td>2</td>\n",
       "      <td>engineer</td>\n",
       "      <td>19</td>\n",
       "      <td>309000.0</td>\n",
       "      <td>2012-01-17</td>\n",
       "      <td>NaT</td>\n",
       "      <td>3.9042</td>\n",
       "    </tr>\n",
       "  </tbody>\n",
       "</table>\n",
       "</div>"
      ],
      "text/plain": [
       "    company_id          dept  seniority    salary join_date_clean  \\\n",
       "1            8        design         21  191000.0      2011-05-17   \n",
       "7            7  data_science          7  140000.0      2011-12-27   \n",
       "8           10  data_science         16  238000.0      2013-12-23   \n",
       "23           1         sales         19  179000.0      2011-09-19   \n",
       "34           2      engineer         19  309000.0      2012-01-17   \n",
       "\n",
       "   quit_date_clean emp_duration  \n",
       "1       2012-03-16       0.8323  \n",
       "7       2013-08-30       1.6756  \n",
       "8              NaT       1.9713  \n",
       "23      2012-11-02       1.1225  \n",
       "34             NaT       3.9042  "
      ]
     },
     "execution_count": 49,
     "metadata": {},
     "output_type": "execute_result"
    }
   ],
   "source": [
    "df.head()"
   ]
  },
  {
   "cell_type": "code",
   "execution_count": 57,
   "metadata": {},
   "outputs": [],
   "source": [
    "df.emp_duration = df.emp_duration.astype(float)"
   ]
  },
  {
   "cell_type": "code",
   "execution_count": 60,
   "metadata": {},
   "outputs": [],
   "source": [
    "df.to_csv(\"/Users/ssivek/Insight_Projects/data_c/Week 7/employee_retention_clean.csv\") # keep a clean copy"
   ]
  },
  {
   "cell_type": "code",
   "execution_count": 61,
   "metadata": {},
   "outputs": [],
   "source": [
    "work = df"
   ]
  },
  {
   "cell_type": "markdown",
   "metadata": {},
   "source": [
    "## Temporary Contractors vs. Long-Term Permanent Employees\n",
    "\n",
    "I see that there are 10,000 temporary contractors in this dataset. Given that the focus of this challenge is on employee churn -- and temporary contractors are inherently destined to churn -- I'm going to continue my analysis on only the permanent employees. \n",
    "\n",
    "I'll also focus in on just those employees who were or have been employed two years or more by the companies. This is an arbitrary cutoff. To set this cutoff more judiciously, it would be good to know the time by which the costs of recruitment are \"paid off\" through the employee's work."
   ]
  },
  {
   "cell_type": "code",
   "execution_count": 63,
   "metadata": {},
   "outputs": [
    {
     "data": {
      "text/plain": [
       "temp_contractor     10000\n",
       "customer_service     9089\n",
       "engineer             4569\n",
       "data_science         3157\n",
       "sales                3148\n",
       "marketing            3133\n",
       "design               1367\n",
       "Name: dept, dtype: int64"
      ]
     },
     "execution_count": 63,
     "metadata": {},
     "output_type": "execute_result"
    }
   ],
   "source": [
    "work['dept'].value_counts(ascending=False)"
   ]
  },
  {
   "cell_type": "code",
   "execution_count": 64,
   "metadata": {},
   "outputs": [],
   "source": [
    "# new df of only permanent employees with 2+ years employment\n",
    "\n",
    "perm = work[(work.dept != 'temp_contractor') & (work.emp_duration >= 2)] "
   ]
  },
  {
   "cell_type": "code",
   "execution_count": 65,
   "metadata": {
    "collapsed": true
   },
   "outputs": [
    {
     "data": {
      "text/html": [
       "<div>\n",
       "<style scoped>\n",
       "    .dataframe tbody tr th:only-of-type {\n",
       "        vertical-align: middle;\n",
       "    }\n",
       "\n",
       "    .dataframe tbody tr th {\n",
       "        vertical-align: top;\n",
       "    }\n",
       "\n",
       "    .dataframe thead th {\n",
       "        text-align: right;\n",
       "    }\n",
       "</style>\n",
       "<table border=\"1\" class=\"dataframe\">\n",
       "  <thead>\n",
       "    <tr style=\"text-align: right;\">\n",
       "      <th></th>\n",
       "      <th>company_id</th>\n",
       "      <th>dept</th>\n",
       "      <th>seniority</th>\n",
       "      <th>salary</th>\n",
       "      <th>join_date_clean</th>\n",
       "      <th>quit_date_clean</th>\n",
       "      <th>emp_duration</th>\n",
       "    </tr>\n",
       "  </thead>\n",
       "  <tbody>\n",
       "    <tr>\n",
       "      <th>34</th>\n",
       "      <td>2</td>\n",
       "      <td>engineer</td>\n",
       "      <td>19</td>\n",
       "      <td>309000.0</td>\n",
       "      <td>2012-01-17</td>\n",
       "      <td>NaT</td>\n",
       "      <td>3.9042</td>\n",
       "    </tr>\n",
       "    <tr>\n",
       "      <th>67</th>\n",
       "      <td>3</td>\n",
       "      <td>engineer</td>\n",
       "      <td>24</td>\n",
       "      <td>265000.0</td>\n",
       "      <td>2012-03-05</td>\n",
       "      <td>NaT</td>\n",
       "      <td>3.7728</td>\n",
       "    </tr>\n",
       "    <tr>\n",
       "      <th>69</th>\n",
       "      <td>1</td>\n",
       "      <td>marketing</td>\n",
       "      <td>8</td>\n",
       "      <td>117000.0</td>\n",
       "      <td>2012-10-01</td>\n",
       "      <td>NaT</td>\n",
       "      <td>3.1978</td>\n",
       "    </tr>\n",
       "    <tr>\n",
       "      <th>83</th>\n",
       "      <td>1</td>\n",
       "      <td>sales</td>\n",
       "      <td>15</td>\n",
       "      <td>241000.0</td>\n",
       "      <td>2011-05-31</td>\n",
       "      <td>2014-03-28</td>\n",
       "      <td>2.8255</td>\n",
       "    </tr>\n",
       "    <tr>\n",
       "      <th>86</th>\n",
       "      <td>5</td>\n",
       "      <td>data_science</td>\n",
       "      <td>26</td>\n",
       "      <td>240000.0</td>\n",
       "      <td>2013-06-24</td>\n",
       "      <td>NaT</td>\n",
       "      <td>2.4695</td>\n",
       "    </tr>\n",
       "    <tr>\n",
       "      <th>152</th>\n",
       "      <td>2</td>\n",
       "      <td>marketing</td>\n",
       "      <td>2</td>\n",
       "      <td>50000.0</td>\n",
       "      <td>2011-09-19</td>\n",
       "      <td>2015-04-17</td>\n",
       "      <td>3.5756</td>\n",
       "    </tr>\n",
       "    <tr>\n",
       "      <th>171</th>\n",
       "      <td>3</td>\n",
       "      <td>marketing</td>\n",
       "      <td>2</td>\n",
       "      <td>41000.0</td>\n",
       "      <td>2013-04-15</td>\n",
       "      <td>NaT</td>\n",
       "      <td>2.6612</td>\n",
       "    </tr>\n",
       "    <tr>\n",
       "      <th>188</th>\n",
       "      <td>3</td>\n",
       "      <td>sales</td>\n",
       "      <td>13</td>\n",
       "      <td>85000.0</td>\n",
       "      <td>2013-03-27</td>\n",
       "      <td>NaT</td>\n",
       "      <td>2.7132</td>\n",
       "    </tr>\n",
       "    <tr>\n",
       "      <th>207</th>\n",
       "      <td>3</td>\n",
       "      <td>data_science</td>\n",
       "      <td>7</td>\n",
       "      <td>131000.0</td>\n",
       "      <td>2012-10-15</td>\n",
       "      <td>2014-11-07</td>\n",
       "      <td>2.0616</td>\n",
       "    </tr>\n",
       "    <tr>\n",
       "      <th>218</th>\n",
       "      <td>6</td>\n",
       "      <td>customer_service</td>\n",
       "      <td>5</td>\n",
       "      <td>67000.0</td>\n",
       "      <td>2011-06-27</td>\n",
       "      <td>2014-07-11</td>\n",
       "      <td>3.0390</td>\n",
       "    </tr>\n",
       "    <tr>\n",
       "      <th>229</th>\n",
       "      <td>6</td>\n",
       "      <td>data_science</td>\n",
       "      <td>19</td>\n",
       "      <td>274000.0</td>\n",
       "      <td>2013-08-26</td>\n",
       "      <td>NaT</td>\n",
       "      <td>2.2971</td>\n",
       "    </tr>\n",
       "    <tr>\n",
       "      <th>252</th>\n",
       "      <td>5</td>\n",
       "      <td>engineer</td>\n",
       "      <td>13</td>\n",
       "      <td>145000.0</td>\n",
       "      <td>2012-12-31</td>\n",
       "      <td>NaT</td>\n",
       "      <td>2.9487</td>\n",
       "    </tr>\n",
       "    <tr>\n",
       "      <th>253</th>\n",
       "      <td>9</td>\n",
       "      <td>sales</td>\n",
       "      <td>8</td>\n",
       "      <td>108000.0</td>\n",
       "      <td>2012-04-18</td>\n",
       "      <td>NaT</td>\n",
       "      <td>3.6523</td>\n",
       "    </tr>\n",
       "    <tr>\n",
       "      <th>261</th>\n",
       "      <td>8</td>\n",
       "      <td>sales</td>\n",
       "      <td>19</td>\n",
       "      <td>160000.0</td>\n",
       "      <td>2011-02-14</td>\n",
       "      <td>2013-02-15</td>\n",
       "      <td>2.0041</td>\n",
       "    </tr>\n",
       "    <tr>\n",
       "      <th>266</th>\n",
       "      <td>8</td>\n",
       "      <td>sales</td>\n",
       "      <td>10</td>\n",
       "      <td>123000.0</td>\n",
       "      <td>2011-07-25</td>\n",
       "      <td>2015-11-27</td>\n",
       "      <td>4.3422</td>\n",
       "    </tr>\n",
       "    <tr>\n",
       "      <th>267</th>\n",
       "      <td>2</td>\n",
       "      <td>engineer</td>\n",
       "      <td>28</td>\n",
       "      <td>316000.0</td>\n",
       "      <td>2013-11-11</td>\n",
       "      <td>NaT</td>\n",
       "      <td>2.0862</td>\n",
       "    </tr>\n",
       "    <tr>\n",
       "      <th>283</th>\n",
       "      <td>8</td>\n",
       "      <td>sales</td>\n",
       "      <td>22</td>\n",
       "      <td>181000.0</td>\n",
       "      <td>2011-05-03</td>\n",
       "      <td>2014-08-01</td>\n",
       "      <td>3.2471</td>\n",
       "    </tr>\n",
       "    <tr>\n",
       "      <th>297</th>\n",
       "      <td>1</td>\n",
       "      <td>engineer</td>\n",
       "      <td>14</td>\n",
       "      <td>202000.0</td>\n",
       "      <td>2012-12-10</td>\n",
       "      <td>NaT</td>\n",
       "      <td>3.0062</td>\n",
       "    </tr>\n",
       "    <tr>\n",
       "      <th>302</th>\n",
       "      <td>6</td>\n",
       "      <td>engineer</td>\n",
       "      <td>6</td>\n",
       "      <td>177000.0</td>\n",
       "      <td>2013-07-08</td>\n",
       "      <td>2015-09-04</td>\n",
       "      <td>2.1574</td>\n",
       "    </tr>\n",
       "    <tr>\n",
       "      <th>330</th>\n",
       "      <td>3</td>\n",
       "      <td>sales</td>\n",
       "      <td>12</td>\n",
       "      <td>102000.0</td>\n",
       "      <td>2012-05-08</td>\n",
       "      <td>NaT</td>\n",
       "      <td>3.5975</td>\n",
       "    </tr>\n",
       "  </tbody>\n",
       "</table>\n",
       "</div>"
      ],
      "text/plain": [
       "     company_id              dept  seniority    salary join_date_clean  \\\n",
       "34            2          engineer         19  309000.0      2012-01-17   \n",
       "67            3          engineer         24  265000.0      2012-03-05   \n",
       "69            1         marketing          8  117000.0      2012-10-01   \n",
       "83            1             sales         15  241000.0      2011-05-31   \n",
       "86            5      data_science         26  240000.0      2013-06-24   \n",
       "152           2         marketing          2   50000.0      2011-09-19   \n",
       "171           3         marketing          2   41000.0      2013-04-15   \n",
       "188           3             sales         13   85000.0      2013-03-27   \n",
       "207           3      data_science          7  131000.0      2012-10-15   \n",
       "218           6  customer_service          5   67000.0      2011-06-27   \n",
       "229           6      data_science         19  274000.0      2013-08-26   \n",
       "252           5          engineer         13  145000.0      2012-12-31   \n",
       "253           9             sales          8  108000.0      2012-04-18   \n",
       "261           8             sales         19  160000.0      2011-02-14   \n",
       "266           8             sales         10  123000.0      2011-07-25   \n",
       "267           2          engineer         28  316000.0      2013-11-11   \n",
       "283           8             sales         22  181000.0      2011-05-03   \n",
       "297           1          engineer         14  202000.0      2012-12-10   \n",
       "302           6          engineer          6  177000.0      2013-07-08   \n",
       "330           3             sales         12  102000.0      2012-05-08   \n",
       "\n",
       "    quit_date_clean  emp_duration  \n",
       "34              NaT        3.9042  \n",
       "67              NaT        3.7728  \n",
       "69              NaT        3.1978  \n",
       "83       2014-03-28        2.8255  \n",
       "86              NaT        2.4695  \n",
       "152      2015-04-17        3.5756  \n",
       "171             NaT        2.6612  \n",
       "188             NaT        2.7132  \n",
       "207      2014-11-07        2.0616  \n",
       "218      2014-07-11        3.0390  \n",
       "229             NaT        2.2971  \n",
       "252             NaT        2.9487  \n",
       "253             NaT        3.6523  \n",
       "261      2013-02-15        2.0041  \n",
       "266      2015-11-27        4.3422  \n",
       "267             NaT        2.0862  \n",
       "283      2014-08-01        3.2471  \n",
       "297             NaT        3.0062  \n",
       "302      2015-09-04        2.1574  \n",
       "330             NaT        3.5975  "
      ]
     },
     "execution_count": 65,
     "metadata": {},
     "output_type": "execute_result"
    }
   ],
   "source": [
    "perm.head(20)"
   ]
  },
  {
   "cell_type": "markdown",
   "metadata": {},
   "source": [
    "## Exploratory Analysis: Retention and Its Drivers"
   ]
  },
  {
   "cell_type": "markdown",
   "metadata": {},
   "source": [
    "The goal is to be able to predict employee retention and understand what affects retention (and, presumably, duration of employment). Let's look at some basic descriptive statistics and plots to look for patterns among the employees who have stayed with their companies 2+ years.\n",
    "\n",
    "I am going to pay more attention to the cross-company characteristics than to the individual companies, given the time limitations and the varying number of employees included from each company."
   ]
  },
  {
   "cell_type": "code",
   "execution_count": 67,
   "metadata": {},
   "outputs": [
    {
     "data": {
      "text/plain": [
       "dept\n",
       "data_science        2.880458\n",
       "engineer            2.877154\n",
       "customer_service    2.833974\n",
       "design              2.819062\n",
       "marketing           2.815662\n",
       "sales               2.807605\n",
       "Name: emp_duration, dtype: float64"
      ]
     },
     "execution_count": 67,
     "metadata": {},
     "output_type": "execute_result"
    }
   ],
   "source": [
    "# average number of years worked by employees from each department who left the company\n",
    "perm.groupby('dept')['emp_duration'].mean().sort_values(ascending=False)"
   ]
  },
  {
   "cell_type": "code",
   "execution_count": 82,
   "metadata": {},
   "outputs": [
    {
     "data": {
      "image/png": "[encoded data removed]",
      "text/plain": [
       "<Figure size 720x720 with 1 Axes>"
      ]
     },
     "metadata": {
      "needs_background": "light"
     },
     "output_type": "display_data"
    }
   ],
   "source": [
    "plt.figure(figsize=(10, 10))\n",
    "\n",
    "ax = sns.boxplot(x=\"dept\", y=\"emp_duration\", data=perm)\n",
    " \n",
    "# Calculate number of obs per group & median to position labels\n",
    "medians = perm.groupby(['dept'])['emp_duration'].median().values\n",
    "nobs = perm['dept'].value_counts().values\n",
    "nobs = [str(x) for x in nobs.tolist()]\n",
    "nobs = [\"n: \" + i for i in nobs]\n",
    " \n",
    "# Add it to the plot\n",
    "pos = range(len(nobs))\n",
    "for tick,label in zip(pos,ax.get_xticklabels()):\n",
    "    ax.text(pos[tick], medians[tick] + 0.03, nobs[tick],\n",
    "    horizontalalignment='center', size='x-small', color='w', weight='semibold')"
   ]
  },
  {
   "cell_type": "markdown",
   "metadata": {},
   "source": [
    "The average employment duration is similar across the departments."
   ]
  },
  {
   "cell_type": "code",
   "execution_count": 73,
   "metadata": {},
   "outputs": [],
   "source": [
    "work = work[work.seniority != 98] # delete row with 98 seniority value"
   ]
  },
  {
   "cell_type": "code",
   "execution_count": 75,
   "metadata": {},
   "outputs": [],
   "source": [
    "work = work[work.seniority != 99] # delete row with 99 seniority value"
   ]
  },
  {
   "cell_type": "code",
   "execution_count": 79,
   "metadata": {},
   "outputs": [
    {
     "data": {
      "text/plain": [
       "<matplotlib.axes._subplots.AxesSubplot at 0x1c19d0fc50>"
      ]
     },
     "execution_count": 79,
     "metadata": {},
     "output_type": "execute_result"
    },
    {
     "data": {
      "image/png": "[encoded data removed]",
      "text/plain": [
       "<Figure size 432x288 with 1 Axes>"
      ]
     },
     "metadata": {
      "needs_background": "light"
     },
     "output_type": "display_data"
    }
   ],
   "source": [
    "work.groupby('seniority')['emp_duration'].mean().sort_values(ascending=True).plot(kind='bar') "
   ]
  },
  {
   "cell_type": "markdown",
   "metadata": {},
   "source": [
    "There doesn't look to be a strong connection between years of seniority and employment duration among these employees, except that those hired with no experience are employed for a very short time on average (a couple of months). "
   ]
  },
  {
   "cell_type": "code",
   "execution_count": 80,
   "metadata": {},
   "outputs": [
    {
     "data": {
      "text/html": [
       "<style  type=\"text/css\" >\n",
       "    #T_05b0790c_a8d1_11e9_a877_acbc3288e987row0_col0 {\n",
       "            background-color:  #b40426;\n",
       "            color:  #f1f1f1;\n",
       "        }    #T_05b0790c_a8d1_11e9_a877_acbc3288e987row0_col1 {\n",
       "            background-color:  #3b4cc0;\n",
       "            color:  #f1f1f1;\n",
       "        }    #T_05b0790c_a8d1_11e9_a877_acbc3288e987row0_col2 {\n",
       "            background-color:  #3b4cc0;\n",
       "            color:  #f1f1f1;\n",
       "        }    #T_05b0790c_a8d1_11e9_a877_acbc3288e987row0_col3 {\n",
       "            background-color:  #3b4cc0;\n",
       "            color:  #f1f1f1;\n",
       "        }    #T_05b0790c_a8d1_11e9_a877_acbc3288e987row1_col0 {\n",
       "            background-color:  #6687ed;\n",
       "            color:  #000000;\n",
       "        }    #T_05b0790c_a8d1_11e9_a877_acbc3288e987row1_col1 {\n",
       "            background-color:  #b40426;\n",
       "            color:  #f1f1f1;\n",
       "        }    #T_05b0790c_a8d1_11e9_a877_acbc3288e987row1_col2 {\n",
       "            background-color:  #f7b89c;\n",
       "            color:  #000000;\n",
       "        }    #T_05b0790c_a8d1_11e9_a877_acbc3288e987row1_col3 {\n",
       "            background-color:  #3b4cc0;\n",
       "            color:  #f1f1f1;\n",
       "        }    #T_05b0790c_a8d1_11e9_a877_acbc3288e987row2_col0 {\n",
       "            background-color:  #3b4cc0;\n",
       "            color:  #f1f1f1;\n",
       "        }    #T_05b0790c_a8d1_11e9_a877_acbc3288e987row2_col1 {\n",
       "            background-color:  #f3c8b2;\n",
       "            color:  #000000;\n",
       "        }    #T_05b0790c_a8d1_11e9_a877_acbc3288e987row2_col2 {\n",
       "            background-color:  #b40426;\n",
       "            color:  #f1f1f1;\n",
       "        }    #T_05b0790c_a8d1_11e9_a877_acbc3288e987row2_col3 {\n",
       "            background-color:  #445acc;\n",
       "            color:  #f1f1f1;\n",
       "        }    #T_05b0790c_a8d1_11e9_a877_acbc3288e987row3_col0 {\n",
       "            background-color:  #6c8ff1;\n",
       "            color:  #000000;\n",
       "        }    #T_05b0790c_a8d1_11e9_a877_acbc3288e987row3_col1 {\n",
       "            background-color:  #4257c9;\n",
       "            color:  #f1f1f1;\n",
       "        }    #T_05b0790c_a8d1_11e9_a877_acbc3288e987row3_col2 {\n",
       "            background-color:  #7699f6;\n",
       "            color:  #000000;\n",
       "        }    #T_05b0790c_a8d1_11e9_a877_acbc3288e987row3_col3 {\n",
       "            background-color:  #b40426;\n",
       "            color:  #f1f1f1;\n",
       "        }</style><table id=\"T_05b0790c_a8d1_11e9_a877_acbc3288e987\" ><thead>    <tr>        <th class=\"blank level0\" ></th>        <th class=\"col_heading level0 col0\" >company_id</th>        <th class=\"col_heading level0 col1\" >seniority</th>        <th class=\"col_heading level0 col2\" >salary</th>        <th class=\"col_heading level0 col3\" >emp_duration</th>    </tr></thead><tbody>\n",
       "                <tr>\n",
       "                        <th id=\"T_05b0790c_a8d1_11e9_a877_acbc3288e987level0_row0\" class=\"row_heading level0 row0\" >company_id</th>\n",
       "                        <td id=\"T_05b0790c_a8d1_11e9_a877_acbc3288e987row0_col0\" class=\"data row0 col0\" >1</td>\n",
       "                        <td id=\"T_05b0790c_a8d1_11e9_a877_acbc3288e987row0_col1\" class=\"data row0 col1\" >-0.016</td>\n",
       "                        <td id=\"T_05b0790c_a8d1_11e9_a877_acbc3288e987row0_col2\" class=\"data row0 col2\" >-0.18</td>\n",
       "                        <td id=\"T_05b0790c_a8d1_11e9_a877_acbc3288e987row0_col3\" class=\"data row0 col3\" >0.0055</td>\n",
       "            </tr>\n",
       "            <tr>\n",
       "                        <th id=\"T_05b0790c_a8d1_11e9_a877_acbc3288e987level0_row1\" class=\"row_heading level0 row1\" >seniority</th>\n",
       "                        <td id=\"T_05b0790c_a8d1_11e9_a877_acbc3288e987row1_col0\" class=\"data row1 col0\" >-0.016</td>\n",
       "                        <td id=\"T_05b0790c_a8d1_11e9_a877_acbc3288e987row1_col1\" class=\"data row1 col1\" >1</td>\n",
       "                        <td id=\"T_05b0790c_a8d1_11e9_a877_acbc3288e987row1_col2\" class=\"data row1 col2\" >0.61</td>\n",
       "                        <td id=\"T_05b0790c_a8d1_11e9_a877_acbc3288e987row1_col3\" class=\"data row1 col3\" >0.0083</td>\n",
       "            </tr>\n",
       "            <tr>\n",
       "                        <th id=\"T_05b0790c_a8d1_11e9_a877_acbc3288e987level0_row2\" class=\"row_heading level0 row2\" >salary</th>\n",
       "                        <td id=\"T_05b0790c_a8d1_11e9_a877_acbc3288e987row2_col0\" class=\"data row2 col0\" >-0.18</td>\n",
       "                        <td id=\"T_05b0790c_a8d1_11e9_a877_acbc3288e987row2_col1\" class=\"data row2 col1\" >0.61</td>\n",
       "                        <td id=\"T_05b0790c_a8d1_11e9_a877_acbc3288e987row2_col2\" class=\"data row2 col2\" >1</td>\n",
       "                        <td id=\"T_05b0790c_a8d1_11e9_a877_acbc3288e987row2_col3\" class=\"data row2 col3\" >0.039</td>\n",
       "            </tr>\n",
       "            <tr>\n",
       "                        <th id=\"T_05b0790c_a8d1_11e9_a877_acbc3288e987level0_row3\" class=\"row_heading level0 row3\" >emp_duration</th>\n",
       "                        <td id=\"T_05b0790c_a8d1_11e9_a877_acbc3288e987row3_col0\" class=\"data row3 col0\" >0.0055</td>\n",
       "                        <td id=\"T_05b0790c_a8d1_11e9_a877_acbc3288e987row3_col1\" class=\"data row3 col1\" >0.0083</td>\n",
       "                        <td id=\"T_05b0790c_a8d1_11e9_a877_acbc3288e987row3_col2\" class=\"data row3 col2\" >0.039</td>\n",
       "                        <td id=\"T_05b0790c_a8d1_11e9_a877_acbc3288e987row3_col3\" class=\"data row3 col3\" >1</td>\n",
       "            </tr>\n",
       "    </tbody></table>"
      ],
      "text/plain": [
       "<pandas.io.formats.style.Styler at 0x1c1b435f28>"
      ]
     },
     "execution_count": 80,
     "metadata": {},
     "output_type": "execute_result"
    }
   ],
   "source": [
    "corr = perm.corr() # correlation matrix for all variables except department; ignore company id\n",
    "corr.style.background_gradient(cmap='coolwarm').set_precision(2)"
   ]
  },
  {
   "cell_type": "markdown",
   "metadata": {},
   "source": [
    "In terms of correlations across all the employee records, it appears that:\n",
    "\n",
    "- salaries are notably correlated with number of years of work experience when hired (not surprising); and\n",
    "- there is only a very low correlation for employment duration with seniority and with salary.\n",
    "\n",
    "I'll look at one more item -- whether there is anything obvious about _when_ people were hired and whether they stuck around for 2+ years."
   ]
  },
  {
   "cell_type": "code",
   "execution_count": 83,
   "metadata": {},
   "outputs": [],
   "source": [
    "perm.set_index(['join_date_clean'],inplace=True)"
   ]
  },
  {
   "cell_type": "code",
   "execution_count": 84,
   "metadata": {},
   "outputs": [
    {
     "data": {
      "text/html": [
       "<div>\n",
       "<style scoped>\n",
       "    .dataframe tbody tr th:only-of-type {\n",
       "        vertical-align: middle;\n",
       "    }\n",
       "\n",
       "    .dataframe tbody tr th {\n",
       "        vertical-align: top;\n",
       "    }\n",
       "\n",
       "    .dataframe thead th {\n",
       "        text-align: right;\n",
       "    }\n",
       "</style>\n",
       "<table border=\"1\" class=\"dataframe\">\n",
       "  <thead>\n",
       "    <tr style=\"text-align: right;\">\n",
       "      <th></th>\n",
       "      <th>company_id</th>\n",
       "      <th>dept</th>\n",
       "      <th>seniority</th>\n",
       "      <th>salary</th>\n",
       "      <th>quit_date_clean</th>\n",
       "      <th>emp_duration</th>\n",
       "    </tr>\n",
       "    <tr>\n",
       "      <th>join_date_clean</th>\n",
       "      <th></th>\n",
       "      <th></th>\n",
       "      <th></th>\n",
       "      <th></th>\n",
       "      <th></th>\n",
       "      <th></th>\n",
       "    </tr>\n",
       "  </thead>\n",
       "  <tbody>\n",
       "    <tr>\n",
       "      <th>2012-01-17</th>\n",
       "      <td>2</td>\n",
       "      <td>engineer</td>\n",
       "      <td>19</td>\n",
       "      <td>309000.0</td>\n",
       "      <td>NaT</td>\n",
       "      <td>3.9042</td>\n",
       "    </tr>\n",
       "    <tr>\n",
       "      <th>2012-03-05</th>\n",
       "      <td>3</td>\n",
       "      <td>engineer</td>\n",
       "      <td>24</td>\n",
       "      <td>265000.0</td>\n",
       "      <td>NaT</td>\n",
       "      <td>3.7728</td>\n",
       "    </tr>\n",
       "    <tr>\n",
       "      <th>2012-10-01</th>\n",
       "      <td>1</td>\n",
       "      <td>marketing</td>\n",
       "      <td>8</td>\n",
       "      <td>117000.0</td>\n",
       "      <td>NaT</td>\n",
       "      <td>3.1978</td>\n",
       "    </tr>\n",
       "    <tr>\n",
       "      <th>2011-05-31</th>\n",
       "      <td>1</td>\n",
       "      <td>sales</td>\n",
       "      <td>15</td>\n",
       "      <td>241000.0</td>\n",
       "      <td>2014-03-28</td>\n",
       "      <td>2.8255</td>\n",
       "    </tr>\n",
       "    <tr>\n",
       "      <th>2013-06-24</th>\n",
       "      <td>5</td>\n",
       "      <td>data_science</td>\n",
       "      <td>26</td>\n",
       "      <td>240000.0</td>\n",
       "      <td>NaT</td>\n",
       "      <td>2.4695</td>\n",
       "    </tr>\n",
       "  </tbody>\n",
       "</table>\n",
       "</div>"
      ],
      "text/plain": [
       "                 company_id          dept  seniority    salary  \\\n",
       "join_date_clean                                                  \n",
       "2012-01-17                2      engineer         19  309000.0   \n",
       "2012-03-05                3      engineer         24  265000.0   \n",
       "2012-10-01                1     marketing          8  117000.0   \n",
       "2011-05-31                1         sales         15  241000.0   \n",
       "2013-06-24                5  data_science         26  240000.0   \n",
       "\n",
       "                quit_date_clean  emp_duration  \n",
       "join_date_clean                                \n",
       "2012-01-17                  NaT        3.9042  \n",
       "2012-03-05                  NaT        3.7728  \n",
       "2012-10-01                  NaT        3.1978  \n",
       "2011-05-31           2014-03-28        2.8255  \n",
       "2013-06-24                  NaT        2.4695  "
      ]
     },
     "execution_count": 84,
     "metadata": {},
     "output_type": "execute_result"
    }
   ],
   "source": [
    "perm.head()"
   ]
  },
  {
   "cell_type": "code",
   "execution_count": 90,
   "metadata": {},
   "outputs": [
    {
     "data": {
      "text/plain": [
       "<matplotlib.axes._subplots.AxesSubplot at 0x1c18da0198>"
      ]
     },
     "execution_count": 90,
     "metadata": {},
     "output_type": "execute_result"
    },
    {
     "data": {
      "image/png": "[encoded data removed]",
      "text/plain": [
       "<Figure size 432x288 with 1 Axes>"
      ]
     },
     "metadata": {
      "needs_background": "light"
     },
     "output_type": "display_data"
    }
   ],
   "source": [
    "perm['emp_duration'].resample('Q').mean().plot(kind='bar')"
   ]
  },
  {
   "cell_type": "markdown",
   "metadata": {},
   "source": [
    "Looking at the data by quarterly periods, it seems that people hired in 2011 and into the first quarter of 2012 achieved higher mean employment duration than those hired later. Perhaps there was a change in the company during that time that affected employees' willingness to stay."
   ]
  },
  {
   "cell_type": "markdown",
   "metadata": {},
   "source": [
    "## Model Construction\n",
    "\n",
    "Finally, because the client wishes to be able to predict churn, I will construct a model for this purpose. In order to quickly and easily incorporate all the available data, I will use a random forest model. I will include all permanent employees, not just those with 2+ years employment, but I will add an indicator feature for those who make it to 2+ years. This can be my target feature for prediction."
   ]
  },
  {
   "cell_type": "code",
   "execution_count": 171,
   "metadata": {},
   "outputs": [],
   "source": [
    "from sklearn import preprocessing\n",
    "from sklearn.preprocessing import LabelEncoder, OneHotEncoder\n",
    "from sklearn.model_selection import train_test_split\n",
    "from sklearn import metrics\n",
    "from sklearn.model_selection import cross_val_score"
   ]
  },
  {
   "cell_type": "code",
   "execution_count": 155,
   "metadata": {},
   "outputs": [],
   "source": [
    "perm_all = work[(work.dept != 'temp_contractor')] "
   ]
  },
  {
   "cell_type": "code",
   "execution_count": 156,
   "metadata": {
    "collapsed": true
   },
   "outputs": [
    {
     "name": "stderr",
     "output_type": "stream",
     "text": [
      "/Users/ssivek/anaconda3/lib/python3.7/site-packages/ipykernel_launcher.py:1: SettingWithCopyWarning: \n",
      "A value is trying to be set on a copy of a slice from a DataFrame.\n",
      "Try using .loc[row_indexer,col_indexer] = value instead\n",
      "\n",
      "See the caveats in the documentation: http://pandas.pydata.org/pandas-docs/stable/indexing.html#indexing-view-versus-copy\n",
      "  \"\"\"Entry point for launching an IPython kernel.\n"
     ]
    }
   ],
   "source": [
    "perm_all['indicator'] = ''"
   ]
  },
  {
   "cell_type": "code",
   "execution_count": 157,
   "metadata": {
    "collapsed": true
   },
   "outputs": [
    {
     "name": "stderr",
     "output_type": "stream",
     "text": [
      "/Users/ssivek/anaconda3/lib/python3.7/site-packages/pandas/core/indexing.py:543: SettingWithCopyWarning: \n",
      "A value is trying to be set on a copy of a slice from a DataFrame.\n",
      "Try using .loc[row_indexer,col_indexer] = value instead\n",
      "\n",
      "See the caveats in the documentation: http://pandas.pydata.org/pandas-docs/stable/indexing.html#indexing-view-versus-copy\n",
      "  self.obj[item] = s\n"
     ]
    }
   ],
   "source": [
    "perm_all.loc[perm_all['emp_duration'] >= 2, 'indicator'] = 1\n",
    "perm_all.loc[perm_all['emp_duration'] < 2, 'indicator'] = 0"
   ]
  },
  {
   "cell_type": "code",
   "execution_count": 158,
   "metadata": {
    "collapsed": true
   },
   "outputs": [
    {
     "name": "stderr",
     "output_type": "stream",
     "text": [
      "/Users/ssivek/anaconda3/lib/python3.7/site-packages/ipykernel_launcher.py:1: SettingWithCopyWarning: \n",
      "A value is trying to be set on a copy of a slice from a DataFrame.\n",
      "Try using .loc[row_indexer,col_indexer] = value instead\n",
      "\n",
      "See the caveats in the documentation: http://pandas.pydata.org/pandas-docs/stable/indexing.html#indexing-view-versus-copy\n",
      "  \"\"\"Entry point for launching an IPython kernel.\n"
     ]
    }
   ],
   "source": [
    "perm_all['indicator'] = perm_all['indicator'].astype(int)"
   ]
  },
  {
   "cell_type": "code",
   "execution_count": 159,
   "metadata": {},
   "outputs": [
    {
     "data": {
      "text/plain": [
       "0    17163\n",
       "1     7298\n",
       "Name: indicator, dtype: int64"
      ]
     },
     "execution_count": 159,
     "metadata": {},
     "output_type": "execute_result"
    }
   ],
   "source": [
    "perm_all.indicator.value_counts()"
   ]
  },
  {
   "cell_type": "code",
   "execution_count": 161,
   "metadata": {},
   "outputs": [],
   "source": [
    "dummies = pd.get_dummies(perm_all.dept, drop_first=True) # dummy encoding for departments"
   ]
  },
  {
   "cell_type": "code",
   "execution_count": 162,
   "metadata": {},
   "outputs": [],
   "source": [
    "perm_all = perm_all.join(dummies) "
   ]
  },
  {
   "cell_type": "code",
   "execution_count": 163,
   "metadata": {},
   "outputs": [
    {
     "data": {
      "text/html": [
       "<div>\n",
       "<style scoped>\n",
       "    .dataframe tbody tr th:only-of-type {\n",
       "        vertical-align: middle;\n",
       "    }\n",
       "\n",
       "    .dataframe tbody tr th {\n",
       "        vertical-align: top;\n",
       "    }\n",
       "\n",
       "    .dataframe thead th {\n",
       "        text-align: right;\n",
       "    }\n",
       "</style>\n",
       "<table border=\"1\" class=\"dataframe\">\n",
       "  <thead>\n",
       "    <tr style=\"text-align: right;\">\n",
       "      <th></th>\n",
       "      <th>company_id</th>\n",
       "      <th>dept</th>\n",
       "      <th>seniority</th>\n",
       "      <th>salary</th>\n",
       "      <th>join_date_clean</th>\n",
       "      <th>quit_date_clean</th>\n",
       "      <th>emp_duration</th>\n",
       "      <th>indicator</th>\n",
       "      <th>data_science</th>\n",
       "      <th>design</th>\n",
       "      <th>engineer</th>\n",
       "      <th>marketing</th>\n",
       "      <th>sales</th>\n",
       "    </tr>\n",
       "  </thead>\n",
       "  <tbody>\n",
       "    <tr>\n",
       "      <th>1</th>\n",
       "      <td>8</td>\n",
       "      <td>design</td>\n",
       "      <td>21</td>\n",
       "      <td>191000.0</td>\n",
       "      <td>2011-05-17</td>\n",
       "      <td>2012-03-16</td>\n",
       "      <td>0.8323</td>\n",
       "      <td>0</td>\n",
       "      <td>0</td>\n",
       "      <td>1</td>\n",
       "      <td>0</td>\n",
       "      <td>0</td>\n",
       "      <td>0</td>\n",
       "    </tr>\n",
       "    <tr>\n",
       "      <th>7</th>\n",
       "      <td>7</td>\n",
       "      <td>data_science</td>\n",
       "      <td>7</td>\n",
       "      <td>140000.0</td>\n",
       "      <td>2011-12-27</td>\n",
       "      <td>2013-08-30</td>\n",
       "      <td>1.6756</td>\n",
       "      <td>0</td>\n",
       "      <td>1</td>\n",
       "      <td>0</td>\n",
       "      <td>0</td>\n",
       "      <td>0</td>\n",
       "      <td>0</td>\n",
       "    </tr>\n",
       "    <tr>\n",
       "      <th>8</th>\n",
       "      <td>10</td>\n",
       "      <td>data_science</td>\n",
       "      <td>16</td>\n",
       "      <td>238000.0</td>\n",
       "      <td>2013-12-23</td>\n",
       "      <td>NaT</td>\n",
       "      <td>1.9713</td>\n",
       "      <td>0</td>\n",
       "      <td>1</td>\n",
       "      <td>0</td>\n",
       "      <td>0</td>\n",
       "      <td>0</td>\n",
       "      <td>0</td>\n",
       "    </tr>\n",
       "    <tr>\n",
       "      <th>23</th>\n",
       "      <td>1</td>\n",
       "      <td>sales</td>\n",
       "      <td>19</td>\n",
       "      <td>179000.0</td>\n",
       "      <td>2011-09-19</td>\n",
       "      <td>2012-11-02</td>\n",
       "      <td>1.1225</td>\n",
       "      <td>0</td>\n",
       "      <td>0</td>\n",
       "      <td>0</td>\n",
       "      <td>0</td>\n",
       "      <td>0</td>\n",
       "      <td>1</td>\n",
       "    </tr>\n",
       "    <tr>\n",
       "      <th>34</th>\n",
       "      <td>2</td>\n",
       "      <td>engineer</td>\n",
       "      <td>19</td>\n",
       "      <td>309000.0</td>\n",
       "      <td>2012-01-17</td>\n",
       "      <td>NaT</td>\n",
       "      <td>3.9042</td>\n",
       "      <td>1</td>\n",
       "      <td>0</td>\n",
       "      <td>0</td>\n",
       "      <td>1</td>\n",
       "      <td>0</td>\n",
       "      <td>0</td>\n",
       "    </tr>\n",
       "  </tbody>\n",
       "</table>\n",
       "</div>"
      ],
      "text/plain": [
       "    company_id          dept  seniority    salary join_date_clean  \\\n",
       "1            8        design         21  191000.0      2011-05-17   \n",
       "7            7  data_science          7  140000.0      2011-12-27   \n",
       "8           10  data_science         16  238000.0      2013-12-23   \n",
       "23           1         sales         19  179000.0      2011-09-19   \n",
       "34           2      engineer         19  309000.0      2012-01-17   \n",
       "\n",
       "   quit_date_clean  emp_duration  indicator  data_science  design  engineer  \\\n",
       "1       2012-03-16        0.8323          0             0       1         0   \n",
       "7       2013-08-30        1.6756          0             1       0         0   \n",
       "8              NaT        1.9713          0             1       0         0   \n",
       "23      2012-11-02        1.1225          0             0       0         0   \n",
       "34             NaT        3.9042          1             0       0         1   \n",
       "\n",
       "    marketing  sales  \n",
       "1           0      0  \n",
       "7           0      0  \n",
       "8           0      0  \n",
       "23          0      1  \n",
       "34          0      0  "
      ]
     },
     "execution_count": 163,
     "metadata": {},
     "output_type": "execute_result"
    }
   ],
   "source": [
    "perm_all.head()"
   ]
  },
  {
   "cell_type": "markdown",
   "metadata": {},
   "source": [
    "## Random Forest"
   ]
  },
  {
   "cell_type": "code",
   "execution_count": 206,
   "metadata": {},
   "outputs": [],
   "source": [
    "from sklearn.ensemble import RandomForestClassifier # import necessary stuff"
   ]
  },
  {
   "cell_type": "code",
   "execution_count": 207,
   "metadata": {},
   "outputs": [],
   "source": [
    "rf = perm_all"
   ]
  },
  {
   "cell_type": "code",
   "execution_count": 208,
   "metadata": {},
   "outputs": [
    {
     "data": {
      "text/plain": [
       "Index(['company_id', 'dept', 'seniority', 'salary', 'join_date_clean',\n",
       "       'quit_date_clean', 'emp_duration', 'indicator', 'data_science',\n",
       "       'design', 'engineer', 'marketing', 'sales'],\n",
       "      dtype='object')"
      ]
     },
     "execution_count": 208,
     "metadata": {},
     "output_type": "execute_result"
    }
   ],
   "source": [
    "rf.columns"
   ]
  },
  {
   "cell_type": "code",
   "execution_count": 209,
   "metadata": {},
   "outputs": [],
   "source": [
    "# define features and target for model\n",
    "features = ['seniority', 'salary', 'data_science', 'design', 'engineer',\n",
    "       'marketing', 'sales'] # features for model\n",
    "X = rf[features]\n",
    "y = rf.indicator # target"
   ]
  },
  {
   "cell_type": "code",
   "execution_count": 210,
   "metadata": {},
   "outputs": [],
   "source": [
    "# Split dataset into training set and test set\n",
    "X_train, X_test, y_train, y_test = train_test_split(X, y, test_size=0.2, random_state = 42, stratify=y) # 80% training and 20% test"
   ]
  },
  {
   "cell_type": "code",
   "execution_count": 216,
   "metadata": {},
   "outputs": [],
   "source": [
    "#Create a Gaussian Classifier\n",
    "rand_for = RandomForestClassifier(n_estimators=100, class_weight='balanced')\n",
    "\n",
    "#Train the model using the training sets \n",
    "rand_for.fit(X_train,y_train)\n",
    "\n",
    "y_pred = rand_for.predict(X_test)"
   ]
  },
  {
   "cell_type": "code",
   "execution_count": 217,
   "metadata": {},
   "outputs": [],
   "source": [
    "def display_scores(rand_for): # use k-fold cross-validation to assess model, 10 folds\n",
    "        acc = cross_val_score(rand_for, X, y, cv=5, scoring='accuracy').mean()\n",
    "        prec = cross_val_score(rand_for, X, y, cv=5, scoring='precision').mean()\n",
    "        rec = cross_val_score(rand_for, X, y, cv=5, scoring='recall').mean()\n",
    "        print(\"5-fold cross validation scores:\")\n",
    "        print(\"Mean accuracy {}\".format(acc))\n",
    "        print(\"Mean precision {}\".format(prec))\n",
    "        print(\"Mean recall {}\".format(rec))"
   ]
  },
  {
   "cell_type": "code",
   "execution_count": 218,
   "metadata": {},
   "outputs": [
    {
     "name": "stdout",
     "output_type": "stream",
     "text": [
      "5-fold cross validation scores:\n",
      "Mean accuracy 0.5716871075779397\n",
      "Mean precision 0.30852221825172504\n",
      "Mean recall 0.34722112161641955\n"
     ]
    }
   ],
   "source": [
    "display_scores(rand_for)"
   ]
  },
  {
   "cell_type": "code",
   "execution_count": 219,
   "metadata": {},
   "outputs": [
    {
     "name": "stdout",
     "output_type": "stream",
     "text": [
      "Feature ranking:\n",
      "1. feature 1 (0.787062)\n",
      "2. feature 0 (0.202740)\n",
      "3. feature 6 (0.002336)\n",
      "4. feature 2 (0.002268)\n",
      "5. feature 4 (0.002260)\n",
      "6. feature 5 (0.001708)\n",
      "7. feature 3 (0.001626)\n"
     ]
    }
   ],
   "source": [
    "importances = rand_for.feature_importances_\n",
    "std = np.std([tree.feature_importances_ for tree in rand_for.estimators_],\n",
    "             axis=0)\n",
    "indices = np.argsort(importances)[::-1]\n",
    "\n",
    "# Print the feature ranking\n",
    "print(\"Feature ranking:\")\n",
    "\n",
    "for f in range(X.shape[1]):\n",
    "    print(\"%d. feature %d (%f)\" % (f + 1, indices[f], importances[indices[f]]))"
   ]
  },
  {
   "cell_type": "markdown",
   "metadata": {},
   "source": [
    "According to this ranking, the two most important features in predicting whether an employee stays 2+ years are: 1) salary and 2) seniority, followed by the various department dummy features at much lower levels of importance. Of course, salary and seniority were fairly highly correlated already (0.61).\n",
    "\n",
    "This model is not performing very well at all. While my model building could certainly use more time here, I think that -- given my findings during the exploration above -- the information provided is likely not capturing the important factors that affect employee churn among permanent employees. Salary appears to be correlated to seniority (experience at the time of hiring), but not to duration of employment, and seniority doesn't correlate with duration either. "
   ]
  },
  {
   "cell_type": "markdown",
   "metadata": {},
   "source": [
    "## Summary and Next Steps"
   ]
  },
  {
   "cell_type": "markdown",
   "metadata": {},
   "source": [
    "Given the likely limitations of the data provided as stated above, here are the most significant findings from this analysis:\n",
    "\n",
    "- seniority and salary are not strongly correlated to duration of employment\n",
    "- department does not appear to be strongly related either\n",
    "- employees hired earlier among those included in these data had a greater likelihood of making it to 2+ years of employment\n",
    "\n",
    "For next steps, I would suggest:\n",
    "\n",
    "- Attempt other models (K nearest neighbors or a decision tree?).\n",
    "- Gather additional data to add greater explanatory power (for example, age of employee at hire, gender, amount of training, performance review scores, type of position -- managerial, clerical, etc. -- and so forth)."
   ]
  },
  {
   "cell_type": "markdown",
   "metadata": {},
   "source": [
    "## JUST EXPERIMENTING MORE HERE, WAY OUT OF TIME"
   ]
  },
  {
   "cell_type": "markdown",
   "metadata": {},
   "source": [
    "## K Nearest Neighbors"
   ]
  },
  {
   "cell_type": "code",
   "execution_count": 262,
   "metadata": {},
   "outputs": [],
   "source": [
    "from sklearn.neighbors import KNeighborsClassifier\n",
    "\n",
    "kn = perm_all\n",
    "\n",
    "# define features and target for model\n",
    "features = ['seniority', 'salary', 'data_science', 'design', 'engineer',\n",
    "       'marketing', 'sales'] # features for model\n",
    "X = kn[features]\n",
    "y = kn.indicator # target"
   ]
  },
  {
   "cell_type": "code",
   "execution_count": 248,
   "metadata": {},
   "outputs": [],
   "source": [
    "# Split dataset into training set and test set\n",
    "X_train, X_test, y_train, y_test = train_test_split(X, y, test_size=0.2, random_state = 42, stratify=y) # 80% training and 20% test"
   ]
  },
  {
   "cell_type": "code",
   "execution_count": 256,
   "metadata": {},
   "outputs": [],
   "source": [
    "kn_model = KNeighborsClassifier(n_neighbors=7)\n",
    "\n",
    "# Train the model using the training sets\n",
    "kn_model.fit(X_train,y_train)\n",
    "\n",
    "y_pred = kn_model.predict(X_test)"
   ]
  },
  {
   "cell_type": "code",
   "execution_count": 271,
   "metadata": {},
   "outputs": [],
   "source": [
    "def display_scores(kn_model): # use k-fold cross-validation to assess model, 5 folds\n",
    "        acc = cross_val_score(kn_model, X, y, cv=5, scoring='accuracy').mean()\n",
    "        prec = cross_val_score(kn_model, X, y, cv=5, scoring='precision').mean()\n",
    "        rec = cross_val_score(kn_model, X, y, cv=5, scoring='recall').mean()\n",
    "        print(\"5-fold cross validation scores:\")\n",
    "        print(\"Mean accuracy {}\".format(acc))\n",
    "        print(\"Mean precision {}\".format(prec))\n",
    "        print(\"Mean recall {}\".format(rec))"
   ]
  },
  {
   "cell_type": "code",
   "execution_count": 272,
   "metadata": {},
   "outputs": [
    {
     "name": "stdout",
     "output_type": "stream",
     "text": [
      "5-fold cross validation scores:\n",
      "Mean accuracy 0.6545937238043174\n",
      "Mean precision 0.32429511279336054\n",
      "Mean recall 0.14538321424882872\n"
     ]
    }
   ],
   "source": [
    "display_scores(kn_model)"
   ]
  },
  {
   "cell_type": "markdown",
   "metadata": {},
   "source": [
    "## Decision Tree Classifier"
   ]
  },
  {
   "cell_type": "code",
   "execution_count": 267,
   "metadata": {},
   "outputs": [],
   "source": [
    "from sklearn.tree import DecisionTreeClassifier # import decision tree classifier"
   ]
  },
  {
   "cell_type": "code",
   "execution_count": 266,
   "metadata": {},
   "outputs": [],
   "source": [
    "dt_df = perm_all"
   ]
  },
  {
   "cell_type": "code",
   "execution_count": 341,
   "metadata": {},
   "outputs": [],
   "source": [
    "# define features and target for model\n",
    "features = ['seniority', 'salary', 'data_science', 'design', 'engineer', 'marketing', 'sales'] # features for model\n",
    "X = dt_df[features]\n",
    "y = dt_df.indicator # target"
   ]
  },
  {
   "cell_type": "code",
   "execution_count": 342,
   "metadata": {},
   "outputs": [],
   "source": [
    "# Split dataset into training set and test set\n",
    "X_train, X_test, y_train, y_test = train_test_split(X, y, test_size=0.2, random_state = 42, stratify=y) # 80% training and 20% test"
   ]
  },
  {
   "cell_type": "code",
   "execution_count": 343,
   "metadata": {},
   "outputs": [],
   "source": [
    "# create decision tree classifier\n",
    "# I have tinkered with different max_depth, splitter, and min_samples_split parameter values to improve metrics\n",
    "dec_tree = DecisionTreeClassifier(criterion=\"gini\", max_depth=None, splitter=\"best\", min_samples_split=50,\n",
    "                                 class_weight=\"balanced\")\n",
    "\n",
    "dec_tree = dec_tree.fit(X_train,y_train) # train classifier\n",
    "\n",
    "y_pred = dec_tree.predict(X_test) # generate predictions"
   ]
  },
  {
   "cell_type": "code",
   "execution_count": 344,
   "metadata": {},
   "outputs": [],
   "source": [
    "def display_scores(dec_tree): # use k-fold cross-validation to assess model, 5 folds\n",
    "        acc = cross_val_score(dec_tree, X, y, cv=5, scoring='accuracy').mean()\n",
    "        prec = cross_val_score(dec_tree, X, y, cv=5, scoring='precision').mean()\n",
    "        rec = cross_val_score(dec_tree, X, y, cv=5, scoring='recall').mean()\n",
    "        print(\"5-fold cross validation scores:\")\n",
    "        print(\"Mean accuracy {}\".format(acc))\n",
    "        print(\"Mean precision {}\".format(prec))\n",
    "        print(\"Mean recall {}\".format(rec))"
   ]
  },
  {
   "cell_type": "code",
   "execution_count": 345,
   "metadata": {},
   "outputs": [
    {
     "name": "stdout",
     "output_type": "stream",
     "text": [
      "5-fold cross validation scores:\n",
      "Mean accuracy 0.5212384279354093\n",
      "Mean precision 0.31178743127233216\n",
      "Mean recall 0.5009588102190466\n"
     ]
    }
   ],
   "source": [
    "display_scores(dec_tree)\n",
    "\n",
    "#5-fold cross validation scores: (best with all features)\n",
    "#Mean accuracy 0.5212794029399461\n",
    "#Mean precision 0.3118802080319974\n",
    "#Mean recall 0.5009588102190466"
   ]
  },
  {
   "cell_type": "code",
   "execution_count": 346,
   "metadata": {},
   "outputs": [
    {
     "data": {
      "text/plain": [
       "array([0.30881385, 0.57465213, 0.02301984, 0.02021055, 0.01880975,\n",
       "       0.02548147, 0.0290124 ])"
      ]
     },
     "execution_count": 346,
     "metadata": {},
     "output_type": "execute_result"
    }
   ],
   "source": [
    "dec_tree.feature_importances_"
   ]
  },
  {
   "cell_type": "code",
   "execution_count": null,
   "metadata": {},
   "outputs": [],
   "source": []
  }
 ],
 "metadata": {
  "kernelspec": {
   "display_name": "Python 3",
   "language": "python",
   "name": "python3"
  },
  "language_info": {
   "codemirror_mode": {
    "name": "ipython",
    "version": 3
   },
   "file_extension": ".py",
   "mimetype": "text/x-python",
   "name": "python",
   "nbconvert_exporter": "python",
   "pygments_lexer": "ipython3",
   "version": "3.7.3"
  }
 },
 "nbformat": 4,
 "nbformat_minor": 2
}
